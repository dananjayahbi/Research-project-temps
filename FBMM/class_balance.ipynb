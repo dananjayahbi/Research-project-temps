{
 "cells": [
  {
   "cell_type": "code",
   "execution_count": 47,
   "metadata": {},
   "outputs": [],
   "source": [
    "import os\n",
    "import shutil\n",
    "import uuid\n",
    "import torch\n",
    "import torch.nn as nn\n",
    "import numpy as np\n",
    "import seaborn as sns\n",
    "import matplotlib.pyplot as plt\n",
    "from torchvision import transforms\n",
    "from timm import create_model\n",
    "from tqdm import tqdm\n",
    "from PIL import Image"
   ]
  },
  {
   "cell_type": "code",
   "execution_count": 48,
   "metadata": {},
   "outputs": [],
   "source": [
    "# ⚠️ Manually update this path before running\n",
    "SURPRISE_INPUT_FOLDER = \"./Unsplitted_Ready_Sets/set_01_raw_mix/Surprise\"  # Replace with the actual path\n",
    "SURPRISE_OUTPUT_FOLDER = \"./Unsplitted_Ready_Sets/set_02_raw_class_balanced/Surprise\"  # Where selected images will be stored\n",
    "TARGET_IMAGE_COUNT = 7382  # Number of images to save\n",
    "\n",
    "# Model categories (Must match training order)\n",
    "MODEL_CATEGORIES = [\"Anger\", \"Contempt\", \"Disgust\", \"Fear\", \"Happy\", \"Neutral\", \"Sad\", \"Surprise\"]"
   ]
  },
  {
   "cell_type": "code",
   "execution_count": 39,
   "metadata": {},
   "outputs": [
    {
     "name": "stdout",
     "output_type": "stream",
     "text": [
      "✅ Using device: cuda\n"
     ]
    }
   ],
   "source": [
    "# Check if GPU is available\n",
    "device = torch.device(\"cuda\" if torch.cuda.is_available() else \"cpu\")\n",
    "print(f\"✅ Using device: {device}\")\n",
    "\n",
    "# Load Model\n",
    "MODEL_PATH = \"adaptive_efficientnetv2_rw_s_emotion_model.pth\"\n",
    "\n",
    "def load_model(model_path, num_classes=8):\n",
    "    print(\"🔄 Loading the trained EfficientNet-B2 model...\")\n",
    "    model = create_model('efficientnetv2_rw_s', pretrained=False, num_classes=num_classes, in_chans=1)\n",
    "    model.load_state_dict(torch.load(model_path, map_location=device))\n",
    "    model = model.to(device)\n",
    "    model.eval()\n",
    "    print(\"✅ Model loaded successfully!\")\n",
    "    return model"
   ]
  },
  {
   "cell_type": "code",
   "execution_count": 40,
   "metadata": {},
   "outputs": [
    {
     "name": "stdout",
     "output_type": "stream",
     "text": [
      "🔄 Loading the trained EfficientNet-B2 model...\n"
     ]
    },
    {
     "name": "stderr",
     "output_type": "stream",
     "text": [
      "C:\\Users\\Tuf\\AppData\\Local\\Temp\\ipykernel_14384\\2480567632.py:11: FutureWarning: You are using `torch.load` with `weights_only=False` (the current default value), which uses the default pickle module implicitly. It is possible to construct malicious pickle data which will execute arbitrary code during unpickling (See https://github.com/pytorch/pytorch/blob/main/SECURITY.md#untrusted-models for more details). In a future release, the default value for `weights_only` will be flipped to `True`. This limits the functions that could be executed during unpickling. Arbitrary objects will no longer be allowed to be loaded via this mode unless they are explicitly allowlisted by the user via `torch.serialization.add_safe_globals`. We recommend you start setting `weights_only=True` for any use case where you don't have full control of the loaded file. Please open an issue on GitHub for any issues related to this experimental feature.\n",
      "  model.load_state_dict(torch.load(model_path, map_location=device))\n"
     ]
    },
    {
     "name": "stdout",
     "output_type": "stream",
     "text": [
      "✅ Model loaded successfully!\n"
     ]
    }
   ],
   "source": [
    "# Define image transformation (grayscale processing)\n",
    "image_transform = transforms.Compose([\n",
    "    transforms.Grayscale(num_output_channels=1),\n",
    "    transforms.Resize((260, 260)),\n",
    "    transforms.ToTensor(),\n",
    "    transforms.Normalize(mean=[0.5], std=[0.5]),\n",
    "])\n",
    "\n",
    "# Load model\n",
    "model = load_model(MODEL_PATH)"
   ]
  },
  {
   "cell_type": "code",
   "execution_count": 41,
   "metadata": {},
   "outputs": [],
   "source": [
    "# Step 1: Create the output folder if it doesn't exist\n",
    "def initialize_output_folder():\n",
    "    if not os.path.exists(SURPRISE_OUTPUT_FOLDER):\n",
    "        os.makedirs(SURPRISE_OUTPUT_FOLDER)"
   ]
  },
  {
   "cell_type": "code",
   "execution_count": 49,
   "metadata": {},
   "outputs": [],
   "source": [
    "# Step 2: Process and filter only \"Surprise\" images\n",
    "def filter_top_surprise_images():\n",
    "    image_paths = [\n",
    "        os.path.join(SURPRISE_INPUT_FOLDER, file) for file in os.listdir(SURPRISE_INPUT_FOLDER)\n",
    "        if file.lower().endswith((\".jpg\", \".jpeg\", \".png\"))\n",
    "    ]\n",
    "\n",
    "    print(f\"📂 Processing {len(image_paths)} Surprise images...\")\n",
    "\n",
    "    confidence_scores = []  # Store confidence scores for ranking\n",
    "\n",
    "    # Step 2.1: Process all images and collect confidence scores\n",
    "    with tqdm(total=len(image_paths), desc=\"Analyzing Surprise\") as pbar:\n",
    "        for img_path in image_paths:\n",
    "            try:\n",
    "                # Load and process the image\n",
    "                img = Image.open(img_path).convert(\"L\")  \n",
    "                input_tensor = image_transform(img).unsqueeze(0).to(device)\n",
    "\n",
    "                # Get model prediction\n",
    "                with torch.no_grad():\n",
    "                    output = model(input_tensor)\n",
    "                    probabilities = torch.nn.functional.softmax(output, dim=1)\n",
    "                    confidence, predicted = torch.max(probabilities, 1)\n",
    "\n",
    "                predicted_emotion = MODEL_CATEGORIES[predicted.item()]\n",
    "                confidence_value = confidence.item()\n",
    "\n",
    "                # If predicted as \"Surprise\", store it for ranking\n",
    "                if predicted_emotion == \"Surprise\":\n",
    "                    confidence_scores.append((img_path, confidence_value))\n",
    "\n",
    "                pbar.update(1)  # Update progress bar\n",
    "\n",
    "            except Exception as e:\n",
    "                print(f\"⚠️ Error processing {img_path}: {e}\")\n",
    "                pbar.update(1)  # Ensure progress bar continues\n",
    "\n",
    "    # Step 2.2: Sort by confidence (Descending order)\n",
    "    confidence_scores.sort(key=lambda x: x[1], reverse=True)\n",
    "\n",
    "    # Step 2.3: Select the top 7382 most confident images\n",
    "    selected_images = confidence_scores[:TARGET_IMAGE_COUNT]\n",
    "\n",
    "    print(f\"\\n✅ Selected {len(selected_images)} highest confidence 'Surprise' images.\")\n",
    "\n",
    "    # Step 2.4: Save the selected images\n",
    "    with tqdm(total=len(selected_images), desc=\"Saving Top Surprise Images\") as pbar:\n",
    "        for img_path, conf in selected_images:\n",
    "            try:\n",
    "                unique_name = str(uuid.uuid4())[:8] + \"_\" + os.path.basename(img_path)\n",
    "                target_path = os.path.join(SURPRISE_OUTPUT_FOLDER, unique_name)\n",
    "                shutil.copy(img_path, target_path)\n",
    "                pbar.update(1)\n",
    "            except Exception as e:\n",
    "                print(f\"⚠️ Error copying {img_path}: {e}\")\n",
    "                pbar.update(1)\n",
    "\n",
    "    # Generate and show the confidence distribution plot\n",
    "    plot_confidence_distribution([conf for _, conf in confidence_scores])\n",
    "\n",
    "    print(f\"\\n✅ Processing completed! Saved {len(selected_images)} 'Surprise' images to: {SURPRISE_OUTPUT_FOLDER}\")\n",
    "\n",
    "# Step 3: Plot Confidence Distribution\n",
    "def plot_confidence_distribution(confidence_scores):\n",
    "    if not confidence_scores:\n",
    "        print(\"⚠️ No valid confidence scores to plot.\")\n",
    "        return\n",
    "\n",
    "    plt.figure(figsize=(10, 5))\n",
    "    sns.histplot(confidence_scores, bins=30, kde=True, color=\"blue\")\n",
    "    plt.xlabel(\"Confidence Score\")\n",
    "    plt.ylabel(\"Frequency\")\n",
    "    plt.title(\"Confidence Distribution for Surprise Predictions\")\n",
    "    plt.grid()\n",
    "    plt.show()"
   ]
  },
  {
   "cell_type": "code",
   "execution_count": 50,
   "metadata": {},
   "outputs": [
    {
     "name": "stdout",
     "output_type": "stream",
     "text": [
      "📂 Processing 9198 Surprise images...\n"
     ]
    },
    {
     "name": "stderr",
     "output_type": "stream",
     "text": [
      "Analyzing Surprise: 100%|██████████| 9198/9198 [10:08<00:00, 15.11it/s]\n"
     ]
    },
    {
     "name": "stdout",
     "output_type": "stream",
     "text": [
      "\n",
      "✅ Selected 7382 highest confidence 'Surprise' images.\n"
     ]
    },
    {
     "name": "stderr",
     "output_type": "stream",
     "text": [
      "Saving Top Surprise Images: 100%|██████████| 7382/7382 [00:09<00:00, 787.00it/s]\n"
     ]
    },
    {
     "data": {
      "image/png": "[encoded data removed]",
      "text/plain": [
       "<Figure size 1000x500 with 1 Axes>"
      ]
     },
     "metadata": {},
     "output_type": "display_data"
    },
    {
     "name": "stdout",
     "output_type": "stream",
     "text": [
      "\n",
      "✅ Processing completed! Saved 7382 'Surprise' images to: ./Unsplitted_Ready_Sets/set_02_raw_class_balanced/Surprise\n"
     ]
    }
   ],
   "source": [
    "# Run the script\n",
    "if __name__ == \"__main__\":\n",
    "    initialize_output_folder()\n",
    "    filter_top_surprise_images()"
   ]
  }
 ],
 "metadata": {
  "kernelspec": {
   "display_name": "DeepLearn",
   "language": "python",
   "name": "python3"
  },
  "language_info": {
   "codemirror_mode": {
    "name": "ipython",
    "version": 3
   },
   "file_extension": ".py",
   "mimetype": "text/x-python",
   "name": "python",
   "nbconvert_exporter": "python",
   "pygments_lexer": "ipython3",
   "version": "3.9.20"
  }
 },
 "nbformat": 4,
 "nbformat_minor": 2
}
