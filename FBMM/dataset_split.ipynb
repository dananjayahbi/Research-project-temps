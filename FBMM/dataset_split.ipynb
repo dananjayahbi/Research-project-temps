{
 "cells": [
  {
   "cell_type": "code",
   "execution_count": 1,
   "metadata": {},
   "outputs": [],
   "source": [
    "import os\n",
    "import shutil\n",
    "import random\n",
    "from tqdm import tqdm"
   ]
  },
  {
   "cell_type": "code",
   "execution_count": 2,
   "metadata": {},
   "outputs": [],
   "source": [
    "# ⚠️ Set these paths manually before running\n",
    "INPUT_DATASET_FOLDER = \"./Unsplitted_Ready_Sets/set_01_class_balanced_augs_applied\"  # Path to the full dataset\n",
    "OUTPUT_DATASET_FOLDER = \"./Unsplitted_Ready_Sets/set_01_class_balanced_augs_applied_splitted\"  # Path to store train, val, test splits\n",
    "\n",
    "# Emotion categories (Folder names must match)\n",
    "EMOTION_CATEGORIES = [\"Angry\", \"Disgust\", \"Fear\", \"Happy\", \"Neutral\", \"Sad\", \"Surprise\"]\n",
    "\n",
    "# Splitting Ratios\n",
    "TRAIN_RATIO = 0.80  # 80% for training\n",
    "VAL_RATIO = 0.10    # 10% for validation\n",
    "TEST_RATIO = 0.10   # 10% for testing\n",
    "\n",
    "# Set random seed for reproducibility\n",
    "random.seed(42)"
   ]
  },
  {
   "cell_type": "code",
   "execution_count": 3,
   "metadata": {},
   "outputs": [],
   "source": [
    "# Step 1: Create output directories\n",
    "def initialize_output_folders():\n",
    "    for split in [\"train\", \"val\", \"test\"]:\n",
    "        split_folder = os.path.join(OUTPUT_DATASET_FOLDER, split)\n",
    "        if not os.path.exists(split_folder):\n",
    "            os.makedirs(split_folder)\n",
    "\n",
    "        # Create subfolders for each emotion class\n",
    "        for emotion in EMOTION_CATEGORIES:\n",
    "            class_folder = os.path.join(split_folder, emotion)\n",
    "            if not os.path.exists(class_folder):\n",
    "                os.makedirs(class_folder)"
   ]
  },
  {
   "cell_type": "code",
   "execution_count": 4,
   "metadata": {},
   "outputs": [],
   "source": [
    "# Step 2: Split dataset and distribute images\n",
    "def split_dataset():\n",
    "    for emotion_category in EMOTION_CATEGORIES:\n",
    "        source_folder = os.path.join(INPUT_DATASET_FOLDER, emotion_category)\n",
    "\n",
    "        # Check if source folder exists\n",
    "        if not os.path.exists(source_folder):\n",
    "            print(f\"❌ Skipping {emotion_category}: No such folder in dataset.\")\n",
    "            continue\n",
    "\n",
    "        # Get all images in the category folder\n",
    "        image_paths = [\n",
    "            os.path.join(source_folder, file) for file in os.listdir(source_folder)\n",
    "            if file.lower().endswith((\".jpg\", \".jpeg\", \".png\"))\n",
    "        ]\n",
    "\n",
    "        # Shuffle images for randomness\n",
    "        random.shuffle(image_paths)\n",
    "\n",
    "        # Compute split sizes\n",
    "        total_images = len(image_paths)\n",
    "        train_count = int(total_images * TRAIN_RATIO)\n",
    "        val_count = int(total_images * VAL_RATIO)\n",
    "        test_count = total_images - train_count - val_count  # Remaining images for test\n",
    "\n",
    "        # Split the images\n",
    "        train_images = image_paths[:train_count]\n",
    "        val_images = image_paths[train_count:train_count + val_count]\n",
    "        test_images = image_paths[train_count + val_count:]\n",
    "\n",
    "        # Move images to respective directories\n",
    "        for split, split_images in zip([\"train\", \"val\", \"test\"], [train_images, val_images, test_images]):\n",
    "            target_folder = os.path.join(OUTPUT_DATASET_FOLDER, split, emotion_category)\n",
    "\n",
    "            with tqdm(total=len(split_images), desc=f\"Copying {emotion_category} -> {split}\") as pbar:\n",
    "                for img_path in split_images:\n",
    "                    shutil.copy(img_path, os.path.join(target_folder, os.path.basename(img_path)))\n",
    "                    pbar.update(1)\n",
    "\n",
    "    print(\"\\n✅ Dataset splitting completed!\")"
   ]
  },
  {
   "cell_type": "code",
   "execution_count": 5,
   "metadata": {},
   "outputs": [
    {
     "name": "stderr",
     "output_type": "stream",
     "text": [
      "Copying Angry -> train: 100%|██████████| 17716/17716 [12:41<00:00, 23.27it/s] \n",
      "Copying Angry -> val: 100%|██████████| 2214/2214 [01:20<00:00, 27.63it/s]\n",
      "Copying Angry -> test: 100%|██████████| 2216/2216 [01:32<00:00, 23.98it/s]\n",
      "Copying Disgust -> train: 100%|██████████| 17716/17716 [13:33<00:00, 21.79it/s] \n",
      "Copying Disgust -> val: 100%|██████████| 2214/2214 [01:40<00:00, 22.00it/s]\n",
      "Copying Disgust -> test: 100%|██████████| 2216/2216 [01:33<00:00, 23.72it/s]\n",
      "Copying Fear -> train: 100%|██████████| 17716/17716 [13:15<00:00, 22.26it/s] \n",
      "Copying Fear -> val: 100%|██████████| 2214/2214 [01:26<00:00, 25.66it/s]\n",
      "Copying Fear -> test: 100%|██████████| 2216/2216 [01:24<00:00, 26.23it/s]\n",
      "Copying Happy -> train: 100%|██████████| 17716/17716 [12:31<00:00, 23.58it/s]\n",
      "Copying Happy -> val: 100%|██████████| 2214/2214 [01:19<00:00, 27.69it/s]\n",
      "Copying Happy -> test: 100%|██████████| 2216/2216 [01:19<00:00, 27.89it/s]\n",
      "Copying Neutral -> train: 100%|██████████| 17716/17716 [11:16<00:00, 26.17it/s]\n",
      "Copying Neutral -> val: 100%|██████████| 2214/2214 [01:17<00:00, 28.51it/s]\n",
      "Copying Neutral -> test: 100%|██████████| 2216/2216 [01:16<00:00, 29.01it/s]\n",
      "Copying Sad -> train: 100%|██████████| 17716/17716 [12:51<00:00, 22.98it/s] \n",
      "Copying Sad -> val: 100%|██████████| 2214/2214 [01:24<00:00, 26.26it/s]\n",
      "Copying Sad -> test: 100%|██████████| 2216/2216 [01:27<00:00, 25.41it/s]\n",
      "Copying Surprise -> train: 100%|██████████| 17716/17716 [13:38<00:00, 21.65it/s] \n",
      "Copying Surprise -> val: 100%|██████████| 2214/2214 [01:25<00:00, 25.85it/s]\n",
      "Copying Surprise -> test: 100%|██████████| 2216/2216 [01:32<00:00, 23.99it/s]"
     ]
    },
    {
     "name": "stdout",
     "output_type": "stream",
     "text": [
      "\n",
      "✅ Dataset splitting completed!\n",
      "\n",
      "✅ Splitted dataset is stored in: ./Unsplitted_Ready_Sets/set_01_class_balanced_augs_applied_splitted\n"
     ]
    },
    {
     "name": "stderr",
     "output_type": "stream",
     "text": [
      "\n"
     ]
    }
   ],
   "source": [
    "# Run the script\n",
    "if __name__ == \"__main__\":\n",
    "    initialize_output_folders()\n",
    "    split_dataset()\n",
    "\n",
    "    print(f\"\\n✅ Splitted dataset is stored in: {OUTPUT_DATASET_FOLDER}\")"
   ]
  }
 ],
 "metadata": {
  "kernelspec": {
   "display_name": "DeepLearn",
   "language": "python",
   "name": "python3"
  },
  "language_info": {
   "codemirror_mode": {
    "name": "ipython",
    "version": 3
   },
   "file_extension": ".py",
   "mimetype": "text/x-python",
   "name": "python",
   "nbconvert_exporter": "python",
   "pygments_lexer": "ipython3",
   "version": "3.9.20"
  }
 },
 "nbformat": 4,
 "nbformat_minor": 2
}
