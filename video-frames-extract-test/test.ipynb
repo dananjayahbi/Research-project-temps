{
 "cells": [
  {
   "cell_type": "code",
   "execution_count": null,
   "metadata": {
    "vscode": {
     "languageId": "plaintext"
    }
   },
   "outputs": [],
   "source": [
    "import cv2\n",
    "import os\n",
    "\n",
    "# Function to extract frames from a video\n",
    "def extract_frames(video_path, output_dir, frame_skip=1):\n",
    "    \"\"\"\n",
    "    Extract frames from a video and save them as image files.\n",
    "\n",
    "    Parameters:\n",
    "        video_path (str): Path to the input video file.\n",
    "        output_dir (str): Directory to save the extracted frames.\n",
    "        frame_skip (int): Number of frames to skip before extracting the next frame.\n",
    "    \"\"\"\n",
    "    # Ensure output directory exists\n",
    "    if not os.path.exists(output_dir):\n",
    "        os.makedirs(output_dir)\n",
    "    \n",
    "    # Open the video file\n",
    "    cap = cv2.VideoCapture(video_path)\n",
    "    if not cap.isOpened():\n",
    "        print(\"Error: Cannot open video file.\")\n",
    "        return\n",
    "    \n",
    "    frame_count = int(cap.get(cv2.CAP_PROP_FRAME_COUNT))\n",
    "    print(f\"Total frames in video: {frame_count}\")\n",
    "    \n",
    "    frame_idx = 0\n",
    "    extracted_count = 0\n",
    "    \n",
    "    while True:\n",
    "        ret, frame = cap.read()\n",
    "        if not ret:\n",
    "            break  # End of video\n",
    "        \n",
    "        # Save the frame if it's the right interval\n",
    "        if frame_idx % frame_skip == 0:\n",
    "            output_path = os.path.join(output_dir, f\"frame_{frame_idx:06d}.jpg\")\n",
    "            cv2.imwrite(output_path, frame)\n",
    "            extracted_count += 1\n",
    "        \n",
    "        frame_idx += 1\n",
    "    \n",
    "    cap.release()\n",
    "    print(f\"Extracted {extracted_count} frames and saved to {output_dir}.\")\n",
    "\n",
    "# Example usage\n",
    "video_path = \"v1.mp4\"  # Path to your video file\n",
    "output_dir = \"extracted_frames\"  # Directory to save frames\n",
    "frame_skip = 30  # Extract one frame every 30 frames\n",
    "\n",
    "extract_frames(video_path, output_dir, frame_skip)\n"
   ]
  }
 ],
 "metadata": {
  "language_info": {
   "name": "python"
  }
 },
 "nbformat": 4,
 "nbformat_minor": 2
}
