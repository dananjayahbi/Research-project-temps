{
 "cells": [
  {
   "cell_type": "code",
   "execution_count": 46,
   "metadata": {},
   "outputs": [],
   "source": [
    "import os\n",
    "import random\n",
    "from PIL import Image\n",
    "import torch\n",
    "from torchvision import transforms\n",
    "from torch.utils.data import Dataset\n",
    "from tqdm import tqdm"
   ]
  },
  {
   "cell_type": "code",
   "execution_count": 47,
   "metadata": {},
   "outputs": [
    {
     "name": "stdout",
     "output_type": "stream",
     "text": [
      "Using device: cuda\n"
     ]
    }
   ],
   "source": [
    "# Check for CUDA availability\n",
    "device = torch.device(\"cuda\" if torch.cuda.is_available() else \"cpu\")\n",
    "print(f\"Using device: {device}\")"
   ]
  },
  {
   "cell_type": "code",
   "execution_count": 40,
   "metadata": {},
   "outputs": [],
   "source": [
    "# Define transformations\n",
    "transform_base = transforms.Compose([\n",
    "    transforms.Resize((224, 224)),\n",
    "    transforms.ToTensor(),\n",
    "    transforms.Normalize(mean=[0.485, 0.456, 0.406], std=[0.229, 0.224, 0.225])\n",
    "])\n",
    "\n",
    "transform_augment = transforms.Compose([\n",
    "    transforms.Resize((224, 224)),\n",
    "    transforms.RandomHorizontalFlip(p=1.0),\n",
    "    transforms.ToTensor(),\n",
    "    transforms.Normalize(mean=[0.485, 0.456, 0.406], std=[0.229, 0.224, 0.225])\n",
    "])"
   ]
  },
  {
   "cell_type": "code",
   "execution_count": 41,
   "metadata": {},
   "outputs": [],
   "source": [
    "# Denormalization function\n",
    "def denormalize(image_tensor):\n",
    "    \"\"\"\n",
    "    Reverses the normalization applied during preprocessing.\n",
    "    Args:\n",
    "        image_tensor: A normalized PyTorch tensor.\n",
    "    Returns:\n",
    "        A denormalized PyTorch tensor.\n",
    "    \"\"\"\n",
    "    mean = torch.tensor([0.485, 0.456, 0.406]).view(1, 3, 1, 1).to(image_tensor.device)\n",
    "    std = torch.tensor([0.229, 0.224, 0.225]).view(1, 3, 1, 1).to(image_tensor.device)\n",
    "    return image_tensor * std + mean"
   ]
  },
  {
   "cell_type": "code",
   "execution_count": 42,
   "metadata": {},
   "outputs": [],
   "source": [
    "# Custom Dataset Class\n",
    "class AffectNetDataset(Dataset):\n",
    "    def __init__(self, root_dir, transform=None, augment_classes=None, target_count=5000):\n",
    "        self.root_dir = root_dir\n",
    "        self.transform = transform\n",
    "        self.augment_classes = augment_classes or []\n",
    "        self.target_count = target_count\n",
    "        self.image_paths = []\n",
    "        self.labels = []\n",
    "\n",
    "        # Load data\n",
    "        for label in os.listdir(root_dir):\n",
    "            class_path = os.path.join(root_dir, label)\n",
    "            if os.path.isdir(class_path):\n",
    "                images = [os.path.join(class_path, img) for img in os.listdir(class_path) if img.endswith(('.png', '.jpg', '.jpeg'))]\n",
    "                self.image_paths.extend(images)\n",
    "                self.labels.extend([int(label)] * len(images))\n",
    "        \n",
    "        # Augment classes if needed\n",
    "        self._augment_data()\n",
    "\n",
    "    def _augment_data(self):\n",
    "        for label in self.augment_classes:\n",
    "            class_indices = [i for i, lbl in enumerate(self.labels) if lbl == label]\n",
    "            current_count = len(class_indices)\n",
    "            if current_count < self.target_count:\n",
    "                augment_count = self.target_count - current_count\n",
    "                selected_indices = random.choices(class_indices, k=augment_count)\n",
    "                for idx in selected_indices:\n",
    "                    self.image_paths.append(self.image_paths[idx])\n",
    "                    self.labels.append(self.labels[idx])\n",
    "    \n",
    "    def __len__(self):\n",
    "        return len(self.image_paths)\n",
    "    \n",
    "    def __getitem__(self, idx):\n",
    "        img_path = self.image_paths[idx]\n",
    "        label = self.labels[idx]\n",
    "        image = Image.open(img_path).convert(\"RGB\")\n",
    "\n",
    "        if self.transform:\n",
    "            image = self.transform(image)\n",
    "\n",
    "        return image, label"
   ]
  },
  {
   "cell_type": "code",
   "execution_count": 44,
   "metadata": {},
   "outputs": [],
   "source": [
    "# Paths\n",
    "dataset_root = \"AffectNet\"  # Replace with your dataset path\n",
    "output_root = \"AffOut\"  # Replace with your output path\n",
    "temp_output_root = \"AffTemp\"  # Replace with your temp output path\n",
    "os.makedirs(output_root, exist_ok=True)\n",
    "os.makedirs(temp_output_root, exist_ok=True)"
   ]
  },
  {
   "cell_type": "code",
   "execution_count": 45,
   "metadata": {},
   "outputs": [
    {
     "name": "stdout",
     "output_type": "stream",
     "text": [
      "Running test attempt for all splits...\n",
      "Processing train split (Test Attempt)...\n"
     ]
    },
    {
     "name": "stderr",
     "output_type": "stream",
     "text": [
      "Processing train: 100%|██████████| 40/40 [00:00<00:00, 87.82image/s]\n"
     ]
    },
    {
     "name": "stdout",
     "output_type": "stream",
     "text": [
      "train split (Test Attempt) complete!\n",
      "Processing val split (Test Attempt)...\n"
     ]
    },
    {
     "name": "stderr",
     "output_type": "stream",
     "text": [
      "Processing val: 100%|██████████| 40/40 [00:00<00:00, 93.72image/s]\n"
     ]
    },
    {
     "name": "stdout",
     "output_type": "stream",
     "text": [
      "val split (Test Attempt) complete!\n",
      "Processing test split (Test Attempt)...\n"
     ]
    },
    {
     "name": "stderr",
     "output_type": "stream",
     "text": [
      "Processing test: 100%|██████████| 40/40 [00:00<00:00, 82.69image/s] \n"
     ]
    },
    {
     "name": "stdout",
     "output_type": "stream",
     "text": [
      "test split (Test Attempt) complete!\n",
      "Test attempt successful. Starting full preprocessing...\n",
      "Processing train split...\n"
     ]
    },
    {
     "name": "stderr",
     "output_type": "stream",
     "text": [
      "Processing train: 100%|██████████| 40000/40000 [06:31<00:00, 102.08image/s]\n"
     ]
    },
    {
     "name": "stdout",
     "output_type": "stream",
     "text": [
      "train split complete!\n",
      "Processing val split...\n"
     ]
    },
    {
     "name": "stderr",
     "output_type": "stream",
     "text": [
      "Processing val: 100%|██████████| 800/800 [00:08<00:00, 99.67image/s] \n"
     ]
    },
    {
     "name": "stdout",
     "output_type": "stream",
     "text": [
      "val split complete!\n",
      "Processing test split...\n"
     ]
    },
    {
     "name": "stderr",
     "output_type": "stream",
     "text": [
      "Processing test: 100%|██████████| 3200/3200 [00:31<00:00, 101.03image/s]"
     ]
    },
    {
     "name": "stdout",
     "output_type": "stream",
     "text": [
      "test split complete!\n",
      "Data preprocessing complete!\n"
     ]
    },
    {
     "name": "stderr",
     "output_type": "stream",
     "text": [
      "\n"
     ]
    }
   ],
   "source": [
    "# Dataset Preparation\n",
    "data_splits = [\"train\", \"val\", \"test\"]\n",
    "augment_classes = [1, 7]  # Disgust and Contempt\n",
    "target_count = 5000\n",
    "\n",
    "def process_split(split, output_dir, test_attempt=False):\n",
    "    split_dir = os.path.join(dataset_root, split)\n",
    "    output_split_dir = os.path.join(output_dir, split)\n",
    "    os.makedirs(output_split_dir, exist_ok=True)\n",
    "\n",
    "    dataset = AffectNetDataset(\n",
    "        root_dir=split_dir,\n",
    "        transform=transform_base if split != \"train\" else transform_augment,\n",
    "        augment_classes=augment_classes if split == \"train\" else None,\n",
    "        target_count=target_count\n",
    "    )\n",
    "    \n",
    "    for label in range(8):\n",
    "        label_dir = os.path.join(output_split_dir, str(label))\n",
    "        os.makedirs(label_dir, exist_ok=True)\n",
    "\n",
    "    print(f\"Processing {split} split{' (Test Attempt)' if test_attempt else ''}...\")\n",
    "    with tqdm(total=len(dataset) if not test_attempt else 8 * 5, desc=f\"Processing {split}\", unit=\"image\") as pbar:\n",
    "        processed = 0\n",
    "        for idx, (image, label) in enumerate(dataset):\n",
    "            try:\n",
    "                if test_attempt and processed >= 5 * 8:  # 5 images per folder for test\n",
    "                    break\n",
    "\n",
    "                # Move the tensor to the GPU and process it\n",
    "                image_tensor = image.to(device)\n",
    "\n",
    "                # Denormalize before saving\n",
    "                image_tensor = denormalize(image_tensor.unsqueeze(0)).squeeze(0)\n",
    "                pil_image = transforms.ToPILImage()(image_tensor.cpu())\n",
    "\n",
    "                # Save the image\n",
    "                label_dir = os.path.join(output_split_dir, str(label))\n",
    "                output_path = os.path.join(label_dir, f\"{split}_{idx}.jpg\")\n",
    "                pil_image.save(output_path)\n",
    "\n",
    "                processed += 1\n",
    "                pbar.update(1)\n",
    "\n",
    "            except Exception as e:\n",
    "                print(f\"Error processing image {idx} in {split} split: {e}\")\n",
    "                pbar.close()\n",
    "                raise e\n",
    "\n",
    "    print(f\"{split} split{' (Test Attempt)' if test_attempt else ''} complete!\")\n",
    "\n",
    "# Run Test Attempt\n",
    "print(\"Running test attempt for all splits...\")\n",
    "for split in data_splits:\n",
    "    process_split(split, temp_output_root, test_attempt=True)\n",
    "\n",
    "# If test attempt succeeds, process the full dataset\n",
    "print(\"Test attempt successful. Starting full preprocessing...\")\n",
    "for split in data_splits:\n",
    "    process_split(split, output_root, test_attempt=False)\n",
    "\n",
    "print(\"Data preprocessing complete!\")"
   ]
  }
 ],
 "metadata": {
  "kernelspec": {
   "display_name": "Python 3",
   "language": "python",
   "name": "python3"
  },
  "language_info": {
   "codemirror_mode": {
    "name": "ipython",
    "version": 3
   },
   "file_extension": ".py",
   "mimetype": "text/x-python",
   "name": "python",
   "nbconvert_exporter": "python",
   "pygments_lexer": "ipython3",
   "version": "3.12.3"
  }
 },
 "nbformat": 4,
 "nbformat_minor": 2
}
