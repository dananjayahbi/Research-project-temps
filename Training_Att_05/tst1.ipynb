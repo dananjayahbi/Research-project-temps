{
 "cells": [
  {
   "cell_type": "code",
   "execution_count": 1,
   "metadata": {},
   "outputs": [
    {
     "name": "stderr",
     "output_type": "stream",
     "text": [
      "c:\\Users\\Tuf\\AppData\\Local\\Programs\\Python\\Python312\\Lib\\site-packages\\tqdm\\auto.py:21: TqdmWarning: IProgress not found. Please update jupyter and ipywidgets. See https://ipywidgets.readthedocs.io/en/stable/user_install.html\n",
      "  from .autonotebook import tqdm as notebook_tqdm\n"
     ]
    },
    {
     "name": "stdout",
     "output_type": "stream",
     "text": [
      "Using device: cuda\n",
      "Loading test dataset...\n",
      "Test dataset loaded.\n",
      "Loading the saved model...\n"
     ]
    },
    {
     "name": "stderr",
     "output_type": "stream",
     "text": [
      "C:\\Users\\Tuf\\AppData\\Local\\Temp\\ipykernel_11148\\1202509668.py:41: FutureWarning: You are using `torch.load` with `weights_only=False` (the current default value), which uses the default pickle module implicitly. It is possible to construct malicious pickle data which will execute arbitrary code during unpickling (See https://github.com/pytorch/pytorch/blob/main/SECURITY.md#untrusted-models for more details). In a future release, the default value for `weights_only` will be flipped to `True`. This limits the functions that could be executed during unpickling. Arbitrary objects will no longer be allowed to be loaded via this mode unless they are explicitly allowlisted by the user via `torch.serialization.add_safe_globals`. We recommend you start setting `weights_only=True` for any use case where you don't have full control of the loaded file. Please open an issue on GitHub for any issues related to this experimental feature.\n",
      "  model.load_state_dict(torch.load(model_path, map_location=device))\n"
     ]
    },
    {
     "name": "stdout",
     "output_type": "stream",
     "text": [
      "Model loaded successfully.\n",
      "\n",
      "Evaluating on Test Data...\n"
     ]
    },
    {
     "name": "stderr",
     "output_type": "stream",
     "text": [
      "Testing Batches: 100%|██████████| 604/604 [02:02<00:00,  4.94batch/s]"
     ]
    },
    {
     "name": "stdout",
     "output_type": "stream",
     "text": [
      "\n",
      "Test Loss: 0.8178, Test Accuracy: 71.65%\n",
      "\n",
      "Classification Report:\n",
      "              precision    recall  f1-score   support\n",
      "\n",
      "       Anger       0.63      0.54      0.59      2361\n",
      "    Contempt       0.83      0.80      0.81      2552\n",
      "     Disgust       0.72      0.79      0.75      2423\n",
      "        Fear       0.58      0.63      0.60      2281\n",
      "       Happy       0.88      0.90      0.89      2508\n",
      "     Neutral       0.74      0.79      0.76      2507\n",
      "         Sad       0.58      0.57      0.58      2253\n",
      "    Surprise       0.74      0.68      0.71      2417\n",
      "\n",
      "    accuracy                           0.72     19302\n",
      "   macro avg       0.71      0.71      0.71     19302\n",
      "weighted avg       0.72      0.72      0.72     19302\n",
      "\n",
      "\n",
      "Confusion Matrix:\n",
      "[[1285   96  289  206   44  117  252   72]\n",
      " [ 100 2035  173   33    5   50   91   65]\n",
      " [ 126   74 1903  102   11   23  125   59]\n",
      " [ 138   42   84 1437   41   93  224  222]\n",
      " [  18   13    2   11 2259  143   24   38]\n",
      " [  94   34   26   61  128 1980  143   41]\n",
      " [ 220   87  111  234   29  209 1295   68]\n",
      " [  49   72   66  407   55   59   74 1635]]\n"
     ]
    },
    {
     "name": "stderr",
     "output_type": "stream",
     "text": [
      "\n"
     ]
    }
   ],
   "source": [
    "import os\n",
    "import torch\n",
    "import torch.nn as nn\n",
    "from torchvision import transforms, datasets\n",
    "from sklearn.metrics import classification_report, confusion_matrix\n",
    "from timm import create_model\n",
    "from tqdm import tqdm\n",
    "\n",
    "# Paths\n",
    "model_path = \"adaptive_efficientnetv2_rw_s_emotion_model.pth\"  # Path to the best saved model\n",
    "data_dir = \"../DATA_PREPARE_ATT_04/Grayscale_Face_images\"  # Path to the dataset\n",
    "\n",
    "# Configuration\n",
    "batch_size = 32\n",
    "num_classes = 8\n",
    "device = torch.device(\"cuda\" if torch.cuda.is_available() else \"cpu\")\n",
    "print(f\"Using device: {device}\")\n",
    "\n",
    "# Emotion categories\n",
    "emotion_classes = [\"Anger\", \"Contempt\", \"Disgust\", \"Fear\", \"Happy\", \"Neutral\", \"Sad\", \"Surprise\"]\n",
    "\n",
    "# Data Preparation for Testing\n",
    "def prepare_test_loader(data_dir, batch_size):\n",
    "    transform_test = transforms.Compose([\n",
    "        transforms.Grayscale(num_output_channels=1),\n",
    "        transforms.Resize((260, 260)),  # Size used during training\n",
    "        transforms.ToTensor(),\n",
    "        transforms.Normalize(mean=[0.5], std=[0.5]),\n",
    "    ])\n",
    "    \n",
    "    print(\"Loading test dataset...\")\n",
    "    test_dataset = datasets.ImageFolder(os.path.join(data_dir, \"test\"), transform=transform_test)\n",
    "    test_loader = torch.utils.data.DataLoader(test_dataset, batch_size=batch_size, shuffle=False, num_workers=4)\n",
    "    print(\"Test dataset loaded.\")\n",
    "    return test_loader, test_dataset\n",
    "\n",
    "# Load Model\n",
    "def load_model(model_path, num_classes):\n",
    "    print(\"Loading the saved model...\")\n",
    "    model = create_model('efficientnetv2_rw_s', pretrained=True, num_classes=num_classes, in_chans=1)\n",
    "    model.load_state_dict(torch.load(model_path, map_location=device))\n",
    "    model = model.to(device)\n",
    "    print(\"Model loaded successfully.\")\n",
    "    return model\n",
    "\n",
    "# Evaluate Model\n",
    "def evaluate_model(model, test_loader, classes):\n",
    "    print(\"\\nEvaluating on Test Data...\")\n",
    "    model.eval()\n",
    "    test_loss = 0.0\n",
    "    correct, total = 0, 0\n",
    "    all_preds, all_labels = [], []\n",
    "\n",
    "    # Loss function (optional, can be removed if not required for testing)\n",
    "    criterion = nn.CrossEntropyLoss()\n",
    "\n",
    "    with tqdm(total=len(test_loader), desc=\"Testing Batches\", unit=\"batch\") as pbar:\n",
    "        with torch.no_grad():\n",
    "            for inputs, labels in test_loader:\n",
    "                inputs, labels = inputs.to(device), labels.to(device)\n",
    "                outputs = model(inputs)\n",
    "                loss = criterion(outputs, labels)\n",
    "                test_loss += loss.item()\n",
    "\n",
    "                _, predicted = torch.max(outputs, 1)\n",
    "                total += labels.size(0)\n",
    "                correct += (predicted == labels).sum().item()\n",
    "\n",
    "                # Collect predictions and labels for metrics\n",
    "                all_preds.extend(predicted.cpu().numpy())\n",
    "                all_labels.extend(labels.cpu().numpy())\n",
    "\n",
    "                pbar.update(1)\n",
    "\n",
    "    test_loss /= len(test_loader)\n",
    "    test_accuracy = correct / total\n",
    "    print(f\"\\nTest Loss: {test_loss:.4f}, Test Accuracy: {test_accuracy * 100:.2f}%\")\n",
    "\n",
    "    # Classification Report\n",
    "    print(\"\\nClassification Report:\")\n",
    "    print(classification_report(all_labels, all_preds, target_names=classes))\n",
    "\n",
    "    # Confusion Matrix\n",
    "    print(\"\\nConfusion Matrix:\")\n",
    "    conf_matrix = confusion_matrix(all_labels, all_preds)\n",
    "    print(conf_matrix)\n",
    "\n",
    "    return test_accuracy, test_loss, conf_matrix\n",
    "\n",
    "# Main Script\n",
    "if __name__ == \"__main__\":\n",
    "    test_loader, test_dataset = prepare_test_loader(data_dir, batch_size)\n",
    "    model = load_model(model_path, num_classes)\n",
    "    evaluate_model(model, test_loader, emotion_classes)\n"
   ]
  }
 ],
 "metadata": {
  "kernelspec": {
   "display_name": "Python 3",
   "language": "python",
   "name": "python3"
  },
  "language_info": {
   "codemirror_mode": {
    "name": "ipython",
    "version": 3
   },
   "file_extension": ".py",
   "mimetype": "text/x-python",
   "name": "python",
   "nbconvert_exporter": "python",
   "pygments_lexer": "ipython3",
   "version": "3.12.3"
  }
 },
 "nbformat": 4,
 "nbformat_minor": 2
}
