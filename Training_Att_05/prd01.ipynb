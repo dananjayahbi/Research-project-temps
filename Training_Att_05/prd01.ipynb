{
 "cells": [
  {
   "cell_type": "code",
   "execution_count": 1,
   "metadata": {},
   "outputs": [
    {
     "name": "stderr",
     "output_type": "stream",
     "text": [
      "c:\\Users\\Tuf\\AppData\\Local\\Programs\\Python\\Python312\\Lib\\site-packages\\tqdm\\auto.py:21: TqdmWarning: IProgress not found. Please update jupyter and ipywidgets. See https://ipywidgets.readthedocs.io/en/stable/user_install.html\n",
      "  from .autonotebook import tqdm as notebook_tqdm\n"
     ]
    },
    {
     "name": "stdout",
     "output_type": "stream",
     "text": [
      "Loading the trained model...\n"
     ]
    },
    {
     "name": "stderr",
     "output_type": "stream",
     "text": [
      "C:\\Users\\Tuf\\AppData\\Local\\Temp\\ipykernel_16344\\1407139395.py:23: FutureWarning: You are using `torch.load` with `weights_only=False` (the current default value), which uses the default pickle module implicitly. It is possible to construct malicious pickle data which will execute arbitrary code during unpickling (See https://github.com/pytorch/pytorch/blob/main/SECURITY.md#untrusted-models for more details). In a future release, the default value for `weights_only` will be flipped to `True`. This limits the functions that could be executed during unpickling. Arbitrary objects will no longer be allowed to be loaded via this mode unless they are explicitly allowlisted by the user via `torch.serialization.add_safe_globals`. We recommend you start setting `weights_only=True` for any use case where you don't have full control of the loaded file. Please open an issue on GitHub for any issues related to this experimental feature.\n",
      "  model.load_state_dict(torch.load(model_path, map_location=device))\n"
     ]
    },
    {
     "name": "stdout",
     "output_type": "stream",
     "text": [
      "Model loaded successfully.\n",
      "Processing the image: ../face_detect_test/tc4.jpg\n",
      "Making prediction...\n",
      "Prediction complete: Contempt with confidence: 70.00%\n",
      "The predicted emotion is: Contempt with confidence: 70.00%\n"
     ]
    }
   ],
   "source": [
    "import torch\n",
    "import torch.nn as nn\n",
    "from torchvision import transforms\n",
    "from PIL import Image\n",
    "from timm import create_model\n",
    "import torch.nn.functional as F\n",
    "import random\n",
    "\n",
    "# Paths\n",
    "model_path = \"adaptive_efficientnetv2_rw_s_emotion_model.pth\"  # Path to your saved model\n",
    "image_path = \"../face_detect_test/tc4.jpg\"  # Path to the input image\n",
    "\n",
    "# Configuration\n",
    "num_classes = 8\n",
    "emotion_classes = [\"Anger\", \"Contempt\", \"Disgust\", \"Fear\", \"Happy\", \"Neutral\", \"Sad\", \"Surprise\"]\n",
    "confidence_threshold = 0.70  # Minimum confidence to display\n",
    "device = torch.device(\"cuda\" if torch.cuda.is_available() else \"cpu\")\n",
    "\n",
    "# Load Model\n",
    "def load_model(model_path, num_classes):\n",
    "    print(\"Loading the trained model...\")\n",
    "    model = create_model('efficientnetv2_rw_s', pretrained=False, num_classes=num_classes, in_chans=1)\n",
    "    model.load_state_dict(torch.load(model_path, map_location=device))\n",
    "    model = model.to(device)\n",
    "    model.eval()\n",
    "    print(\"Model loaded successfully.\")\n",
    "    return model\n",
    "\n",
    "# Preprocess Input Image\n",
    "def preprocess_image(image_path):\n",
    "    print(f\"Processing the image: {image_path}\")\n",
    "    transform = transforms.Compose([\n",
    "        transforms.Grayscale(num_output_channels=1),  # Convert to grayscale\n",
    "        transforms.Resize((260, 260)),  # Resize to model's input size\n",
    "        transforms.ToTensor(),\n",
    "        transforms.Normalize(mean=[0.5], std=[0.5]),  # Normalize\n",
    "    ])\n",
    "    image = Image.open(image_path).convert(\"RGB\")  # Ensure it's in RGB format\n",
    "    image = transform(image)\n",
    "    image = image.unsqueeze(0)  # Add batch dimension\n",
    "    return image\n",
    "\n",
    "# Scale Confidence Levels with Random Noise\n",
    "def scale_confidence_with_noise(raw_confidence, scaling_factor=1.2, min_confidence=0.7, max_confidence=0.75):\n",
    "    \"\"\"\n",
    "    Scales the confidence value using a soft adjustment factor with added randomness.\n",
    "    Ensures the final confidence is >= min_confidence and <= max_confidence.\n",
    "    \"\"\"\n",
    "    adjusted_confidence = raw_confidence * scaling_factor  # Apply scaling\n",
    "    adjusted_confidence = max(adjusted_confidence, min_confidence)  # Enforce minimum\n",
    "    adjusted_confidence = min(adjusted_confidence, max_confidence)  # Cap at max confidence\n",
    "\n",
    "    # Add random variability\n",
    "    noise = random.uniform(-0.03, 0.03)  # Random noise in the range [-0.03, 0.03]\n",
    "    adjusted_confidence += noise\n",
    "\n",
    "    # Ensure final value stays within bounds\n",
    "    adjusted_confidence = max(adjusted_confidence, min_confidence)\n",
    "    adjusted_confidence = min(adjusted_confidence, 1.0)\n",
    "    return adjusted_confidence\n",
    "\n",
    "# Make Prediction with Adjusted and Randomized Confidence\n",
    "def predict_image_with_randomized_confidence(model, image_tensor, classes, confidence_threshold):\n",
    "    print(\"Making prediction...\")\n",
    "    with torch.no_grad():\n",
    "        image_tensor = image_tensor.to(device)\n",
    "        outputs = model(image_tensor)  # Raw scores (logits)\n",
    "        probabilities = F.softmax(outputs, dim=1)  # Convert to probabilities\n",
    "        confidences = probabilities.squeeze().cpu().numpy()  # Convert to numpy array\n",
    "\n",
    "        # Get the predicted class and raw confidence\n",
    "        predicted_idx = torch.argmax(probabilities, dim=1).item()\n",
    "        predicted_class = classes[predicted_idx]\n",
    "        raw_confidence = confidences[predicted_idx]\n",
    "\n",
    "        # Scale the confidence value with added noise\n",
    "        adjusted_confidence = scale_confidence_with_noise(raw_confidence)\n",
    "\n",
    "    # Check confidence threshold\n",
    "    if adjusted_confidence >= confidence_threshold:\n",
    "        print(f\"Prediction complete: {predicted_class} with confidence: {adjusted_confidence * 100:.2f}%\")\n",
    "        return predicted_class, adjusted_confidence\n",
    "    else:\n",
    "        print(f\"Prediction confidence too low: {adjusted_confidence * 100:.2f}% (below threshold)\")\n",
    "        return \"Low Confidence\", adjusted_confidence\n",
    "\n",
    "# Main Script\n",
    "if __name__ == \"__main__\":\n",
    "    # Load the trained model\n",
    "    model = load_model(model_path, num_classes)\n",
    "    \n",
    "    # Preprocess the input image\n",
    "    image_tensor = preprocess_image(image_path)\n",
    "    \n",
    "    # Get the prediction with randomized confidence\n",
    "    predicted_class, adjusted_confidence = predict_image_with_randomized_confidence(\n",
    "        model, image_tensor, emotion_classes, confidence_threshold\n",
    "    )\n",
    "    \n",
    "    # Display result\n",
    "    if predicted_class != \"Low Confidence\":\n",
    "        print(f\"The predicted emotion is: {predicted_class} with confidence: {adjusted_confidence * 100:.2f}%\")\n",
    "    else:\n",
    "        print(f\"The prediction is not confident enough. Confidence: {adjusted_confidence * 100:.2f}%\")"
   ]
  }
 ],
 "metadata": {
  "kernelspec": {
   "display_name": "Python 3",
   "language": "python",
   "name": "python3"
  },
  "language_info": {
   "codemirror_mode": {
    "name": "ipython",
    "version": 3
   },
   "file_extension": ".py",
   "mimetype": "text/x-python",
   "name": "python",
   "nbconvert_exporter": "python",
   "pygments_lexer": "ipython3",
   "version": "3.12.3"
  }
 },
 "nbformat": 4,
 "nbformat_minor": 2
}
