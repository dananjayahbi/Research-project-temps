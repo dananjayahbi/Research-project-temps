{
 "cells": [
  {
   "cell_type": "code",
   "execution_count": null,
   "metadata": {},
   "outputs": [],
   "source": [
    "from mtcnn import MTCNN\n",
    "import cv2\n",
    "import matplotlib.pyplot as plt\n",
    "\n",
    "# Load the image\n",
    "image = cv2.imread(\"m5.png\")\n",
    "\n",
    "# Initialize the MTCNN detector\n",
    "detector = MTCNN()\n",
    "\n",
    "# Detect faces\n",
    "results = detector.detect_faces(image)\n",
    "\n",
    "# Count faces\n",
    "num_faces = len(results)\n",
    "\n",
    "# Draw rectangles around detected faces\n",
    "for result in results:\n",
    "    x, y, width, height = result['box']\n",
    "    cv2.rectangle(image, (x, y), (x+width, y+height), (0, 0, 255), 2)\n",
    "\n",
    "# Convert BGR to RGB for matplotlib\n",
    "image_rgb = cv2.cvtColor(image, cv2.COLOR_BGR2RGB)\n",
    "\n",
    "# Display the image\n",
    "plt.imshow(image_rgb)\n",
    "plt.axis(\"off\")\n",
    "plt.title(f\"Faces detected: {num_faces}\")\n",
    "plt.show()\n",
    "\n",
    "# Print the number of faces\n",
    "print(f\"Number of faces detected: {num_faces}\")\n"
   ]
  }
 ],
 "metadata": {
  "kernelspec": {
   "display_name": "Python 3",
   "language": "python",
   "name": "python3"
  },
  "language_info": {
   "codemirror_mode": {
    "name": "ipython",
    "version": 3
   },
   "file_extension": ".py",
   "mimetype": "text/x-python",
   "name": "python",
   "nbconvert_exporter": "python",
   "pygments_lexer": "ipython3",
   "version": "3.12.3"
  }
 },
 "nbformat": 4,
 "nbformat_minor": 2
}
