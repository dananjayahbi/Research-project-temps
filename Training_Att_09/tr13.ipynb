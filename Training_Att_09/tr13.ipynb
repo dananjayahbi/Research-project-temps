{
 "cells": [
  {
   "cell_type": "code",
   "execution_count": 1,
   "metadata": {},
   "outputs": [],
   "source": [
    "import os\n",
    "import torch\n",
    "import torch.nn as nn\n",
    "import torch.optim as optim\n",
    "import torchvision.transforms as transforms\n",
    "import torchvision.models as models\n",
    "import torchvision.datasets as datasets\n",
    "from torch.utils.data import DataLoader, WeightedRandomSampler\n",
    "import numpy as np\n",
    "from tqdm import tqdm\n",
    "from torch.optim.lr_scheduler import CyclicLR\n",
    "import seaborn as sns\n",
    "import matplotlib.pyplot as plt\n",
    "from sklearn.metrics import classification_report, confusion_matrix\n",
    "import pandas as pd\n",
    "import numpy as np"
   ]
  },
  {
   "cell_type": "code",
   "execution_count": 2,
   "metadata": {},
   "outputs": [],
   "source": [
    "# Paths\n",
    "data_dir = \"../FBMM/Unsplitted_Ready_Sets/set_01_class_balanced_augs_applied_splitted\"\n",
    "train_dir = os.path.join(data_dir, \"train\")\n",
    "val_dir = os.path.join(data_dir, \"val\")\n",
    "test_dir = os.path.join(data_dir, \"test\")\n",
    "pretrained_model_path = \"./efficientnet_b2_emotion_model.pth\"\n",
    "model_save_path = \"./models/fine_tuned_efficientnet_b2.pth\""
   ]
  },
  {
   "cell_type": "code",
   "execution_count": 3,
   "metadata": {},
   "outputs": [],
   "source": [
    "# Configuration\n",
    "batch_size = 16\n",
    "num_epochs = 50\n",
    "initial_lr = 1e-4\n",
    "weight_decay = 1e-4\n",
    "num_classes = 7\n",
    "img_height, img_width = 260, 260\n",
    "seed = 42\n",
    "accumulation_steps = 4\n",
    "device = torch.device(\"cuda\" if torch.cuda.is_available() else \"cpu\")\n",
    "\n",
    "# Emotion categories\n",
    "emotion_classes = [\"Anger\", \"Disgust\", \"Fear\", \"Happy\", \"Neutral\", \"Sad\", \"Surprise\"]"
   ]
  },
  {
   "cell_type": "code",
   "execution_count": 4,
   "metadata": {},
   "outputs": [],
   "source": [
    "# Improved Data Augmentation for RGB Dataset\n",
    "transform_train = transforms.Compose([\n",
    "    transforms.RandomResizedCrop(260, scale=(0.8, 1.0)),\n",
    "    transforms.RandomHorizontalFlip(),\n",
    "    transforms.ColorJitter(0.2, 0.2, 0.2, 0.1),\n",
    "    transforms.ToTensor(),\n",
    "    transforms.Normalize([0.485, 0.456, 0.406], [0.229, 0.224, 0.225])\n",
    "])\n",
    "\n",
    "transform_val_test = transforms.Compose([\n",
    "    transforms.Resize((260, 260)),\n",
    "    transforms.ToTensor(),\n",
    "    transforms.Normalize([0.485, 0.456, 0.406], [0.229, 0.224, 0.225])\n",
    "])\n",
    "\n",
    "# Load Datasets\n",
    "train_dataset = datasets.ImageFolder(root=train_dir, transform=transform_train)\n",
    "val_dataset = datasets.ImageFolder(root=val_dir, transform=transform_val_test)\n",
    "test_dataset = datasets.ImageFolder(root=test_dir, transform=transform_val_test)"
   ]
  },
  {
   "cell_type": "code",
   "execution_count": 5,
   "metadata": {},
   "outputs": [],
   "source": [
    "# Compute Class Weights\n",
    "labels = [label for _, label in train_dataset.samples]\n",
    "class_counts = np.bincount(labels, minlength=num_classes)\n",
    "class_weights = 1.0 / (class_counts + 1e-6)\n",
    "class_weights /= class_weights.sum()\n",
    "sample_weights = [class_weights[label] for _, label in train_dataset.samples]\n",
    "sampler = WeightedRandomSampler(sample_weights, num_samples=len(sample_weights), replacement=True)"
   ]
  },
  {
   "cell_type": "code",
   "execution_count": 6,
   "metadata": {},
   "outputs": [],
   "source": [
    "# Create Data Loaders\n",
    "train_loader = DataLoader(train_dataset, batch_size=batch_size, sampler=sampler, num_workers=8, pin_memory=True)\n",
    "val_loader = DataLoader(val_dataset, batch_size=batch_size, shuffle=False, num_workers=8, pin_memory=True)\n",
    "test_loader = DataLoader(test_dataset, batch_size=batch_size, shuffle=False, num_workers=8, pin_memory=True)"
   ]
  },
  {
   "cell_type": "code",
   "execution_count": 7,
   "metadata": {},
   "outputs": [
    {
     "name": "stdout",
     "output_type": "stream",
     "text": [
      "Loading pre-trained EfficientNet-B2 model...\n",
      " Model loaded and modified successfully!\n"
     ]
    }
   ],
   "source": [
    "# Load Pretrained EfficientNet-B2 Model and Adapt to RGB\n",
    "def load_pretrained_model(num_classes, pretrained_path):\n",
    "    print(\"Loading pre-trained EfficientNet-B2 model...\")\n",
    "\n",
    "    # Initialize the model architecture\n",
    "    model = models.efficientnet_b2()\n",
    "\n",
    "    # Load the pre-trained state dictionary (ignoring size mismatches)\n",
    "    pretrained_dict = torch.load(pretrained_path, map_location=\"cpu\", weights_only=True)\n",
    "    model_dict = model.state_dict()\n",
    "\n",
    "    # Filter out classifier & first conv layer (these need modification)\n",
    "    pretrained_dict = {k: v for k, v in pretrained_dict.items() if k in model_dict and k not in [\"classifier.1.weight\", \"classifier.1.bias\", \"features.0.0.weight\"]}\n",
    "\n",
    "    # Load compatible parameters\n",
    "    model_dict.update(pretrained_dict)\n",
    "    model.load_state_dict(model_dict, strict=False)  # Allow mismatches\n",
    "\n",
    "    # Convert First Layer to RGB (Preserve Grayscale Weights)\n",
    "    with torch.no_grad():\n",
    "        old_weights = model.features[0][0].weight.mean(dim=1, keepdim=True)  # Convert grayscale weights\n",
    "        new_conv_layer = nn.Conv2d(3, 32, kernel_size=3, stride=2, padding=1, bias=False)\n",
    "        new_conv_layer.weight = nn.Parameter(old_weights.repeat(1, 3, 1, 1))  # Expand to 3 channels\n",
    "        model.features[0][0] = new_conv_layer\n",
    "\n",
    "    # Modify classifier head to match new num_classes\n",
    "    model.classifier = nn.Sequential(\n",
    "        nn.Dropout(0.4),\n",
    "        nn.Linear(model.classifier[1].in_features, num_classes)\n",
    "    )\n",
    "\n",
    "    return model.to(\"cuda\" if torch.cuda.is_available() else \"cpu\")\n",
    "\n",
    "model = load_pretrained_model(num_classes, pretrained_model_path)\n",
    "print(\" Model loaded and modified successfully!\")"
   ]
  },
  {
   "cell_type": "code",
   "execution_count": 8,
   "metadata": {},
   "outputs": [],
   "source": [
    "# Custom Focal Loss to Handle Class Imbalance\n",
    "class FocalLoss(nn.Module):\n",
    "    def __init__(self, gamma=2, alpha=None):\n",
    "        super(FocalLoss, self).__init__()\n",
    "        self.gamma = gamma\n",
    "        self.alpha = alpha\n",
    "\n",
    "    def forward(self, inputs, targets):\n",
    "        ce_loss = nn.CrossEntropyLoss()(inputs, targets)\n",
    "        pt = torch.exp(-ce_loss)\n",
    "        return ((1 - pt) ** self.gamma * ce_loss).mean()\n",
    "\n",
    "criterion = FocalLoss(gamma=2)"
   ]
  },
  {
   "cell_type": "code",
   "execution_count": 9,
   "metadata": {},
   "outputs": [],
   "source": [
    "# Use AdamW with CyclicLR\n",
    "optimizer = optim.AdamW(filter(lambda p: p.requires_grad, model.parameters()), lr=initial_lr, weight_decay=weight_decay)\n",
    "scheduler = CyclicLR(optimizer, base_lr=1e-5, max_lr=1e-3, step_size_up=2000, mode=\"triangular\")"
   ]
  },
  {
   "cell_type": "code",
   "execution_count": 10,
   "metadata": {},
   "outputs": [],
   "source": [
    "# Function to Update Class Weights Each Epoch Based on Performance\n",
    "def update_class_weights(class_correct, class_total, num_classes):\n",
    "    class_accuracies = {cls: (100 * class_correct[cls] / max(1, class_total[cls])) for cls in emotion_classes}\n",
    "    \n",
    "    # Compute inverse accuracy for reweighting\n",
    "    class_weights = torch.zeros(num_classes, dtype=torch.float32).to(device)\n",
    "    for i, cls in enumerate(emotion_classes):\n",
    "        class_weights[i] = 1.0 / (class_accuracies[cls] + 1e-6)\n",
    "    \n",
    "    class_weights /= class_weights.sum()\n",
    "    return class_weights"
   ]
  },
  {
   "cell_type": "code",
   "execution_count": null,
   "metadata": {},
   "outputs": [
    {
     "name": "stderr",
     "output_type": "stream",
     "text": [
      "Epoch 1/50: 100%|██████████| 7751/7751 [59:32<00:00,  2.17it/s]   \n"
     ]
    },
    {
     "name": "stdout",
     "output_type": "stream",
     "text": [
      "\n",
      "Epoch 1 Summary:\n",
      "Train Loss: 0.0422 | Train Accuracy: 0.7744\n",
      "Validation Loss: 0.0775 | Validation Accuracy: 0.8499\n",
      "Anger Accuracy: 72.03%\n",
      "Disgust Accuracy: 78.19%\n",
      "Fear Accuracy: 65.34%\n",
      "Happy Accuracy: 96.02%\n",
      "Neutral Accuracy: 84.49%\n",
      "Sad Accuracy: 68.20%\n",
      "Surprise Accuracy: 77.95%\n",
      "✅ Best Model Saved!\n"
     ]
    },
    {
     "name": "stderr",
     "output_type": "stream",
     "text": [
      "Epoch 2/50: 100%|██████████| 7751/7751 [1:04:24<00:00,  2.01it/s]\n"
     ]
    },
    {
     "name": "stdout",
     "output_type": "stream",
     "text": [
      "\n",
      "Epoch 2 Summary:\n",
      "Train Loss: 0.0243 | Train Accuracy: 0.8201\n",
      "Validation Loss: 0.0673 | Validation Accuracy: 0.8619\n",
      "Anger Accuracy: 76.90%\n",
      "Disgust Accuracy: 82.30%\n",
      "Fear Accuracy: 71.82%\n",
      "Happy Accuracy: 97.40%\n",
      "Neutral Accuracy: 88.68%\n",
      "Sad Accuracy: 74.41%\n",
      "Surprise Accuracy: 82.51%\n",
      "✅ Updated Class Weights for Next Epoch: [0.15089934 0.14098278 0.16156217 0.11912782 0.13084248 0.15594707\n",
      " 0.14063835]\n",
      "✅ Best Model Saved!\n"
     ]
    },
    {
     "name": "stderr",
     "output_type": "stream",
     "text": [
      "Epoch 3/50: 100%|██████████| 7751/7751 [1:03:32<00:00,  2.03it/s]\n"
     ]
    },
    {
     "name": "stdout",
     "output_type": "stream",
     "text": [
      "\n",
      "Epoch 3 Summary:\n",
      "Train Loss: 0.1947 | Train Accuracy: 0.8562\n",
      "Validation Loss: 0.7036 | Validation Accuracy: 0.8857\n",
      "Anger Accuracy: 82.15%\n",
      "Disgust Accuracy: 85.53%\n",
      "Fear Accuracy: 77.80%\n",
      "Happy Accuracy: 97.79%\n",
      "Neutral Accuracy: 90.61%\n",
      "Sad Accuracy: 80.12%\n",
      "Surprise Accuracy: 85.12%\n",
      "✅ Updated Class Weights for Next Epoch: [0.14806639 0.14221501 0.15635891 0.12439433 0.13424338 0.15181662\n",
      " 0.14290541]\n"
     ]
    },
    {
     "name": "stderr",
     "output_type": "stream",
     "text": [
      "Epoch 4/50: 100%|██████████| 7751/7751 [1:03:16<00:00,  2.04it/s]\n"
     ]
    },
    {
     "name": "stdout",
     "output_type": "stream",
     "text": [
      "\n",
      "Epoch 4 Summary:\n",
      "Train Loss: 0.1776 | Train Accuracy: 0.8857\n",
      "Validation Loss: 0.6918 | Validation Accuracy: 0.8902\n",
      "Anger Accuracy: 85.74%\n",
      "Disgust Accuracy: 88.70%\n",
      "Fear Accuracy: 82.65%\n",
      "Happy Accuracy: 98.43%\n",
      "Neutral Accuracy: 92.46%\n",
      "Sad Accuracy: 83.25%\n",
      "Surprise Accuracy: 88.74%\n",
      "✅ Updated Class Weights for Next Epoch: [0.1470874  0.14218181 0.15259306 0.12813137 0.13640122 0.15148905\n",
      " 0.1421161 ]\n"
     ]
    },
    {
     "name": "stderr",
     "output_type": "stream",
     "text": [
      "Epoch 5/50: 100%|██████████| 7751/7751 [1:02:10<00:00,  2.08it/s]\n"
     ]
    },
    {
     "name": "stdout",
     "output_type": "stream",
     "text": [
      "\n",
      "Epoch 5 Summary:\n",
      "Train Loss: 0.1675 | Train Accuracy: 0.9032\n",
      "Validation Loss: 0.6802 | Validation Accuracy: 0.8956\n",
      "Anger Accuracy: 87.58%\n",
      "Disgust Accuracy: 90.69%\n",
      "Fear Accuracy: 84.74%\n",
      "Happy Accuracy: 98.71%\n",
      "Neutral Accuracy: 94.04%\n",
      "Sad Accuracy: 86.36%\n",
      "Surprise Accuracy: 90.04%\n",
      "✅ Updated Class Weights for Next Epoch: [0.14696527 0.14192532 0.15189117 0.13039102 0.13685894 0.14902617\n",
      " 0.14294209]\n"
     ]
    },
    {
     "name": "stderr",
     "output_type": "stream",
     "text": [
      "Epoch 6/50: 100%|██████████| 7751/7751 [1:07:30<00:00,  1.91it/s]\n"
     ]
    },
    {
     "name": "stdout",
     "output_type": "stream",
     "text": [
      "\n",
      "Epoch 6 Summary:\n",
      "Train Loss: 0.1609 | Train Accuracy: 0.9165\n",
      "Validation Loss: 0.6785 | Validation Accuracy: 0.8971\n",
      "Anger Accuracy: 89.92%\n",
      "Disgust Accuracy: 92.04%\n",
      "Fear Accuracy: 86.94%\n",
      "Happy Accuracy: 98.79%\n",
      "Neutral Accuracy: 94.40%\n",
      "Sad Accuracy: 87.90%\n",
      "Surprise Accuracy: 91.53%\n",
      "✅ Updated Class Weights for Next Epoch: [0.14535579 0.14202127 0.15034334 0.13231027 0.13845652 0.14870575\n",
      " 0.14280702]\n"
     ]
    },
    {
     "name": "stderr",
     "output_type": "stream",
     "text": [
      "Epoch 7/50: 100%|██████████| 7751/7751 [1:00:52<00:00,  2.12it/s]\n"
     ]
    },
    {
     "name": "stdout",
     "output_type": "stream",
     "text": [
      "\n",
      "Epoch 7 Summary:\n",
      "Train Loss: 0.1556 | Train Accuracy: 0.9258\n",
      "Validation Loss: 0.6857 | Validation Accuracy: 0.8864\n",
      "Anger Accuracy: 91.08%\n",
      "Disgust Accuracy: 92.84%\n",
      "Fear Accuracy: 88.57%\n",
      "Happy Accuracy: 98.76%\n",
      "Neutral Accuracy: 94.98%\n",
      "Sad Accuracy: 89.38%\n",
      "Surprise Accuracy: 92.45%\n",
      "✅ Updated Class Weights for Next Epoch: [0.14503819 0.14228195 0.14914988 0.13376267 0.13908066 0.14780077\n",
      " 0.14288591]\n"
     ]
    },
    {
     "name": "stderr",
     "output_type": "stream",
     "text": [
      "Epoch 8/50: 100%|██████████| 7751/7751 [1:10:29<00:00,  1.83it/s]  \n"
     ]
    },
    {
     "name": "stdout",
     "output_type": "stream",
     "text": [
      "\n",
      "Epoch 8 Summary:\n",
      "Train Loss: 0.1507 | Train Accuracy: 0.9342\n",
      "Validation Loss: 0.6671 | Validation Accuracy: 0.9004\n",
      "Anger Accuracy: 91.81%\n",
      "Disgust Accuracy: 93.77%\n",
      "Fear Accuracy: 89.76%\n",
      "Happy Accuracy: 99.05%\n",
      "Neutral Accuracy: 95.67%\n",
      "Sad Accuracy: 90.49%\n",
      "Surprise Accuracy: 93.50%\n",
      "✅ Updated Class Weights for Next Epoch: [0.14524516 0.14220436 0.14855492 0.13463314 0.1393788  0.14735852\n",
      " 0.14262515]\n"
     ]
    },
    {
     "name": "stderr",
     "output_type": "stream",
     "text": [
      "Epoch 9/50: 100%|██████████| 7751/7751 [1:00:32<00:00,  2.13it/s]\n"
     ]
    },
    {
     "name": "stdout",
     "output_type": "stream",
     "text": [
      "\n",
      "Epoch 9 Summary:\n",
      "Train Loss: 0.1472 | Train Accuracy: 0.9409\n",
      "Validation Loss: 0.6449 | Validation Accuracy: 0.9113\n",
      "Anger Accuracy: 92.66%\n",
      "Disgust Accuracy: 94.48%\n",
      "Fear Accuracy: 91.23%\n",
      "Happy Accuracy: 99.11%\n",
      "Neutral Accuracy: 95.82%\n",
      "Sad Accuracy: 91.23%\n",
      "Surprise Accuracy: 94.06%\n",
      "✅ Updated Class Weights for Next Epoch: [0.14495263 0.14215308 0.14721985 0.1355065  0.1401672  0.14721389\n",
      " 0.14278688]\n"
     ]
    },
    {
     "name": "stderr",
     "output_type": "stream",
     "text": [
      "Epoch 10/50: 100%|██████████| 7751/7751 [59:45<00:00,  2.16it/s]  \n"
     ]
    },
    {
     "name": "stdout",
     "output_type": "stream",
     "text": [
      "\n",
      "Epoch 10 Summary:\n",
      "Train Loss: 0.1451 | Train Accuracy: 0.9439\n",
      "Validation Loss: 0.6022 | Validation Accuracy: 0.9319\n",
      "Anger Accuracy: 92.98%\n",
      "Disgust Accuracy: 94.56%\n",
      "Fear Accuracy: 91.49%\n",
      "Happy Accuracy: 99.23%\n",
      "Neutral Accuracy: 96.34%\n",
      "Sad Accuracy: 91.74%\n",
      "Surprise Accuracy: 94.42%\n",
      "✅ Updated Class Weights for Next Epoch: [0.14492995 0.14250919 0.14728326 0.13579829 0.13987255 0.14688796\n",
      " 0.14271878]\n"
     ]
    },
    {
     "name": "stderr",
     "output_type": "stream",
     "text": [
      "Epoch 11/50: 100%|██████████| 7751/7751 [1:05:21<00:00,  1.98it/s]\n"
     ]
    },
    {
     "name": "stdout",
     "output_type": "stream",
     "text": [
      "\n",
      "Epoch 11 Summary:\n",
      "Train Loss: 0.1424 | Train Accuracy: 0.9490\n",
      "Validation Loss: 0.5664 | Validation Accuracy: 0.9470\n",
      "Anger Accuracy: 93.69%\n",
      "Disgust Accuracy: 95.09%\n",
      "Fear Accuracy: 92.26%\n",
      "Happy Accuracy: 99.16%\n",
      "Neutral Accuracy: 96.69%\n",
      "Sad Accuracy: 92.80%\n",
      "Surprise Accuracy: 94.65%\n",
      "✅ Updated Class Weights for Next Epoch: [0.14463739 0.14250214 0.1468756  0.13665459 0.1401421  0.14602645\n",
      " 0.1431618 ]\n"
     ]
    },
    {
     "name": "stderr",
     "output_type": "stream",
     "text": [
      "Epoch 12/50: 100%|██████████| 7751/7751 [1:15:19<00:00,  1.71it/s]  \n"
     ]
    },
    {
     "name": "stdout",
     "output_type": "stream",
     "text": [
      "\n",
      "Epoch 12 Summary:\n",
      "Train Loss: 0.1405 | Train Accuracy: 0.9522\n",
      "Validation Loss: 0.5548 | Validation Accuracy: 0.9522\n",
      "Anger Accuracy: 93.95%\n",
      "Disgust Accuracy: 95.41%\n",
      "Fear Accuracy: 92.85%\n",
      "Happy Accuracy: 99.23%\n",
      "Neutral Accuracy: 96.73%\n",
      "Sad Accuracy: 93.16%\n",
      "Surprise Accuracy: 95.25%\n",
      "✅ Updated Class Weights for Next Epoch: [0.14473316 0.14251505 0.14644627 0.13702734 0.14057101 0.14595693\n",
      " 0.1427502 ]\n"
     ]
    },
    {
     "name": "stderr",
     "output_type": "stream",
     "text": [
      "Epoch 13/50:  44%|████▍     | 3411/7751 [36:56<52:53,  1.37it/s]   "
     ]
    }
   ],
   "source": [
    "# Training Loop\n",
    "def train_model(model, train_loader, val_loader, criterion, optimizer, scheduler, num_epochs):\n",
    "    best_val_loss = np.inf\n",
    "\n",
    "    for epoch in range(1, num_epochs + 1):\n",
    "        model.train()\n",
    "        total_loss, correct, total = 0.0, 0, 0\n",
    "        class_correct = {cls: 0 for cls in emotion_classes}\n",
    "        class_total = {cls: 0 for cls in emotion_classes}\n",
    "\n",
    "        for images, labels in tqdm(train_loader, desc=f\"Epoch {epoch}/{num_epochs}\"):\n",
    "            images, labels = images.to(device), labels.to(device)\n",
    "\n",
    "            optimizer.zero_grad()\n",
    "            outputs = model(images)\n",
    "            loss = criterion(outputs, labels) / accumulation_steps\n",
    "            loss.backward()\n",
    "            optimizer.step()\n",
    "            scheduler.step()\n",
    "\n",
    "            total_loss += loss.item() * images.size(0)\n",
    "            _, preds = torch.max(outputs, 1)\n",
    "\n",
    "            correct += (preds == labels).sum().item()\n",
    "            total += labels.size(0)\n",
    "\n",
    "            for i in range(labels.size(0)):\n",
    "                class_correct[emotion_classes[labels[i].item()]] += (preds[i] == labels[i]).item()\n",
    "                class_total[emotion_classes[labels[i].item()]] += 1\n",
    "\n",
    "        # Compute overall accuracy and loss\n",
    "        train_loss = total_loss / total\n",
    "        train_acc = correct / total\n",
    "\n",
    "        # Validation Step\n",
    "        model.eval()\n",
    "        val_loss, val_correct, val_total = 0.0, 0, 0\n",
    "        with torch.no_grad():\n",
    "            for images, labels in val_loader:\n",
    "                images, labels = images.to(device), labels.to(device)\n",
    "                outputs = model(images)\n",
    "                loss = criterion(outputs, labels)\n",
    "                val_loss += loss.item() * images.size(0)\n",
    "                _, preds = torch.max(outputs, 1)\n",
    "                val_correct += (preds == labels).sum().item()\n",
    "                val_total += labels.size(0)\n",
    "\n",
    "        val_loss /= val_total\n",
    "        val_acc = val_correct / val_total\n",
    "\n",
    "        # Display Metrics\n",
    "        print(f\"\\nEpoch {epoch} Summary:\")\n",
    "        print(f\"Train Loss: {train_loss:.4f} | Train Accuracy: {train_acc:.4f}\")\n",
    "        print(f\"Validation Loss: {val_loss:.4f} | Validation Accuracy: {val_acc:.4f}\")\n",
    "        \n",
    "        # Show per-class accuracy\n",
    "        for cls in emotion_classes:\n",
    "            acc = 100 * class_correct[cls] / max(1, class_total[cls])\n",
    "            print(f\"{cls} Accuracy: {acc:.2f}%\")\n",
    "\n",
    "        # Recalculate Class Weights Based on This Epoch’s Performance\n",
    "        if epoch > 1:\n",
    "            class_weights = update_class_weights(class_correct, class_total, num_classes)\n",
    "            criterion = nn.CrossEntropyLoss(weight=class_weights, label_smoothing=0.1).to(device)\n",
    "            print(f\" Updated Class Weights for Next Epoch: {class_weights.cpu().numpy()}\")\n",
    "\n",
    "        # Save Best Model\n",
    "        if val_loss < best_val_loss:\n",
    "            best_val_loss = val_loss\n",
    "            torch.save(model.state_dict(), model_save_path)\n",
    "            print(\"✅ Best Model Saved!\")\n",
    "\n",
    "# Train Model\n",
    "train_model(model, train_loader, val_loader, criterion, optimizer, scheduler, num_epochs)"
   ]
  },
  {
   "cell_type": "code",
   "execution_count": 11,
   "metadata": {},
   "outputs": [
    {
     "name": "stdout",
     "output_type": "stream",
     "text": [
      "\n",
      "🔍 Evaluating the Model on Test Data...\n"
     ]
    },
    {
     "name": "stderr",
     "output_type": "stream",
     "text": [
      "C:\\Users\\Tuf\\AppData\\Local\\Temp\\ipykernel_42516\\1833687695.py:6: FutureWarning: You are using `torch.load` with `weights_only=False` (the current default value), which uses the default pickle module implicitly. It is possible to construct malicious pickle data which will execute arbitrary code during unpickling (See https://github.com/pytorch/pytorch/blob/main/SECURITY.md#untrusted-models for more details). In a future release, the default value for `weights_only` will be flipped to `True`. This limits the functions that could be executed during unpickling. Arbitrary objects will no longer be allowed to be loaded via this mode unless they are explicitly allowlisted by the user via `torch.serialization.add_safe_globals`. We recommend you start setting `weights_only=True` for any use case where you don't have full control of the loaded file. Please open an issue on GitHub for any issues related to this experimental feature.\n",
      "  model.load_state_dict(torch.load(model_path, map_location=device))\n",
      "Testing: 100%|██████████| 970/970 [03:35<00:00,  4.51it/s]\n"
     ]
    },
    {
     "name": "stdout",
     "output_type": "stream",
     "text": [
      "\n",
      " Test Results:\n",
      "Anger Accuracy: 82.67%\n",
      "Disgust Accuracy: 85.56%\n",
      "Fear Accuracy: 79.69%\n",
      "Happy Accuracy: 98.51%\n",
      "Neutral Accuracy: 93.55%\n",
      "Sad Accuracy: 76.31%\n",
      "Surprise Accuracy: 87.55%\n",
      "\n",
      " Final Test Accuracy: 0.8626\n",
      "\n",
      " Classification Report:\n",
      "               precision    recall  f1-score   support\n",
      "\n",
      "       Anger     0.8095    0.8267    0.8180      2216\n",
      "     Disgust     0.8758    0.8556    0.8656      2216\n",
      "        Fear     0.7991    0.7969    0.7980      2216\n",
      "       Happy     0.9878    0.9851    0.9864      2216\n",
      "     Neutral     0.9108    0.9355    0.9230      2216\n",
      "         Sad     0.8026    0.7631    0.7823      2216\n",
      "    Surprise     0.8505    0.8755    0.8628      2216\n",
      "\n",
      "    accuracy                         0.8626     15512\n",
      "   macro avg     0.8623    0.8626    0.8623     15512\n",
      "weighted avg     0.8623    0.8626    0.8623     15512\n",
      "\n"
     ]
    },
    {
     "data": {
      "image/png": "[encoded data removed]",
      "text/plain": [
       "<Figure size 800x600 with 2 Axes>"
      ]
     },
     "metadata": {},
     "output_type": "display_data"
    }
   ],
   "source": [
    "# Function to Evaluate Model on Test Data\n",
    "def evaluate_model(model, test_loader, model_path):\n",
    "    print(\"\\n🔍 Evaluating the Model on Test Data...\")\n",
    "\n",
    "    # Load the best saved model\n",
    "    model.load_state_dict(torch.load(model_path, map_location=device))\n",
    "    model.to(device)\n",
    "    model.eval()\n",
    "\n",
    "    correct, total = 0, 0\n",
    "    class_correct = {cls: 0 for cls in emotion_classes}\n",
    "    class_total = {cls: 0 for cls in emotion_classes}\n",
    "\n",
    "    all_preds = []\n",
    "    all_labels = []\n",
    "\n",
    "    with torch.no_grad():\n",
    "        for images, labels in tqdm(test_loader, desc=\"Testing\"):\n",
    "            images, labels = images.to(device), labels.to(device)\n",
    "\n",
    "            outputs = model(images)\n",
    "            _, preds = torch.max(outputs, 1)\n",
    "\n",
    "            correct += (preds == labels).sum().item()\n",
    "            total += labels.size(0)\n",
    "\n",
    "            all_preds.extend(preds.cpu().numpy())\n",
    "            all_labels.extend(labels.cpu().numpy())\n",
    "\n",
    "            for i in range(labels.size(0)):\n",
    "                class_correct[emotion_classes[labels[i].item()]] += (preds[i] == labels[i]).item()\n",
    "                class_total[emotion_classes[labels[i].item()]] += 1\n",
    "\n",
    "    # Compute per-class accuracy\n",
    "    print(\"\\n Test Results:\")\n",
    "    for cls in emotion_classes:\n",
    "        acc = 100 * class_correct[cls] / max(1, class_total[cls])\n",
    "        print(f\"{cls} Accuracy: {acc:.2f}%\")\n",
    "\n",
    "    # Compute overall test accuracy\n",
    "    overall_acc = correct / total\n",
    "    print(f\"\\n Final Test Accuracy: {overall_acc:.4f}\")\n",
    "\n",
    "    # Generate Classification Report\n",
    "    report = classification_report(all_labels, all_preds, target_names=emotion_classes, digits=4)\n",
    "    print(\"\\n Classification Report:\\n\", report)\n",
    "\n",
    "    # Generate Confusion Matrix\n",
    "    cm = confusion_matrix(all_labels, all_preds)\n",
    "    plt.figure(figsize=(8, 6))\n",
    "    sns.heatmap(cm, annot=True, fmt=\"d\", cmap=\"Blues\", xticklabels=emotion_classes, yticklabels=emotion_classes)\n",
    "    plt.xlabel(\"Predicted Label\")\n",
    "    plt.ylabel(\"True Label\")\n",
    "    plt.title(\"Confusion Matrix\")\n",
    "    plt.show()\n",
    "\n",
    "# Run Model Evaluation After Training\n",
    "evaluate_model(model, test_loader, model_save_path)"
   ]
  }
 ],
 "metadata": {
  "kernelspec": {
   "display_name": "DeepLearn",
   "language": "python",
   "name": "python3"
  },
  "language_info": {
   "codemirror_mode": {
    "name": "ipython",
    "version": 3
   },
   "file_extension": ".py",
   "mimetype": "text/x-python",
   "name": "python",
   "nbconvert_exporter": "python",
   "pygments_lexer": "ipython3",
   "version": "3.9.20"
  }
 },
 "nbformat": 4,
 "nbformat_minor": 2
}
