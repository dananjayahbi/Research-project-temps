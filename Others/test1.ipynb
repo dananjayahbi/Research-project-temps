{
 "cells": [
  {
   "cell_type": "code",
   "execution_count": 9,
   "metadata": {},
   "outputs": [
    {
     "name": "stdout",
     "output_type": "stream",
     "text": [
      "The EfficientNet_V2_S model has 3 layers.\n"
     ]
    }
   ],
   "source": [
    "import torch\n",
    "from torchvision.models import efficientnet_v2_s\n",
    "\n",
    "# Load the EfficientNet_V2_S model\n",
    "model = efficientnet_v2_s(weights='IMAGENET1K_V1')  # Use weights=\"IMAGENET1K_V1\" for pre-trained weights\n",
    "\n",
    "# Count the layers\n",
    "layer_count = sum(1 for _ in model.children())\n",
    "\n",
    "print(f\"The EfficientNet_V2_S model has {layer_count} layers.\")"
   ]
  }
 ],
 "metadata": {
  "kernelspec": {
   "display_name": "DeepLearn",
   "language": "python",
   "name": "python3"
  },
  "language_info": {
   "codemirror_mode": {
    "name": "ipython",
    "version": 3
   },
   "file_extension": ".py",
   "mimetype": "text/x-python",
   "name": "python",
   "nbconvert_exporter": "python",
   "pygments_lexer": "ipython3",
   "version": "3.9.20"
  }
 },
 "nbformat": 4,
 "nbformat_minor": 2
}
