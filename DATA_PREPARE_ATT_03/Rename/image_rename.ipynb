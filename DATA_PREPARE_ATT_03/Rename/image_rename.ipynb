{
 "cells": [
  {
   "cell_type": "code",
   "execution_count": 2,
   "metadata": {},
   "outputs": [
    {
     "name": "stdout",
     "output_type": "stream",
     "text": [
      "Processing folder: Anger\n"
     ]
    },
    {
     "name": "stderr",
     "output_type": "stream",
     "text": [
      "Processing Ang: 100%|██████████| 9890/9890 [01:01<00:00, 162.10it/s]\n"
     ]
    },
    {
     "name": "stdout",
     "output_type": "stream",
     "text": [
      "Processing folder: Disgust\n"
     ]
    },
    {
     "name": "stderr",
     "output_type": "stream",
     "text": [
      "Processing Dis: 100%|██████████| 8996/8996 [00:24<00:00, 368.16it/s] \n"
     ]
    },
    {
     "name": "stdout",
     "output_type": "stream",
     "text": [
      "Processing folder: Fear\n"
     ]
    },
    {
     "name": "stderr",
     "output_type": "stream",
     "text": [
      "Processing Fea: 100%|██████████| 7269/7269 [00:44<00:00, 164.23it/s]\n"
     ]
    },
    {
     "name": "stdout",
     "output_type": "stream",
     "text": [
      "Processing folder: Happy\n"
     ]
    },
    {
     "name": "stderr",
     "output_type": "stream",
     "text": [
      "Processing Hap: 100%|██████████| 36037/36037 [03:33<00:00, 169.10it/s]\n"
     ]
    },
    {
     "name": "stdout",
     "output_type": "stream",
     "text": [
      "Processing folder: Neutral\n"
     ]
    },
    {
     "name": "stderr",
     "output_type": "stream",
     "text": [
      "Processing Neu: 100%|██████████| 40383/40383 [04:13<00:00, 159.60it/s]\n"
     ]
    },
    {
     "name": "stdout",
     "output_type": "stream",
     "text": [
      "Processing folder: Sad\n"
     ]
    },
    {
     "name": "stderr",
     "output_type": "stream",
     "text": [
      "Processing Sad: 100%|██████████| 16059/16059 [01:39<00:00, 161.41it/s]\n"
     ]
    },
    {
     "name": "stdout",
     "output_type": "stream",
     "text": [
      "Processing folder: Surprise\n"
     ]
    },
    {
     "name": "stderr",
     "output_type": "stream",
     "text": [
      "Processing Sur: 100%|██████████| 13239/13239 [01:22<00:00, 159.96it/s]\n"
     ]
    }
   ],
   "source": [
    "import os\n",
    "from tqdm import tqdm\n",
    "from PIL import Image\n",
    "\n",
    "# Define the root directory and mapping for emotions\n",
    "root_folder = \"../MyDataset\"  # Replace with your root folder path\n",
    "emotion_mapping = {\n",
    "    \"Anger\": \"Ang\",\n",
    "    \"Disgust\": \"Dis\",\n",
    "    \"Fear\": \"Fea\",\n",
    "    \"Happy\": \"Hap\",\n",
    "    \"Neutral\": \"Neu\",\n",
    "    \"Sad\": \"Sad\",\n",
    "    \"Surprise\": \"Sur\"\n",
    "}\n",
    "\n",
    "def rename_images_in_folder(folder_path, emotion_prefix):\n",
    "    \"\"\"\n",
    "    Renames images in a folder to have a proper ID indicating the emotion category.\n",
    "    Args:\n",
    "        folder_path (str): Path to the folder containing images.\n",
    "        emotion_prefix (str): Prefix for the emotion category.\n",
    "    \"\"\"\n",
    "    images = [img for img in os.listdir(folder_path) if img.lower().endswith(('png', 'jpg', 'jpeg'))]\n",
    "    for idx, img in enumerate(tqdm(images, desc=f\"Processing {emotion_prefix}\")):\n",
    "        old_path = os.path.join(folder_path, img)\n",
    "        new_filename = f\"{emotion_prefix}{idx+1:06d}.jpg\"  # Format: Prefix + 6-digit ID\n",
    "        new_path = os.path.join(folder_path, new_filename)\n",
    "        os.rename(old_path, new_path)\n",
    "\n",
    "        # Optional: Validate the image (requires Pillow)\n",
    "        try:\n",
    "            with Image.open(new_path) as img:\n",
    "                img.verify()  # Ensure the file is a valid image\n",
    "        except Exception as e:\n",
    "            print(f\"Invalid image detected and skipped: {new_path}, Error: {e}\")\n",
    "            os.remove(new_path)  # Remove invalid images\n",
    "\n",
    "def process_emotion_folder(emotion_name):\n",
    "    \"\"\"\n",
    "    Process and rename all images in a specific emotion folder.\n",
    "    Args:\n",
    "        emotion_name (str): Name of the emotion folder to process.\n",
    "    \"\"\"\n",
    "    folder_path = os.path.join(root_folder, emotion_name)\n",
    "    emotion_prefix = emotion_mapping[emotion_name]\n",
    "    if os.path.exists(folder_path):\n",
    "        print(f\"Processing folder: {emotion_name}\")\n",
    "        rename_images_in_folder(folder_path, emotion_prefix)\n",
    "    else:\n",
    "        print(f\"Folder not found: {folder_path}\")\n",
    "\n",
    "# Process all emotion folders automatically\n",
    "for emotion_name in emotion_mapping.keys():\n",
    "    process_emotion_folder(emotion_name)\n"
   ]
  }
 ],
 "metadata": {
  "kernelspec": {
   "display_name": "Python 3",
   "language": "python",
   "name": "python3"
  },
  "language_info": {
   "codemirror_mode": {
    "name": "ipython",
    "version": 3
   },
   "file_extension": ".py",
   "mimetype": "text/x-python",
   "name": "python",
   "nbconvert_exporter": "python",
   "pygments_lexer": "ipython3",
   "version": "3.12.3"
  }
 },
 "nbformat": 4,
 "nbformat_minor": 2
}
