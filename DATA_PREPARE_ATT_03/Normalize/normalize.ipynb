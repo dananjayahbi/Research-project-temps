{
 "cells": [
  {
   "cell_type": "code",
   "execution_count": 7,
   "metadata": {},
   "outputs": [],
   "source": [
    "import os\n",
    "from PIL import Image\n",
    "import torch\n",
    "from torchvision import transforms\n",
    "from tqdm import tqdm"
   ]
  },
  {
   "cell_type": "code",
   "execution_count": 8,
   "metadata": {},
   "outputs": [],
   "source": [
    "# Paths\n",
    "root_folder = \"../Resized_argued_MyDataset\"  # Root folder containing the dataset\n",
    "output_folder = \"../Resized_argued_normed_MyDataset\"  # Folder to save normalized images\n",
    "\n",
    "categories = [\"Anger\", \"Disgust\", \"Fear\", \"Happy\", \"Neutral\", \"Sad\", \"Surprise\"]"
   ]
  },
  {
   "cell_type": "code",
   "execution_count": 9,
   "metadata": {},
   "outputs": [
    {
     "name": "stdout",
     "output_type": "stream",
     "text": [
      "Using device: cuda\n"
     ]
    }
   ],
   "source": [
    "# Check device\n",
    "device = torch.device(\"cuda\" if torch.cuda.is_available() else \"cpu\")\n",
    "print(f\"Using device: {device}\")\n",
    "\n",
    "# Normalization transform\n",
    "normalization_transform = transforms.Compose([\n",
    "    transforms.ToTensor(),  # Converts to tensor and scales to [0, 1]\n",
    "])\n",
    "\n",
    "# Convert tensor back to image for saving\n",
    "to_image_transform = transforms.ToPILImage()"
   ]
  },
  {
   "cell_type": "code",
   "execution_count": 10,
   "metadata": {},
   "outputs": [],
   "source": [
    "# Ensure output folder structure\n",
    "def ensure_output_structure(root_folder, output_folder, categories):\n",
    "    os.makedirs(output_folder, exist_ok=True)\n",
    "    for category in categories:\n",
    "        category_path = os.path.join(output_folder, category)\n",
    "        os.makedirs(category_path, exist_ok=True)\n",
    "\n",
    "ensure_output_structure(root_folder, output_folder, categories)"
   ]
  },
  {
   "cell_type": "code",
   "execution_count": 11,
   "metadata": {},
   "outputs": [],
   "source": [
    "# GPU-accelerated normalization\n",
    "def normalize_images_gpu(root_folder, output_folder, categories, device):\n",
    "    for category in categories:\n",
    "        input_folder = os.path.join(root_folder, category)\n",
    "        output_category_folder = os.path.join(output_folder, category)\n",
    "        \n",
    "        images = [img for img in os.listdir(input_folder) if img.lower().endswith(('png', 'jpg', 'jpeg'))]\n",
    "        \n",
    "        for img_name in tqdm(images, desc=f\"Normalizing {category}\"):\n",
    "            input_img_path = os.path.join(input_folder, img_name)\n",
    "            output_img_path = os.path.join(output_category_folder, img_name)\n",
    "            \n",
    "            # Load image using PIL\n",
    "            img = Image.open(input_img_path).convert(\"RGB\")\n",
    "            \n",
    "            # Apply normalization (move to GPU)\n",
    "            img_tensor = normalization_transform(img).unsqueeze(0).to(device)  # Add batch dimension\n",
    "            img_tensor = img_tensor.squeeze(0)  # Remove batch dimension\n",
    "            \n",
    "            # Move tensor back to CPU and save as image\n",
    "            normalized_img = to_image_transform(img_tensor.cpu())\n",
    "            normalized_img.save(output_img_path)"
   ]
  },
  {
   "cell_type": "code",
   "execution_count": 12,
   "metadata": {},
   "outputs": [
    {
     "name": "stderr",
     "output_type": "stream",
     "text": [
      "Normalizing Anger: 100%|██████████| 9890/9890 [03:31<00:00, 46.80it/s] \n",
      "Normalizing Disgust: 100%|██████████| 8996/8996 [03:43<00:00, 40.17it/s]\n",
      "Normalizing Fear: 100%|██████████| 7269/7269 [03:44<00:00, 32.31it/s]\n",
      "Normalizing Happy: 100%|██████████| 36037/36037 [14:03<00:00, 42.71it/s]  \n",
      "Normalizing Neutral: 100%|██████████| 40383/40383 [11:48<00:00, 56.96it/s]\n",
      "Normalizing Sad: 100%|██████████| 16059/16059 [04:51<00:00, 55.18it/s]\n",
      "Normalizing Surprise: 100%|██████████| 13239/13239 [04:08<00:00, 53.32it/s]\n"
     ]
    }
   ],
   "source": [
    "normalize_images_gpu(root_folder, output_folder, categories, device)"
   ]
  }
 ],
 "metadata": {
  "kernelspec": {
   "display_name": "Python 3",
   "language": "python",
   "name": "python3"
  },
  "language_info": {
   "codemirror_mode": {
    "name": "ipython",
    "version": 3
   },
   "file_extension": ".py",
   "mimetype": "text/x-python",
   "name": "python",
   "nbconvert_exporter": "python",
   "pygments_lexer": "ipython3",
   "version": "3.12.3"
  }
 },
 "nbformat": 4,
 "nbformat_minor": 2
}
