{
 "cells": [
  {
   "cell_type": "code",
   "execution_count": 1,
   "metadata": {},
   "outputs": [],
   "source": [
    "import os\n",
    "import random\n",
    "import shutil\n",
    "from tqdm import tqdm"
   ]
  },
  {
   "cell_type": "code",
   "execution_count": 2,
   "metadata": {},
   "outputs": [],
   "source": [
    "# Paths\n",
    "input_folder = \"../Resized_argued_MyDataset_BKP\"  # The folder containing the normalized dataset\n",
    "output_folder = \"../Splitted_MyDataset02\"  # Root folder for the split dataset"
   ]
  },
  {
   "cell_type": "code",
   "execution_count": null,
   "metadata": {},
   "outputs": [],
   "source": [
    "# Split proportions (Adjust here)\n",
    "split_ratios = {\n",
    "    \"train\": 0.70,  # Adjust to 0.8 for 80%, 0.75 for 75%\n",
    "    \"val\": 0.15,    # Adjust to 0.15 for 15%, 0.1 for 10%\n",
    "    \"test\": 0.15    # Keep as 0.1 for 10%\n",
    "}\n",
    "\n",
    "# Categories\n",
    "categories = [\"Anger\", \"Disgust\", \"Fear\", \"Happy\", \"Neutral\", \"Sad\", \"Surprise\"]"
   ]
  },
  {
   "cell_type": "code",
   "execution_count": 4,
   "metadata": {},
   "outputs": [],
   "source": [
    "# Ensure output structure\n",
    "def ensure_split_structure(output_folder, split_ratios, categories):\n",
    "    os.makedirs(output_folder, exist_ok=True)\n",
    "    for split in split_ratios.keys():\n",
    "        split_path = os.path.join(output_folder, split)\n",
    "        os.makedirs(split_path, exist_ok=True)\n",
    "        for category in categories:\n",
    "            os.makedirs(os.path.join(split_path, category), exist_ok=True)\n",
    "\n",
    "ensure_split_structure(output_folder, split_ratios, categories)"
   ]
  },
  {
   "cell_type": "code",
   "execution_count": 5,
   "metadata": {},
   "outputs": [],
   "source": [
    "# Split dataset\n",
    "def split_dataset(input_folder, output_folder, split_ratios, categories):\n",
    "    for category in categories:\n",
    "        category_path = os.path.join(input_folder, category)\n",
    "        images = [img for img in os.listdir(category_path) if img.lower().endswith(('png', 'jpg', 'jpeg'))]\n",
    "        random.shuffle(images)  # Shuffle the images to randomize the split\n",
    "\n",
    "        total_images = len(images)\n",
    "        train_end = int(total_images * split_ratios['train'])\n",
    "        val_end = train_end + int(total_images * split_ratios['val'])\n",
    "\n",
    "        train_images = images[:train_end]\n",
    "        val_images = images[train_end:val_end]\n",
    "        test_images = images[val_end:]\n",
    "\n",
    "        # Move images to respective folders\n",
    "        for split, split_images in zip(['train', 'val', 'test'], [train_images, val_images, test_images]):\n",
    "            split_category_path = os.path.join(output_folder, split, category)\n",
    "            for img_name in tqdm(split_images, desc=f\"Processing {split}/{category}\"):\n",
    "                src_path = os.path.join(category_path, img_name)\n",
    "                dest_path = os.path.join(split_category_path, img_name)\n",
    "                shutil.copy(src_path, dest_path)"
   ]
  },
  {
   "cell_type": "code",
   "execution_count": 6,
   "metadata": {},
   "outputs": [
    {
     "name": "stderr",
     "output_type": "stream",
     "text": [
      "Processing train/Anger:   0%|          | 0/7417 [00:00<?, ?it/s]"
     ]
    },
    {
     "name": "stderr",
     "output_type": "stream",
     "text": [
      "Processing train/Anger: 100%|██████████| 7417/7417 [04:00<00:00, 30.83it/s]\n",
      "Processing val/Anger: 100%|██████████| 1483/1483 [00:41<00:00, 35.59it/s]\n",
      "Processing test/Anger: 100%|██████████| 990/990 [00:26<00:00, 37.55it/s]\n",
      "Processing train/Disgust: 100%|██████████| 6747/6747 [03:09<00:00, 35.64it/s]\n",
      "Processing val/Disgust: 100%|██████████| 1349/1349 [00:33<00:00, 40.26it/s]\n",
      "Processing test/Disgust: 100%|██████████| 900/900 [00:22<00:00, 40.63it/s]\n",
      "Processing train/Fear: 100%|██████████| 5451/5451 [01:57<00:00, 46.52it/s]\n",
      "Processing val/Fear: 100%|██████████| 1090/1090 [00:23<00:00, 45.57it/s]\n",
      "Processing test/Fear: 100%|██████████| 728/728 [00:16<00:00, 44.93it/s]\n",
      "Processing train/Happy: 100%|██████████| 27027/27027 [16:54<00:00, 26.65it/s]  \n",
      "Processing val/Happy: 100%|██████████| 5405/5405 [03:25<00:00, 26.30it/s]\n",
      "Processing test/Happy: 100%|██████████| 3605/3605 [02:12<00:00, 27.27it/s]\n",
      "Processing train/Neutral: 100%|██████████| 30287/30287 [19:19<00:00, 26.13it/s]  \n",
      "Processing val/Neutral: 100%|██████████| 6057/6057 [03:15<00:00, 31.06it/s]\n",
      "Processing test/Neutral: 100%|██████████| 4039/4039 [02:01<00:00, 33.24it/s]\n",
      "Processing train/Sad: 100%|██████████| 12044/12044 [05:58<00:00, 33.64it/s]\n",
      "Processing val/Sad: 100%|██████████| 2408/2408 [01:03<00:00, 38.14it/s]\n",
      "Processing test/Sad: 100%|██████████| 1607/1607 [00:37<00:00, 42.75it/s]\n",
      "Processing train/Surprise: 100%|██████████| 9929/9929 [04:43<00:00, 35.08it/s]\n",
      "Processing val/Surprise: 100%|██████████| 1985/1985 [00:49<00:00, 40.21it/s]\n",
      "Processing test/Surprise: 100%|██████████| 1325/1325 [00:28<00:00, 46.54it/s]\n"
     ]
    }
   ],
   "source": [
    "split_dataset(input_folder, output_folder, split_ratios, categories)"
   ]
  }
 ],
 "metadata": {
  "kernelspec": {
   "display_name": "Python 3",
   "language": "python",
   "name": "python3"
  },
  "language_info": {
   "codemirror_mode": {
    "name": "ipython",
    "version": 3
   },
   "file_extension": ".py",
   "mimetype": "text/x-python",
   "name": "python",
   "nbconvert_exporter": "python",
   "pygments_lexer": "ipython3",
   "version": "3.12.3"
  }
 },
 "nbformat": 4,
 "nbformat_minor": 2
}
