{
 "cells": [
  {
   "cell_type": "code",
   "execution_count": 1,
   "metadata": {},
   "outputs": [],
   "source": [
    "import os\n",
    "import random\n",
    "import shutil\n",
    "from tqdm import tqdm"
   ]
  },
  {
   "cell_type": "code",
   "execution_count": 2,
   "metadata": {},
   "outputs": [],
   "source": [
    "# Paths\n",
    "input_folder = \"../Resized_argued_normed_MyDataset\"  # The folder containing the normalized dataset\n",
    "output_folder = \"../Splitted_MyDataset\"  # Root folder for the split dataset"
   ]
  },
  {
   "cell_type": "code",
   "execution_count": 3,
   "metadata": {},
   "outputs": [],
   "source": [
    "# Split proportions (Adjust here)\n",
    "split_ratios = {\n",
    "    \"train\": 0.7,  # Adjust to 0.8 for 80%, 0.75 for 75%\n",
    "    \"val\": 0.2,    # Adjust to 0.15 for 15%, 0.1 for 10%\n",
    "    \"test\": 0.1    # Keep as 0.1 for 10%\n",
    "}\n",
    "\n",
    "# Categories\n",
    "categories = [\"Anger\", \"Disgust\", \"Fear\", \"Happy\", \"Neutral\", \"Sad\", \"Surprise\"]"
   ]
  },
  {
   "cell_type": "code",
   "execution_count": 4,
   "metadata": {},
   "outputs": [],
   "source": [
    "# Ensure output structure\n",
    "def ensure_split_structure(output_folder, split_ratios, categories):\n",
    "    os.makedirs(output_folder, exist_ok=True)\n",
    "    for split in split_ratios.keys():\n",
    "        split_path = os.path.join(output_folder, split)\n",
    "        os.makedirs(split_path, exist_ok=True)\n",
    "        for category in categories:\n",
    "            os.makedirs(os.path.join(split_path, category), exist_ok=True)\n",
    "\n",
    "ensure_split_structure(output_folder, split_ratios, categories)"
   ]
  },
  {
   "cell_type": "code",
   "execution_count": 5,
   "metadata": {},
   "outputs": [],
   "source": [
    "# Split dataset\n",
    "def split_dataset(input_folder, output_folder, split_ratios, categories):\n",
    "    for category in categories:\n",
    "        category_path = os.path.join(input_folder, category)\n",
    "        images = [img for img in os.listdir(category_path) if img.lower().endswith(('png', 'jpg', 'jpeg'))]\n",
    "        random.shuffle(images)  # Shuffle the images to randomize the split\n",
    "\n",
    "        total_images = len(images)\n",
    "        train_end = int(total_images * split_ratios['train'])\n",
    "        val_end = train_end + int(total_images * split_ratios['val'])\n",
    "\n",
    "        train_images = images[:train_end]\n",
    "        val_images = images[train_end:val_end]\n",
    "        test_images = images[val_end:]\n",
    "\n",
    "        # Move images to respective folders\n",
    "        for split, split_images in zip(['train', 'val', 'test'], [train_images, val_images, test_images]):\n",
    "            split_category_path = os.path.join(output_folder, split, category)\n",
    "            for img_name in tqdm(split_images, desc=f\"Processing {split}/{category}\"):\n",
    "                src_path = os.path.join(category_path, img_name)\n",
    "                dest_path = os.path.join(split_category_path, img_name)\n",
    "                shutil.copy(src_path, dest_path)"
   ]
  },
  {
   "cell_type": "code",
   "execution_count": 6,
   "metadata": {},
   "outputs": [
    {
     "name": "stderr",
     "output_type": "stream",
     "text": [
      "Processing train/Anger: 100%|██████████| 6923/6923 [02:26<00:00, 47.34it/s]\n",
      "Processing val/Anger: 100%|██████████| 1978/1978 [00:42<00:00, 46.75it/s]\n",
      "Processing test/Anger: 100%|██████████| 989/989 [00:20<00:00, 47.74it/s]\n",
      "Processing train/Disgust: 100%|██████████| 6297/6297 [02:03<00:00, 51.10it/s]\n",
      "Processing val/Disgust: 100%|██████████| 1799/1799 [00:34<00:00, 51.98it/s]\n",
      "Processing test/Disgust: 100%|██████████| 900/900 [00:18<00:00, 49.71it/s]\n",
      "Processing train/Fear: 100%|██████████| 5088/5088 [01:43<00:00, 49.01it/s]\n",
      "Processing val/Fear: 100%|██████████| 1453/1453 [00:27<00:00, 52.23it/s]\n",
      "Processing test/Fear: 100%|██████████| 728/728 [00:13<00:00, 53.93it/s]\n",
      "Processing train/Happy: 100%|██████████| 25225/25225 [09:00<00:00, 46.64it/s]\n",
      "Processing val/Happy: 100%|██████████| 7207/7207 [02:51<00:00, 42.01it/s]\n",
      "Processing test/Happy: 100%|██████████| 3605/3605 [01:43<00:00, 35.00it/s]\n",
      "Processing train/Neutral: 100%|██████████| 28268/28268 [07:51<00:00, 60.01it/s]\n",
      "Processing val/Neutral: 100%|██████████| 8076/8076 [02:30<00:00, 53.59it/s]\n",
      "Processing test/Neutral: 100%|██████████| 4039/4039 [01:26<00:00, 46.44it/s]\n",
      "Processing train/Sad: 100%|██████████| 11241/11241 [02:54<00:00, 64.25it/s] \n",
      "Processing val/Sad: 100%|██████████| 3211/3211 [00:41<00:00, 78.26it/s] \n",
      "Processing test/Sad: 100%|██████████| 1607/1607 [00:19<00:00, 82.67it/s] \n",
      "Processing train/Surprise: 100%|██████████| 9267/9267 [01:45<00:00, 87.54it/s] \n",
      "Processing val/Surprise: 100%|██████████| 2647/2647 [00:28<00:00, 93.96it/s] \n",
      "Processing test/Surprise: 100%|██████████| 1325/1325 [00:12<00:00, 103.00it/s]\n"
     ]
    }
   ],
   "source": [
    "split_dataset(input_folder, output_folder, split_ratios, categories)"
   ]
  }
 ],
 "metadata": {
  "kernelspec": {
   "display_name": "Python 3",
   "language": "python",
   "name": "python3"
  },
  "language_info": {
   "codemirror_mode": {
    "name": "ipython",
    "version": 3
   },
   "file_extension": ".py",
   "mimetype": "text/x-python",
   "name": "python",
   "nbconvert_exporter": "python",
   "pygments_lexer": "ipython3",
   "version": "3.12.3"
  }
 },
 "nbformat": 4,
 "nbformat_minor": 2
}
