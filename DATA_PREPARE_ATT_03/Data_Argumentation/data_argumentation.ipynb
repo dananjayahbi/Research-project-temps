{
 "cells": [
  {
   "cell_type": "code",
   "execution_count": 15,
   "metadata": {},
   "outputs": [
    {
     "name": "stdout",
     "output_type": "stream",
     "text": [
      "Using device: cuda\n"
     ]
    }
   ],
   "source": [
    "import os\n",
    "import random\n",
    "from PIL import Image\n",
    "from torchvision import transforms\n",
    "import torch\n",
    "from torch.utils.data import Dataset, DataLoader\n",
    "import shutil\n",
    "from tqdm import tqdm\n",
    "\n",
    "# Check GPU availability\n",
    "device = torch.device('cuda' if torch.cuda.is_available() else 'cpu')\n",
    "print(f\"Using device: {device}\")"
   ]
  },
  {
   "cell_type": "code",
   "execution_count": 16,
   "metadata": {},
   "outputs": [],
   "source": [
    "root_folder = \"../Resized_MyDataset\"\n",
    "categories = [\"Anger\", \"Disgust\", \"Fear\", \"Happy\", \"Neutral\", \"Sad\", \"Surprise\"]"
   ]
  },
  {
   "cell_type": "code",
   "execution_count": 17,
   "metadata": {},
   "outputs": [],
   "source": [
    "def select_images_for_processing(root_folder, categories, augment_ratio=0.3, grayscale_ratio=0.2):\n",
    "    augmentation_selection = {}\n",
    "    grayscale_selection = {}\n",
    "    \n",
    "    for category in categories:\n",
    "        folder_path = os.path.join(root_folder, category)\n",
    "        images = [img for img in os.listdir(folder_path) if img.lower().endswith(('png', 'jpg', 'jpeg'))]\n",
    "        random.shuffle(images)\n",
    "        \n",
    "        total_images = len(images)\n",
    "        augment_count = int(total_images * augment_ratio)\n",
    "        grayscale_count = int(total_images * grayscale_ratio)\n",
    "        \n",
    "        augmentation_selection[category] = images[:augment_count]\n",
    "        grayscale_selection[category] = images[augment_count:augment_count + grayscale_count]\n",
    "    \n",
    "    return augmentation_selection, grayscale_selection\n",
    "\n",
    "augmentation_selection, grayscale_selection = select_images_for_processing(root_folder, categories)"
   ]
  },
  {
   "cell_type": "code",
   "execution_count": 18,
   "metadata": {},
   "outputs": [
    {
     "name": "stderr",
     "output_type": "stream",
     "text": [
      "Augmenting Anger: 100%|██████████| 2967/2967 [01:01<00:00, 48.59it/s]\n",
      "Augmenting Disgust: 100%|██████████| 2698/2698 [01:07<00:00, 40.06it/s]\n",
      "Augmenting Fear: 100%|██████████| 2180/2180 [01:03<00:00, 34.31it/s]\n",
      "Augmenting Happy: 100%|██████████| 10811/10811 [06:23<00:00, 28.16it/s]\n",
      "Augmenting Neutral: 100%|██████████| 12114/12114 [02:49<00:00, 71.67it/s] \n",
      "Augmenting Sad: 100%|██████████| 4817/4817 [00:52<00:00, 91.23it/s] \n",
      "Augmenting Surprise: 100%|██████████| 3971/3971 [00:41<00:00, 96.28it/s] \n"
     ]
    }
   ],
   "source": [
    "augmentation_transforms = transforms.Compose([\n",
    "    transforms.ColorJitter(brightness=0.5, contrast=0.5, saturation=0.5, hue=0.1),\n",
    "    transforms.RandomRotation(degrees=15),\n",
    "    transforms.RandomHorizontalFlip()\n",
    "])\n",
    "\n",
    "def apply_augmentation(root_folder, augmentation_selection, categories):\n",
    "    for category, images in augmentation_selection.items():\n",
    "        folder_path = os.path.join(root_folder, category)\n",
    "        for img_name in tqdm(images, desc=f\"Augmenting {category}\"):\n",
    "            img_path = os.path.join(folder_path, img_name)\n",
    "            img = Image.open(img_path).convert(\"RGB\")\n",
    "            augmented_img = augmentation_transforms(img)\n",
    "            augmented_img.save(img_path)  # Replace original image\n",
    "\n",
    "apply_augmentation(root_folder, augmentation_selection, categories)"
   ]
  },
  {
   "cell_type": "code",
   "execution_count": 19,
   "metadata": {},
   "outputs": [
    {
     "name": "stderr",
     "output_type": "stream",
     "text": [
      "Grayscaling Anger: 100%|██████████| 1978/1978 [00:42<00:00, 46.67it/s]\n",
      "Grayscaling Disgust: 100%|██████████| 1799/1799 [00:50<00:00, 35.34it/s]\n",
      "Grayscaling Fear: 100%|██████████| 1453/1453 [00:38<00:00, 37.56it/s]\n",
      "Grayscaling Happy: 100%|██████████| 7207/7207 [03:52<00:00, 30.99it/s]\n",
      "Grayscaling Neutral: 100%|██████████| 8076/8076 [01:22<00:00, 97.79it/s] \n",
      "Grayscaling Sad: 100%|██████████| 3211/3211 [00:24<00:00, 129.88it/s]\n",
      "Grayscaling Surprise: 100%|██████████| 2647/2647 [00:19<00:00, 134.70it/s]\n"
     ]
    }
   ],
   "source": [
    "def apply_grayscale(root_folder, grayscale_selection, categories):\n",
    "    grayscale_transform = transforms.Grayscale(num_output_channels=3)\n",
    "    \n",
    "    for category, images in grayscale_selection.items():\n",
    "        folder_path = os.path.join(root_folder, category)\n",
    "        for img_name in tqdm(images, desc=f\"Grayscaling {category}\"):\n",
    "            img_path = os.path.join(folder_path, img_name)\n",
    "            img = Image.open(img_path).convert(\"RGB\")\n",
    "            grayscale_img = grayscale_transform(img)\n",
    "            grayscale_img.save(img_path)  # Replace original image\n",
    "\n",
    "apply_grayscale(root_folder, grayscale_selection, categories)"
   ]
  }
 ],
 "metadata": {
  "kernelspec": {
   "display_name": "Python 3",
   "language": "python",
   "name": "python3"
  },
  "language_info": {
   "codemirror_mode": {
    "name": "ipython",
    "version": 3
   },
   "file_extension": ".py",
   "mimetype": "text/x-python",
   "name": "python",
   "nbconvert_exporter": "python",
   "pygments_lexer": "ipython3",
   "version": "3.12.3"
  }
 },
 "nbformat": 4,
 "nbformat_minor": 2
}
