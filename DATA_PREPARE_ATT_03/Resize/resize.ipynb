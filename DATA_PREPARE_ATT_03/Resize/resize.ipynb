{
 "cells": [
  {
   "cell_type": "code",
   "execution_count": 1,
   "metadata": {},
   "outputs": [],
   "source": [
    "import os\n",
    "from PIL import Image\n",
    "from torchvision import transforms\n",
    "from tqdm import tqdm\n",
    "import torch"
   ]
  },
  {
   "cell_type": "code",
   "execution_count": 2,
   "metadata": {},
   "outputs": [
    {
     "name": "stdout",
     "output_type": "stream",
     "text": [
      "Using device: cuda\n"
     ]
    }
   ],
   "source": [
    "# Check if GPU is available\n",
    "device = torch.device(\"cuda\" if torch.cuda.is_available() else \"cpu\")\n",
    "print(f\"Using device: {device}\")"
   ]
  },
  {
   "cell_type": "code",
   "execution_count": 3,
   "metadata": {},
   "outputs": [],
   "source": [
    "# Define the source and output directories\n",
    "source_dir = \"../MyDataset\"  # Replace with your dataset's root folder\n",
    "output_dir = \"../Resized_MyDataset\"  # Replace with the output folder path"
   ]
  },
  {
   "cell_type": "code",
   "execution_count": 4,
   "metadata": {},
   "outputs": [],
   "source": [
    "# Transform for resizing\n",
    "resize_transform = transforms.Compose([\n",
    "    transforms.Resize((224, 224))\n",
    "])\n"
   ]
  },
  {
   "cell_type": "code",
   "execution_count": 5,
   "metadata": {},
   "outputs": [],
   "source": [
    "# Function to process images\n",
    "def process_images(source_dir, output_dir):\n",
    "    # Loop through emotion folders\n",
    "    for emotion_folder in os.listdir(source_dir):\n",
    "        emotion_path = os.path.join(source_dir, emotion_folder)\n",
    "        \n",
    "        if not os.path.isdir(emotion_path):\n",
    "            continue  # Skip non-directory files\n",
    "\n",
    "        # Create corresponding folder in output_dir\n",
    "        output_emotion_path = os.path.join(output_dir, emotion_folder)\n",
    "        os.makedirs(output_emotion_path, exist_ok=True)\n",
    "\n",
    "        # Loop through images in the emotion folder\n",
    "        for image_name in tqdm(os.listdir(emotion_path), desc=f\"Processing {emotion_folder}\"):\n",
    "            image_path = os.path.join(emotion_path, image_name)\n",
    "            output_image_path = os.path.join(output_emotion_path, image_name)\n",
    "\n",
    "            try:\n",
    "                # Open and transform image\n",
    "                with Image.open(image_path) as img:\n",
    "                    img_resized = resize_transform(img)\n",
    "                    img_resized.save(output_image_path)\n",
    "            except Exception as e:\n",
    "                print(f\"Error processing {image_path}: {e}\")"
   ]
  },
  {
   "cell_type": "code",
   "execution_count": 6,
   "metadata": {},
   "outputs": [
    {
     "name": "stderr",
     "output_type": "stream",
     "text": [
      "Processing Anger: 100%|██████████| 9890/9890 [01:46<00:00, 92.62it/s] \n",
      "Processing Disgust: 100%|██████████| 8996/8996 [01:20<00:00, 111.85it/s]\n",
      "Processing Fear: 100%|██████████| 7269/7269 [01:08<00:00, 106.36it/s]\n",
      "Processing Happy: 100%|██████████| 36037/36037 [04:38<00:00, 129.42it/s]\n",
      "Processing Neutral: 100%|██████████| 40383/40383 [05:10<00:00, 130.13it/s]\n",
      "Processing Sad: 100%|██████████| 16059/16059 [02:15<00:00, 118.68it/s]\n",
      "Processing Surprise: 100%|██████████| 13239/13239 [01:57<00:00, 112.34it/s]\n"
     ]
    }
   ],
   "source": [
    "# Run the preprocessing\n",
    "process_images(source_dir, output_dir)"
   ]
  }
 ],
 "metadata": {
  "kernelspec": {
   "display_name": "Python 3",
   "language": "python",
   "name": "python3"
  },
  "language_info": {
   "codemirror_mode": {
    "name": "ipython",
    "version": 3
   },
   "file_extension": ".py",
   "mimetype": "text/x-python",
   "name": "python",
   "nbconvert_exporter": "python",
   "pygments_lexer": "ipython3",
   "version": "3.12.3"
  }
 },
 "nbformat": 4,
 "nbformat_minor": 2
}
