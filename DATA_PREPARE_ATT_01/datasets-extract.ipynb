{
 "cells": [
  {
   "cell_type": "code",
   "execution_count": 1,
   "metadata": {},
   "outputs": [],
   "source": [
    "import os\n",
    "import shutil"
   ]
  },
  {
   "cell_type": "code",
   "execution_count": 5,
   "metadata": {},
   "outputs": [],
   "source": [
    "# Define source dataset paths\n",
    "dataset_path = \"YOLO-AFFECTNET\"  # Replace with the root directory of your dataset\n",
    "if not os.path.exists(dataset_path):\n",
    "    raise FileNotFoundError(f\"The dataset path {dataset_path} does not exist.\")\n",
    "emotion_folders = {\n",
    "    0: \"Anger\",\n",
    "    2: \"Disgust\",\n",
    "    3: \"Fear\",\n",
    "    4: \"Happy\",\n",
    "    5: \"Neutral\",\n",
    "    6: \"Sad\",\n",
    "    7: \"Surprise\"\n",
    "}"
   ]
  },
  {
   "cell_type": "code",
   "execution_count": 7,
   "metadata": {},
   "outputs": [],
   "source": [
    "# Output directory\n",
    "output_dir = \"YOLO-OUTPUT\"  # Replace with the desired output folder path\n",
    "if not os.path.exists(output_dir):\n",
    "    os.makedirs(output_dir)"
   ]
  },
  {
   "cell_type": "code",
   "execution_count": 8,
   "metadata": {},
   "outputs": [],
   "source": [
    "# Create emotion folders in the output directory\n",
    "os.makedirs(output_dir, exist_ok=True)\n",
    "for _, emotion_name in emotion_folders.items():\n",
    "    os.makedirs(os.path.join(output_dir, emotion_name), exist_ok=True)"
   ]
  },
  {
   "cell_type": "code",
   "execution_count": 9,
   "metadata": {},
   "outputs": [],
   "source": [
    "# Function to process a single set (train/test/valid)\n",
    "def process_dataset(folder):\n",
    "    images_path = os.path.join(folder, \"images\")\n",
    "    labels_path = os.path.join(folder, \"labels\")\n",
    "\n",
    "    for label_file in os.listdir(labels_path):\n",
    "        label_path = os.path.join(labels_path, label_file)\n",
    "        \n",
    "        with open(label_path, \"r\") as f:\n",
    "            lines = f.readlines()\n",
    "        \n",
    "        # Process each line in the label file\n",
    "        for line in lines:\n",
    "            parts = line.strip().split()\n",
    "            emotion_class = int(parts[0])\n",
    "            \n",
    "            # Skip Contempt (class 1)\n",
    "            if emotion_class == 1:\n",
    "                continue\n",
    "            \n",
    "            # Get the corresponding image\n",
    "            image_file = label_file.replace(\".txt\", \".jpg\")\n",
    "            src_image_path = os.path.join(images_path, image_file)\n",
    "            \n",
    "            if os.path.exists(src_image_path):\n",
    "                # Copy the image to the respective emotion folder\n",
    "                dest_folder = os.path.join(output_dir, emotion_folders[emotion_class])\n",
    "                shutil.copy(src_image_path, dest_folder)"
   ]
  },
  {
   "cell_type": "code",
   "execution_count": 10,
   "metadata": {},
   "outputs": [
    {
     "name": "stdout",
     "output_type": "stream",
     "text": [
      "Images have been successfully categorized into emotion folders!\n"
     ]
    }
   ],
   "source": [
    "# Process all sets (train/test/valid)\n",
    "for set_name in [\"train\", \"test\", \"valid\"]:\n",
    "    set_path = os.path.join(dataset_path, set_name)\n",
    "    process_dataset(set_path)\n",
    "\n",
    "print(\"Images have been successfully categorized into emotion folders!\")"
   ]
  }
 ],
 "metadata": {
  "kernelspec": {
   "display_name": "Python 3",
   "language": "python",
   "name": "python3"
  },
  "language_info": {
   "codemirror_mode": {
    "name": "ipython",
    "version": 3
   },
   "file_extension": ".py",
   "mimetype": "text/x-python",
   "name": "python",
   "nbconvert_exporter": "python",
   "pygments_lexer": "ipython3",
   "version": "3.12.3"
  }
 },
 "nbformat": 4,
 "nbformat_minor": 2
}
