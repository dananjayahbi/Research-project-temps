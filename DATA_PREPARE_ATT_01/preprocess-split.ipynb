{
 "cells": [
  {
   "cell_type": "code",
   "execution_count": 19,
   "metadata": {},
   "outputs": [],
   "source": [
    "import os\n",
    "from pathlib import Path\n",
    "from sklearn.model_selection import train_test_split\n",
    "from PIL import Image\n",
    "from torchvision import transforms\n",
    "from tqdm import tqdm\n",
    "import torch"
   ]
  },
  {
   "cell_type": "code",
   "execution_count": 20,
   "metadata": {},
   "outputs": [],
   "source": [
    "# Define input and output paths\n",
    "INPUT_FOLDER = \"YOLO-OUTPUT\"  # Path to the main dataset folder with subfolders for each emotion\n",
    "OUTPUT_FOLDER = \"YOLO-PREPROCESSED\"  # Path to the output folder"
   ]
  },
  {
   "cell_type": "code",
   "execution_count": 21,
   "metadata": {},
   "outputs": [],
   "source": [
    "# Train, Validation, Test Split Ratios\n",
    "TRAIN_RATIO = 0.7\n",
    "VALIDATION_RATIO = 0.2\n",
    "TEST_RATIO = 0.1\n",
    "\n",
    "# Target size for resizing\n",
    "TARGET_SIZE = (224, 224)"
   ]
  },
  {
   "cell_type": "code",
   "execution_count": 22,
   "metadata": {},
   "outputs": [],
   "source": [
    "# Create output directories\n",
    "for split in [\"train\", \"validation\", \"test\"]:\n",
    "    for emotion in os.listdir(INPUT_FOLDER):\n",
    "        os.makedirs(os.path.join(OUTPUT_FOLDER, split, emotion), exist_ok=True)"
   ]
  },
  {
   "cell_type": "code",
   "execution_count": 23,
   "metadata": {},
   "outputs": [],
   "source": [
    "# Data augmentation using torchvision transforms\n",
    "augmentation = transforms.Compose([\n",
    "    transforms.Resize(TARGET_SIZE),\n",
    "    transforms.RandomHorizontalFlip(),\n",
    "    transforms.RandomRotation(10),\n",
    "    transforms.ColorJitter(brightness=0.2, contrast=0.2, saturation=0.2, hue=0.1),\n",
    "])\n",
    "\n",
    "resize_only = transforms.Compose([\n",
    "    transforms.Resize(TARGET_SIZE),\n",
    "])"
   ]
  },
  {
   "cell_type": "code",
   "execution_count": 24,
   "metadata": {},
   "outputs": [],
   "source": [
    "# Function to process and split dataset using GPU\n",
    "def process_and_split():\n",
    "    device = torch.device(\"cuda\" if torch.cuda.is_available() else \"cpu\")\n",
    "    print(f\"Using device: {device}\")\n",
    "\n",
    "    for emotion in os.listdir(INPUT_FOLDER):\n",
    "        emotion_path = os.path.join(INPUT_FOLDER, emotion)\n",
    "        images = list(Path(emotion_path).rglob(\"*.jpg\")) + list(Path(emotion_path).rglob(\"*.png\"))\n",
    "        \n",
    "        # Train, validation, test split\n",
    "        train_images, temp_images = train_test_split(images, test_size=(1 - TRAIN_RATIO), random_state=42)\n",
    "        val_images, test_images = train_test_split(temp_images, test_size=(TEST_RATIO / (TEST_RATIO + VALIDATION_RATIO)), random_state=42)\n",
    "        \n",
    "        # Save splits to respective folders\n",
    "        for split, split_images in zip([\"train\", \"validation\", \"test\"], [train_images, val_images, test_images]):\n",
    "            for image_path in tqdm(split_images, desc=f\"Processing {emotion} - {split}\"):\n",
    "                try:\n",
    "                    # Open image\n",
    "                    img = Image.open(image_path).convert(\"RGB\")\n",
    "                    \n",
    "                    # Convert PIL image to tensor and move to GPU\n",
    "                    img_tensor = transforms.ToTensor()(img).unsqueeze(0).to(device)\n",
    "\n",
    "                    # Apply augmentation for training; resize only for others\n",
    "                    if split == \"train\":\n",
    "                        img_tensor = augmentation(img_tensor.squeeze(0))\n",
    "                    else:\n",
    "                        img_tensor = resize_only(img_tensor.squeeze(0))\n",
    "                    \n",
    "                    # Move back to CPU and convert to PIL image\n",
    "                    img_tensor = img_tensor.to(\"cpu\")\n",
    "                    img = transforms.ToPILImage()(img_tensor)\n",
    "\n",
    "                    # Save image to corresponding split folder\n",
    "                    save_path = os.path.join(OUTPUT_FOLDER, split, emotion, image_path.name)\n",
    "                    img.save(save_path)\n",
    "                except Exception as e:\n",
    "                    print(f\"Error processing {image_path}: {e}\")"
   ]
  },
  {
   "cell_type": "code",
   "execution_count": 25,
   "metadata": {},
   "outputs": [
    {
     "name": "stdout",
     "output_type": "stream",
     "text": [
      "Using device: cuda\n"
     ]
    },
    {
     "name": "stderr",
     "output_type": "stream",
     "text": [
      "Processing Anger - train: 100%|██████████| 2060/2060 [00:18<00:00, 112.24it/s]\n",
      "Processing Anger - validation: 100%|██████████| 588/588 [00:02<00:00, 278.96it/s]\n",
      "Processing Anger - test: 100%|██████████| 295/295 [00:01<00:00, 281.60it/s]\n",
      "Processing Disgust - train: 100%|██████████| 1852/1852 [00:15<00:00, 122.99it/s]\n",
      "Processing Disgust - validation: 100%|██████████| 530/530 [00:01<00:00, 301.80it/s]\n",
      "Processing Disgust - test: 100%|██████████| 265/265 [00:00<00:00, 281.36it/s]\n",
      "Processing Fear - train: 100%|██████████| 1964/1964 [00:16<00:00, 122.59it/s]\n",
      "Processing Fear - validation: 100%|██████████| 561/561 [00:03<00:00, 141.45it/s]\n",
      "Processing Fear - test: 100%|██████████| 281/281 [00:02<00:00, 110.42it/s]\n",
      "Processing Happy - train: 100%|██████████| 326/326 [00:04<00:00, 65.54it/s]\n",
      "Processing Happy - validation: 100%|██████████| 93/93 [00:00<00:00, 109.15it/s]\n",
      "Processing Happy - test: 100%|██████████| 47/47 [00:00<00:00, 110.40it/s]\n",
      "Processing Neutral - train: 100%|██████████| 724/724 [00:10<00:00, 72.20it/s]\n",
      "Processing Neutral - validation: 100%|██████████| 207/207 [00:01<00:00, 109.20it/s]\n",
      "Processing Neutral - test: 100%|██████████| 104/104 [00:00<00:00, 108.71it/s]\n",
      "Processing Sad - train: 100%|██████████| 1581/1581 [00:22<00:00, 71.64it/s]\n",
      "Processing Sad - validation: 100%|██████████| 452/452 [00:04<00:00, 111.11it/s]\n",
      "Processing Sad - test: 100%|██████████| 226/226 [00:02<00:00, 105.92it/s]\n",
      "Processing Surprise - train: 100%|██████████| 2256/2256 [00:32<00:00, 68.50it/s]\n",
      "Processing Surprise - validation: 100%|██████████| 645/645 [00:06<00:00, 107.18it/s]\n",
      "Processing Surprise - test: 100%|██████████| 323/323 [00:03<00:00, 106.52it/s]"
     ]
    },
    {
     "name": "stdout",
     "output_type": "stream",
     "text": [
      "Dataset successfully processed and split!\n"
     ]
    },
    {
     "name": "stderr",
     "output_type": "stream",
     "text": [
      "\n"
     ]
    }
   ],
   "source": [
    "# Execute the function\n",
    "process_and_split()\n",
    "print(\"Dataset successfully processed and split!\")"
   ]
  },
  {
   "cell_type": "code",
   "execution_count": null,
   "metadata": {},
   "outputs": [],
   "source": []
  }
 ],
 "metadata": {
  "kernelspec": {
   "display_name": "Python 3",
   "language": "python",
   "name": "python3"
  },
  "language_info": {
   "codemirror_mode": {
    "name": "ipython",
    "version": 3
   },
   "file_extension": ".py",
   "mimetype": "text/x-python",
   "name": "python",
   "nbconvert_exporter": "python",
   "pygments_lexer": "ipython3",
   "version": "3.12.3"
  }
 },
 "nbformat": 4,
 "nbformat_minor": 2
}
