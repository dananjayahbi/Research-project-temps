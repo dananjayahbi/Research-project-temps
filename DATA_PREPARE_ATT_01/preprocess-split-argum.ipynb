{
 "cells": [
  {
   "cell_type": "code",
   "execution_count": 20,
   "metadata": {},
   "outputs": [],
   "source": [
    "import os\n",
    "from pathlib import Path\n",
    "from sklearn.model_selection import train_test_split\n",
    "from PIL import Image\n",
    "from torchvision import transforms\n",
    "from tqdm import tqdm\n",
    "import torch\n",
    "import random"
   ]
  },
  {
   "cell_type": "code",
   "execution_count": 22,
   "metadata": {},
   "outputs": [],
   "source": [
    "# Define input and output paths\n",
    "INPUT_FOLDER = \"YOLO-OUTPUT\"  # Path to the main dataset folder with subfolders for each emotion\n",
    "OUTPUT_FOLDER = \"YOLO-PREPROCESSED2\" # Output folder for the preprocessed dataset"
   ]
  },
  {
   "cell_type": "code",
   "execution_count": 23,
   "metadata": {},
   "outputs": [],
   "source": [
    "# Train, Validation, Test Split Ratios\n",
    "TRAIN_RATIO = 0.7\n",
    "VALIDATION_RATIO = 0.2\n",
    "TEST_RATIO = 0.1\n",
    "\n",
    "# Target size for resizing\n",
    "TARGET_SIZE = (224, 224)"
   ]
  },
  {
   "cell_type": "code",
   "execution_count": 24,
   "metadata": {},
   "outputs": [],
   "source": [
    "# Define target sizes per split with higher weights for Happy, Sad, and Neutral\n",
    "TARGET_IMAGES = {\n",
    "    \"train\": {\n",
    "        \"Anger\": 1500,\n",
    "        \"Disgust\": 1300,\n",
    "        \"Fear\": 1400,\n",
    "        \"Happy\": 2500,  # Higher weight for depression-related classes\n",
    "        \"Neutral\": 2500,  # Higher weight for depression-related classes\n",
    "        \"Sad\": 2500,  # Higher weight for depression-related classes\n",
    "        \"Surprise\": 1500,\n",
    "    },\n",
    "    \"validation\": {\n",
    "        \"Anger\": 450,\n",
    "        \"Disgust\": 390,\n",
    "        \"Fear\": 420,\n",
    "        \"Happy\": 750,  # Higher weight for depression-related classes\n",
    "        \"Neutral\": 750,  # Higher weight for depression-related classes\n",
    "        \"Sad\": 750,  # Higher weight for depression-related classes\n",
    "        \"Surprise\": 450,\n",
    "    },\n",
    "    \"test\": {\n",
    "        \"Anger\": 225,\n",
    "        \"Disgust\": 195,\n",
    "        \"Fear\": 210,\n",
    "        \"Happy\": 375,  # Higher weight for depression-related classes\n",
    "        \"Neutral\": 375,  # Higher weight for depression-related classes\n",
    "        \"Sad\": 375,  # Higher weight for depression-related classes\n",
    "        \"Surprise\": 225,\n",
    "    },\n",
    "}"
   ]
  },
  {
   "cell_type": "code",
   "execution_count": 25,
   "metadata": {},
   "outputs": [],
   "source": [
    "# Create output directories\n",
    "for split in [\"train\", \"validation\", \"test\"]:\n",
    "    for emotion in os.listdir(INPUT_FOLDER):\n",
    "        os.makedirs(os.path.join(OUTPUT_FOLDER, split, emotion), exist_ok=True)"
   ]
  },
  {
   "cell_type": "code",
   "execution_count": 26,
   "metadata": {},
   "outputs": [],
   "source": [
    "# Data augmentation using torchvision transforms\n",
    "augmentation = transforms.Compose([\n",
    "    transforms.Resize(TARGET_SIZE),\n",
    "    transforms.RandomHorizontalFlip(),\n",
    "    transforms.RandomRotation(10),\n",
    "    transforms.ColorJitter(brightness=0.2, contrast=0.2, saturation=0.2, hue=0.1),\n",
    "])\n",
    "\n",
    "resize_only = transforms.Compose([\n",
    "    transforms.Resize(TARGET_SIZE),\n",
    "])"
   ]
  },
  {
   "cell_type": "code",
   "execution_count": 27,
   "metadata": {},
   "outputs": [],
   "source": [
    "# Function to augment data until target size is met\n",
    "def augment_class(images, target_size, folder_path, save_path, device):\n",
    "    \"\"\"\n",
    "    Augments the dataset to achieve the target size for the given class.\n",
    "    \"\"\"\n",
    "    print(f\"Balancing class in {save_path} to {target_size} images.\")\n",
    "    current_size = len(images)\n",
    "    while len(images) < target_size:\n",
    "        # Pick a random image to augment\n",
    "        image_path = random.choice(images)\n",
    "        try:\n",
    "            # Load and augment image\n",
    "            img = Image.open(image_path).convert(\"RGB\")\n",
    "            img_tensor = transforms.ToTensor()(img).unsqueeze(0).to(device)\n",
    "            augmented_tensor = augmentation(img_tensor.squeeze(0)).to(\"cpu\")\n",
    "            augmented_img = transforms.ToPILImage()(augmented_tensor)\n",
    "            \n",
    "            # Save augmented image\n",
    "            save_name = f\"aug_{len(images)}_{Path(image_path).name}\"\n",
    "            augmented_img.save(os.path.join(save_path, save_name))\n",
    "            images.append(os.path.join(save_path, save_name))\n",
    "        except Exception as e:\n",
    "            print(f\"Error augmenting {image_path}: {e}\")"
   ]
  },
  {
   "cell_type": "code",
   "execution_count": 28,
   "metadata": {},
   "outputs": [],
   "source": [
    "# Function to process and split dataset using GPU\n",
    "def process_and_split():\n",
    "    device = torch.device(\"cuda\" if torch.cuda.is_available() else \"cpu\")\n",
    "    print(f\"Using device: {device}\")\n",
    "\n",
    "    for emotion in os.listdir(INPUT_FOLDER):\n",
    "        emotion_path = os.path.join(INPUT_FOLDER, emotion)\n",
    "        images = list(Path(emotion_path).rglob(\"*.jpg\")) + list(Path(emotion_path).rglob(\"*.png\"))\n",
    "        \n",
    "        # Train, validation, test split\n",
    "        train_images, temp_images = train_test_split(images, test_size=(1 - TRAIN_RATIO), random_state=42)\n",
    "        val_images, test_images = train_test_split(temp_images, test_size=(TEST_RATIO / (TEST_RATIO + VALIDATION_RATIO)), random_state=42)\n",
    "        \n",
    "        # Save splits to respective folders and augment underrepresented classes\n",
    "        for split, split_images in zip([\"train\", \"validation\", \"test\"], [train_images, val_images, test_images]):\n",
    "            save_path = os.path.join(OUTPUT_FOLDER, split, emotion)\n",
    "            # Resize and save original images\n",
    "            for image_path in tqdm(split_images, desc=f\"Processing {emotion} - {split}\"):\n",
    "                try:\n",
    "                    img = Image.open(image_path).convert(\"RGB\")\n",
    "                    img_tensor = transforms.ToTensor()(img).unsqueeze(0).to(device)\n",
    "                    resized_tensor = resize_only(img_tensor.squeeze(0)).to(\"cpu\")\n",
    "                    resized_img = transforms.ToPILImage()(resized_tensor)\n",
    "                    resized_img.save(os.path.join(save_path, Path(image_path).name))\n",
    "                except Exception as e:\n",
    "                    print(f\"Error processing {image_path}: {e}\")\n",
    "            \n",
    "            # Augment images to balance the class\n",
    "            augment_class(\n",
    "                images=split_images,\n",
    "                target_size=TARGET_IMAGES[split][emotion],\n",
    "                folder_path=emotion_path,\n",
    "                save_path=save_path,\n",
    "                device=device\n",
    "            )"
   ]
  },
  {
   "cell_type": "code",
   "execution_count": 29,
   "metadata": {},
   "outputs": [
    {
     "name": "stdout",
     "output_type": "stream",
     "text": [
      "Using device: cuda\n"
     ]
    },
    {
     "name": "stderr",
     "output_type": "stream",
     "text": [
      "Processing Anger - train: 100%|██████████| 2060/2060 [00:09<00:00, 228.89it/s]\n"
     ]
    },
    {
     "name": "stdout",
     "output_type": "stream",
     "text": [
      "Balancing class in YOLO-PREPROCESSED2\\train\\Anger to 1500 images.\n"
     ]
    },
    {
     "name": "stderr",
     "output_type": "stream",
     "text": [
      "Processing Anger - validation: 100%|██████████| 588/588 [00:02<00:00, 247.04it/s]\n"
     ]
    },
    {
     "name": "stdout",
     "output_type": "stream",
     "text": [
      "Balancing class in YOLO-PREPROCESSED2\\validation\\Anger to 450 images.\n"
     ]
    },
    {
     "name": "stderr",
     "output_type": "stream",
     "text": [
      "Processing Anger - test: 100%|██████████| 295/295 [00:01<00:00, 227.21it/s]\n"
     ]
    },
    {
     "name": "stdout",
     "output_type": "stream",
     "text": [
      "Balancing class in YOLO-PREPROCESSED2\\test\\Anger to 225 images.\n"
     ]
    },
    {
     "name": "stderr",
     "output_type": "stream",
     "text": [
      "Processing Disgust - train: 100%|██████████| 1852/1852 [00:07<00:00, 248.09it/s]\n"
     ]
    },
    {
     "name": "stdout",
     "output_type": "stream",
     "text": [
      "Balancing class in YOLO-PREPROCESSED2\\train\\Disgust to 1300 images.\n"
     ]
    },
    {
     "name": "stderr",
     "output_type": "stream",
     "text": [
      "Processing Disgust - validation: 100%|██████████| 530/530 [00:02<00:00, 250.17it/s]\n"
     ]
    },
    {
     "name": "stdout",
     "output_type": "stream",
     "text": [
      "Balancing class in YOLO-PREPROCESSED2\\validation\\Disgust to 390 images.\n"
     ]
    },
    {
     "name": "stderr",
     "output_type": "stream",
     "text": [
      "Processing Disgust - test: 100%|██████████| 265/265 [00:01<00:00, 256.91it/s]\n"
     ]
    },
    {
     "name": "stdout",
     "output_type": "stream",
     "text": [
      "Balancing class in YOLO-PREPROCESSED2\\test\\Disgust to 195 images.\n"
     ]
    },
    {
     "name": "stderr",
     "output_type": "stream",
     "text": [
      "Processing Fear - train: 100%|██████████| 1964/1964 [00:07<00:00, 249.97it/s]\n"
     ]
    },
    {
     "name": "stdout",
     "output_type": "stream",
     "text": [
      "Balancing class in YOLO-PREPROCESSED2\\train\\Fear to 1400 images.\n"
     ]
    },
    {
     "name": "stderr",
     "output_type": "stream",
     "text": [
      "Processing Fear - validation: 100%|██████████| 561/561 [00:02<00:00, 251.24it/s]\n"
     ]
    },
    {
     "name": "stdout",
     "output_type": "stream",
     "text": [
      "Balancing class in YOLO-PREPROCESSED2\\validation\\Fear to 420 images.\n"
     ]
    },
    {
     "name": "stderr",
     "output_type": "stream",
     "text": [
      "Processing Fear - test: 100%|██████████| 281/281 [00:01<00:00, 252.03it/s]\n"
     ]
    },
    {
     "name": "stdout",
     "output_type": "stream",
     "text": [
      "Balancing class in YOLO-PREPROCESSED2\\test\\Fear to 210 images.\n"
     ]
    },
    {
     "name": "stderr",
     "output_type": "stream",
     "text": [
      "Processing Happy - train: 100%|██████████| 326/326 [00:01<00:00, 251.75it/s]\n"
     ]
    },
    {
     "name": "stdout",
     "output_type": "stream",
     "text": [
      "Balancing class in YOLO-PREPROCESSED2\\train\\Happy to 2500 images.\n"
     ]
    },
    {
     "name": "stderr",
     "output_type": "stream",
     "text": [
      "Processing Happy - validation: 100%|██████████| 93/93 [00:00<00:00, 245.38it/s]\n"
     ]
    },
    {
     "name": "stdout",
     "output_type": "stream",
     "text": [
      "Balancing class in YOLO-PREPROCESSED2\\validation\\Happy to 750 images.\n"
     ]
    },
    {
     "name": "stderr",
     "output_type": "stream",
     "text": [
      "Processing Happy - test: 100%|██████████| 47/47 [00:00<00:00, 231.53it/s]\n"
     ]
    },
    {
     "name": "stdout",
     "output_type": "stream",
     "text": [
      "Balancing class in YOLO-PREPROCESSED2\\test\\Happy to 375 images.\n"
     ]
    },
    {
     "name": "stderr",
     "output_type": "stream",
     "text": [
      "Processing Neutral - train: 100%|██████████| 724/724 [00:02<00:00, 274.65it/s]\n"
     ]
    },
    {
     "name": "stdout",
     "output_type": "stream",
     "text": [
      "Balancing class in YOLO-PREPROCESSED2\\train\\Neutral to 2500 images.\n"
     ]
    },
    {
     "name": "stderr",
     "output_type": "stream",
     "text": [
      "Processing Neutral - validation: 100%|██████████| 207/207 [00:00<00:00, 284.33it/s]\n"
     ]
    },
    {
     "name": "stdout",
     "output_type": "stream",
     "text": [
      "Balancing class in YOLO-PREPROCESSED2\\validation\\Neutral to 750 images.\n"
     ]
    },
    {
     "name": "stderr",
     "output_type": "stream",
     "text": [
      "Processing Neutral - test: 100%|██████████| 104/104 [00:00<00:00, 265.11it/s]\n"
     ]
    },
    {
     "name": "stdout",
     "output_type": "stream",
     "text": [
      "Balancing class in YOLO-PREPROCESSED2\\test\\Neutral to 375 images.\n"
     ]
    },
    {
     "name": "stderr",
     "output_type": "stream",
     "text": [
      "Processing Sad - train: 100%|██████████| 1581/1581 [00:06<00:00, 253.13it/s]\n"
     ]
    },
    {
     "name": "stdout",
     "output_type": "stream",
     "text": [
      "Balancing class in YOLO-PREPROCESSED2\\train\\Sad to 2500 images.\n"
     ]
    },
    {
     "name": "stderr",
     "output_type": "stream",
     "text": [
      "Processing Sad - validation: 100%|██████████| 452/452 [00:01<00:00, 280.98it/s]\n"
     ]
    },
    {
     "name": "stdout",
     "output_type": "stream",
     "text": [
      "Balancing class in YOLO-PREPROCESSED2\\validation\\Sad to 750 images.\n"
     ]
    },
    {
     "name": "stderr",
     "output_type": "stream",
     "text": [
      "Processing Sad - test: 100%|██████████| 226/226 [00:00<00:00, 276.90it/s]\n"
     ]
    },
    {
     "name": "stdout",
     "output_type": "stream",
     "text": [
      "Balancing class in YOLO-PREPROCESSED2\\test\\Sad to 375 images.\n"
     ]
    },
    {
     "name": "stderr",
     "output_type": "stream",
     "text": [
      "Processing Surprise - train: 100%|██████████| 2256/2256 [00:08<00:00, 260.56it/s]\n"
     ]
    },
    {
     "name": "stdout",
     "output_type": "stream",
     "text": [
      "Balancing class in YOLO-PREPROCESSED2\\train\\Surprise to 1500 images.\n"
     ]
    },
    {
     "name": "stderr",
     "output_type": "stream",
     "text": [
      "Processing Surprise - validation: 100%|██████████| 645/645 [00:02<00:00, 243.85it/s]\n"
     ]
    },
    {
     "name": "stdout",
     "output_type": "stream",
     "text": [
      "Balancing class in YOLO-PREPROCESSED2\\validation\\Surprise to 450 images.\n"
     ]
    },
    {
     "name": "stderr",
     "output_type": "stream",
     "text": [
      "Processing Surprise - test: 100%|██████████| 323/323 [00:01<00:00, 253.85it/s]"
     ]
    },
    {
     "name": "stdout",
     "output_type": "stream",
     "text": [
      "Balancing class in YOLO-PREPROCESSED2\\test\\Surprise to 225 images.\n",
      "Dataset successfully processed, balanced, and split!\n"
     ]
    },
    {
     "name": "stderr",
     "output_type": "stream",
     "text": [
      "\n"
     ]
    }
   ],
   "source": [
    "# Execute the function\n",
    "process_and_split()\n",
    "print(\"Dataset successfully processed, balanced, and split!\")"
   ]
  },
  {
   "cell_type": "code",
   "execution_count": null,
   "metadata": {},
   "outputs": [],
   "source": []
  }
 ],
 "metadata": {
  "kernelspec": {
   "display_name": "Python 3",
   "language": "python",
   "name": "python3"
  },
  "language_info": {
   "codemirror_mode": {
    "name": "ipython",
    "version": 3
   },
   "file_extension": ".py",
   "mimetype": "text/x-python",
   "name": "python",
   "nbconvert_exporter": "python",
   "pygments_lexer": "ipython3",
   "version": "3.12.3"
  }
 },
 "nbformat": 4,
 "nbformat_minor": 2
}
