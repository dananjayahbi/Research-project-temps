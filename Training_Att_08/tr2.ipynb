{
 "cells": [
  {
   "cell_type": "code",
   "execution_count": 19,
   "metadata": {},
   "outputs": [],
   "source": [
    "import os\n",
    "import torch\n",
    "import torch.nn as nn\n",
    "import torch.optim as optim\n",
    "from torchvision import transforms, datasets\n",
    "from torch.utils.data import DataLoader\n",
    "from tqdm import tqdm\n",
    "from timm import create_model\n",
    "from focal_loss import FocalLoss\n",
    "from lookahead_pytorch import Lookahead\n",
    "from face_recognition import face_locations\n",
    "import numpy as np\n",
    "from collections import defaultdict\n",
    "import torch.nn.functional as F\n",
    "from sklearn.utils.class_weight import compute_class_weight"
   ]
  },
  {
   "cell_type": "code",
   "execution_count": 20,
   "metadata": {},
   "outputs": [],
   "source": [
    "# Paths\n",
    "data_dir = \"../DATA_PREPARE_ATT_02/AffectNet\"\n",
    "model_save_path = \"efficientnet_b2_emotion_model.pth\"\n",
    "checkpoint_path = \"adaptive_training_checkpoint_efficientnet_b2.pth\""
   ]
  },
  {
   "cell_type": "code",
   "execution_count": 21,
   "metadata": {},
   "outputs": [
    {
     "name": "stdout",
     "output_type": "stream",
     "text": [
      "Using device: cuda\n"
     ]
    }
   ],
   "source": [
    "# Configuration\n",
    "min_batch_size, max_batch_size = 16, 64\n",
    "initial_batch_size = 16\n",
    "initial_lr = 1e-3\n",
    "num_classes = 8\n",
    "device = torch.device(\"cuda\" if torch.cuda.is_available() else \"cpu\")\n",
    "print(f\"Using device: {device}\")\n",
    "\n",
    "# Emotion categories\n",
    "emotion_classes = [\"Anger\", \"Contempt\", \"Disgust\", \"Fear\", \"Happy\", \"Neutral\", \"Sad\", \"Surprise\"]\n"
   ]
  },
  {
   "cell_type": "code",
   "execution_count": 22,
   "metadata": {},
   "outputs": [],
   "source": [
    "# Region-of-Interest Detection\n",
    "def detect_roi(image_tensor):\n",
    "    \"\"\"Focuses on facial regions like eyes and mouth.\"\"\"\n",
    "    images_np = (image_tensor.permute(1, 2, 0).numpy() * 255).astype(np.uint8)\n",
    "    faces = face_locations(images_np)\n",
    "    if faces:\n",
    "        top, right, bottom, left = faces[0]  # Assume first detected face\n",
    "        cropped = images_np[top:bottom, left:right]\n",
    "        return torch.tensor(cropped).permute(2, 0, 1).float() / 255.0\n",
    "    return image_tensor  # If no face found, return original image"
   ]
  },
  {
   "cell_type": "code",
   "execution_count": 23,
   "metadata": {},
   "outputs": [],
   "source": [
    "# Data Preparation\n",
    "def prepare_data_loaders(data_dir, batch_size, augmentations):\n",
    "    train_transforms = transforms.Compose(augmentations + [\n",
    "        transforms.ToTensor(),\n",
    "        transforms.Normalize(mean=[0.5, 0.5, 0.5], std=[0.5, 0.5, 0.5]),\n",
    "    ])\n",
    "    test_transforms = transforms.Compose([\n",
    "        transforms.Resize((260, 260)),\n",
    "        transforms.ToTensor(),\n",
    "        transforms.Normalize(mean=[0.5, 0.5, 0.5], std=[0.5, 0.5, 0.5]),\n",
    "    ])\n",
    "\n",
    "    print(\"Loading datasets...\")\n",
    "    train_dataset = datasets.ImageFolder(os.path.join(data_dir, \"train\"), transform=train_transforms)\n",
    "    val_dataset = datasets.ImageFolder(os.path.join(data_dir, \"val\"), transform=test_transforms)\n",
    "\n",
    "    train_loader = DataLoader(train_dataset, batch_size=batch_size, shuffle=True, num_workers=4, pin_memory=True)\n",
    "    val_loader = DataLoader(val_dataset, batch_size=batch_size, shuffle=False, num_workers=4, pin_memory=True)\n",
    "\n",
    "    return train_loader, val_loader, train_dataset"
   ]
  },
  {
   "cell_type": "code",
   "execution_count": 24,
   "metadata": {},
   "outputs": [],
   "source": [
    "# Load Model with CBAM\n",
    "def load_model(num_classes):\n",
    "    print(\"Loading EfficientNet_b2 model with CBAM...\")\n",
    "    model = create_model('efficientnet_b2', pretrained=True, num_classes=num_classes, in_chans=3)\n",
    "    for param in model.parameters():\n",
    "        param.requires_grad = False\n",
    "    for param in model.get_classifier().parameters():\n",
    "        param.requires_grad = True\n",
    "    return model.to(device)\n",
    "\n",
    "# Adjust Trainable Layers Dynamically\n",
    "def adjust_trainable_layers(model, num_layers_to_unfreeze):\n",
    "    total_layers = len(list(model.parameters()))\n",
    "    layers_to_unfreeze = int(total_layers * (num_layers_to_unfreeze / 100))\n",
    "    for i, param in enumerate(model.parameters()):\n",
    "        param.requires_grad = i >= total_layers - layers_to_unfreeze"
   ]
  },
  {
   "cell_type": "code",
   "execution_count": 25,
   "metadata": {},
   "outputs": [],
   "source": [
    "# Dynamically Update Augmentations\n",
    "def update_augmentations(augmentations, epoch_performance):\n",
    "    \"\"\"\n",
    "    Dynamically adjusts data augmentations based on epoch performance.\n",
    "\n",
    "    Args:\n",
    "        augmentations (list): Current list of augmentations.\n",
    "        epoch_performance (dict): Dictionary containing performance metrics (val_accuracy, train_loss, etc.).\n",
    "\n",
    "    Returns:\n",
    "        list: Updated list of augmentations.\n",
    "    \"\"\"\n",
    "    # If validation accuracy is low, add stronger augmentations to increase robustness\n",
    "    if epoch_performance['val_accuracy'] < 0.7:\n",
    "        augmentations.append(transforms.RandomApply([\n",
    "            transforms.ColorJitter(brightness=0.3, contrast=0.3, saturation=0.3, hue=0.1),\n",
    "            transforms.RandomGrayscale(p=0.2),\n",
    "            transforms.RandomPerspective(distortion_scale=0.2, p=0.2),\n",
    "        ], p=0.5))\n",
    "        augmentations.append(transforms.RandomErasing(p=0.2))\n",
    "\n",
    "    # If the training loss is very low (indicating potential overfitting), reduce augmentation intensity\n",
    "    elif epoch_performance['train_loss'] < 0.3:\n",
    "        if len(augmentations) > 0:\n",
    "            augmentations.pop()\n",
    "\n",
    "    # Add specific augmentations for balancing performance\n",
    "    if epoch_performance['val_accuracy'] >= 0.7 and epoch_performance['val_accuracy'] < 0.8:\n",
    "        if not any(isinstance(aug, transforms.RandomRotation) for aug in augmentations):\n",
    "            augmentations.insert(0, transforms.RandomRotation(degrees=15))\n",
    "        if not any(isinstance(aug, transforms.RandomHorizontalFlip) for aug in augmentations):\n",
    "            augmentations.insert(0, transforms.RandomHorizontalFlip(p=0.5))\n",
    "        if not any(isinstance(aug, transforms.RandomResizedCrop) for aug in augmentations):\n",
    "            augmentations.insert(0, transforms.RandomResizedCrop(size=(260, 260), scale=(0.8, 1.0)))\n",
    "\n",
    "    # If validation accuracy is plateauing, introduce aggressive augmentations to break stagnation\n",
    "    if epoch_performance.get('plateau', False):\n",
    "        augmentations.extend([\n",
    "            transforms.RandomAffine(degrees=15, translate=(0.1, 0.1), scale=(0.9, 1.1), shear=10),\n",
    "            transforms.GaussianBlur(kernel_size=(5, 5), sigma=(0.1, 2.0))\n",
    "        ])\n",
    "\n",
    "    return augmentations"
   ]
  },
  {
   "cell_type": "code",
   "execution_count": 26,
   "metadata": {},
   "outputs": [],
   "source": [
    "# Adjust Batch Size Dynamically\n",
    "def adjust_batch_size(current_batch_size, epoch_performance):\n",
    "    if epoch_performance['val_accuracy'] < 0.5:\n",
    "        return min(current_batch_size + 8, max_batch_size)\n",
    "    elif epoch_performance['val_accuracy'] > 0.75:\n",
    "        return max(current_batch_size - 8, min_batch_size)\n",
    "    return current_batch_size"
   ]
  },
  {
   "cell_type": "code",
   "execution_count": 27,
   "metadata": {},
   "outputs": [],
   "source": [
    "# Emotion-specific Loss Weighting\n",
    "def calculate_emotion_weights(train_dataset, num_classes):\n",
    "    labels = [sample[1] for sample in train_dataset.samples]\n",
    "    class_weights = compute_class_weight('balanced', classes=np.arange(num_classes), y=labels)\n",
    "    return torch.tensor(class_weights, dtype=torch.float).to(device)"
   ]
  },
  {
   "cell_type": "code",
   "execution_count": 28,
   "metadata": {},
   "outputs": [],
   "source": [
    "# Training Loop\n",
    "def train_model(model, train_loader, val_loader, optimizer, scheduler, augmentations, num_epochs, max_epochs):\n",
    "    best_accuracy = 0\n",
    "    epoch_performance = defaultdict(float)\n",
    "    num_layers_to_unfreeze = 10\n",
    "\n",
    "    for epoch in range(num_epochs, max_epochs):\n",
    "        print(f\"\\nEpoch {epoch+1}/{max_epochs}\")\n",
    "        train_loss, val_loss, correct, total = 0.0, 0.0, 0, 0\n",
    "        model.train()\n",
    "\n",
    "        # Training\n",
    "        for inputs, labels in tqdm(train_loader, desc=\"Training\"):\n",
    "            inputs, labels = inputs.to(device), labels.to(device)\n",
    "            optimizer.zero_grad()\n",
    "            outputs = model(inputs)\n",
    "            outputs_probabilities = F.softmax(outputs, dim=1)  # Convert logits to probabilities\n",
    "            loss = criterion(outputs_probabilities, labels)\n",
    "            loss.backward()\n",
    "            optimizer.step()\n",
    "            train_loss += loss.item()\n",
    "\n",
    "        # Validation\n",
    "        model.eval()\n",
    "        with torch.no_grad():\n",
    "            for inputs, labels in tqdm(val_loader, desc=\"Validating\"):\n",
    "                inputs, labels = inputs.to(device), labels.to(device)\n",
    "                outputs = model(inputs)\n",
    "                outputs_probabilities = F.softmax(outputs, dim=1)  # Convert logits to probabilities\n",
    "                loss = criterion(outputs_probabilities, labels)  # Use probabilities with FocalLoss\n",
    "                val_loss += loss.item()\n",
    "                _, predicted = torch.max(outputs, 1)  # Use logits for prediction\n",
    "                total += labels.size(0)\n",
    "                correct += (predicted == labels).sum().item()\n",
    "\n",
    "        val_accuracy = correct / total\n",
    "        train_loss /= len(train_loader)\n",
    "        val_loss /= len(val_loader)\n",
    "\n",
    "        # Log Performance\n",
    "        epoch_performance['train_loss'] = train_loss\n",
    "        epoch_performance['val_loss'] = val_loss\n",
    "        epoch_performance['val_accuracy'] = val_accuracy\n",
    "\n",
    "        print(f\"Train Loss: {train_loss:.4f}, Val Loss: {val_loss:.4f}, Val Accuracy: {val_accuracy:.2f}\")\n",
    "\n",
    "        # Save Best Model\n",
    "        if val_accuracy > best_accuracy:\n",
    "            best_accuracy = val_accuracy\n",
    "            torch.save(model.state_dict(), model_save_path)\n",
    "            print(f\"New best model saved with accuracy: {val_accuracy:.2f}\")\n",
    "\n",
    "        # Update Learning Rate\n",
    "        scheduler.step(val_loss)\n",
    "\n",
    "        # Adjust Training Parameters\n",
    "        adjust_trainable_layers(model, num_layers_to_unfreeze)\n",
    "        num_layers_to_unfreeze += 10\n",
    "        augmentations = update_augmentations(augmentations, epoch_performance)\n",
    "\n",
    "        # Save Checkpoint\n",
    "        checkpoint = {'model': model.state_dict(), 'optimizer': optimizer.state_dict(), 'epoch': epoch}\n",
    "        torch.save(checkpoint, checkpoint_path)\n",
    "\n",
    "        # Dynamic Epochs\n",
    "        if epoch > 10 and val_accuracy > 0.8:\n",
    "            print(\"Stopping early as accuracy is satisfactory.\")\n",
    "            break"
   ]
  },
  {
   "cell_type": "code",
   "execution_count": 31,
   "metadata": {},
   "outputs": [
    {
     "name": "stdout",
     "output_type": "stream",
     "text": [
      "Loading datasets...\n",
      "Loading EfficientNet_b2 model with CBAM...\n",
      "\n",
      "Epoch 1/50\n"
     ]
    },
    {
     "name": "stderr",
     "output_type": "stream",
     "text": [
      "Training: 100%|██████████| 2500/2500 [16:58<00:00,  2.45it/s]\n",
      "Validating: 100%|██████████| 50/50 [00:08<00:00,  5.64it/s]\n"
     ]
    },
    {
     "name": "stdout",
     "output_type": "stream",
     "text": [
      "Train Loss: 1.8734, Val Loss: 1.8405, Val Accuracy: 0.23\n",
      "New best model saved with accuracy: 0.23\n",
      "\n",
      "Epoch 2/50\n"
     ]
    },
    {
     "name": "stderr",
     "output_type": "stream",
     "text": [
      "Training: 100%|██████████| 2500/2500 [03:15<00:00, 12.80it/s]\n",
      "Validating: 100%|██████████| 50/50 [00:07<00:00,  6.29it/s]\n"
     ]
    },
    {
     "name": "stdout",
     "output_type": "stream",
     "text": [
      "Train Loss: 1.0362, Val Loss: 1.1101, Val Accuracy: 0.41\n",
      "New best model saved with accuracy: 0.41\n",
      "\n",
      "Epoch 3/50\n"
     ]
    },
    {
     "name": "stderr",
     "output_type": "stream",
     "text": [
      "Training: 100%|██████████| 2500/2500 [03:44<00:00, 11.13it/s]\n",
      "Validating: 100%|██████████| 50/50 [00:07<00:00,  6.36it/s]\n"
     ]
    },
    {
     "name": "stdout",
     "output_type": "stream",
     "text": [
      "Train Loss: 0.8282, Val Loss: 1.0138, Val Accuracy: 0.45\n",
      "New best model saved with accuracy: 0.45\n",
      "\n",
      "Epoch 4/50\n"
     ]
    },
    {
     "name": "stderr",
     "output_type": "stream",
     "text": [
      "Training: 100%|██████████| 2500/2500 [04:12<00:00,  9.92it/s]\n",
      "Validating: 100%|██████████| 50/50 [00:08<00:00,  6.07it/s]\n"
     ]
    },
    {
     "name": "stdout",
     "output_type": "stream",
     "text": [
      "Train Loss: 0.7344, Val Loss: 0.9149, Val Accuracy: 0.49\n",
      "New best model saved with accuracy: 0.49\n",
      "\n",
      "Epoch 5/50\n"
     ]
    },
    {
     "name": "stderr",
     "output_type": "stream",
     "text": [
      "Training: 100%|██████████| 2500/2500 [04:47<00:00,  8.70it/s]\n",
      "Validating: 100%|██████████| 50/50 [00:08<00:00,  6.06it/s]\n"
     ]
    },
    {
     "name": "stdout",
     "output_type": "stream",
     "text": [
      "Train Loss: 0.6603, Val Loss: 0.8339, Val Accuracy: 0.51\n",
      "New best model saved with accuracy: 0.51\n",
      "\n",
      "Epoch 6/50\n"
     ]
    },
    {
     "name": "stderr",
     "output_type": "stream",
     "text": [
      "Training: 100%|██████████| 2500/2500 [05:20<00:00,  7.81it/s]\n",
      "Validating: 100%|██████████| 50/50 [00:07<00:00,  6.35it/s]\n"
     ]
    },
    {
     "name": "stdout",
     "output_type": "stream",
     "text": [
      "Train Loss: 0.6014, Val Loss: 0.8190, Val Accuracy: 0.52\n",
      "New best model saved with accuracy: 0.52\n",
      "\n",
      "Epoch 7/50\n"
     ]
    },
    {
     "name": "stderr",
     "output_type": "stream",
     "text": [
      "Training: 100%|██████████| 2500/2500 [05:33<00:00,  7.50it/s]\n",
      "Validating: 100%|██████████| 50/50 [00:07<00:00,  6.33it/s]\n"
     ]
    },
    {
     "name": "stdout",
     "output_type": "stream",
     "text": [
      "Train Loss: 0.5287, Val Loss: 0.8936, Val Accuracy: 0.52\n",
      "\n",
      "Epoch 8/50\n"
     ]
    },
    {
     "name": "stderr",
     "output_type": "stream",
     "text": [
      "Training: 100%|██████████| 2500/2500 [06:01<00:00,  6.92it/s]\n",
      "Validating: 100%|██████████| 50/50 [00:07<00:00,  6.31it/s]\n"
     ]
    },
    {
     "name": "stdout",
     "output_type": "stream",
     "text": [
      "Train Loss: 0.4611, Val Loss: 0.8482, Val Accuracy: 0.53\n",
      "New best model saved with accuracy: 0.53\n",
      "\n",
      "Epoch 9/50\n"
     ]
    },
    {
     "name": "stderr",
     "output_type": "stream",
     "text": [
      "Training: 100%|██████████| 2500/2500 [06:49<00:00,  6.10it/s]\n",
      "Validating: 100%|██████████| 50/50 [00:08<00:00,  5.98it/s]\n"
     ]
    },
    {
     "name": "stdout",
     "output_type": "stream",
     "text": [
      "Train Loss: 0.4041, Val Loss: 0.8619, Val Accuracy: 0.54\n",
      "New best model saved with accuracy: 0.54\n",
      "\n",
      "Epoch 10/50\n"
     ]
    },
    {
     "name": "stderr",
     "output_type": "stream",
     "text": [
      "Training: 100%|██████████| 2500/2500 [07:49<00:00,  5.32it/s]\n",
      "Validating: 100%|██████████| 50/50 [00:07<00:00,  6.26it/s]\n"
     ]
    },
    {
     "name": "stdout",
     "output_type": "stream",
     "text": [
      "Train Loss: 0.1890, Val Loss: 1.1025, Val Accuracy: 0.50\n",
      "\n",
      "Epoch 11/50\n"
     ]
    },
    {
     "name": "stderr",
     "output_type": "stream",
     "text": [
      "Training: 100%|██████████| 2500/2500 [09:08<00:00,  4.56it/s]\n",
      "Validating: 100%|██████████| 50/50 [00:07<00:00,  6.35it/s]\n"
     ]
    },
    {
     "name": "stdout",
     "output_type": "stream",
     "text": [
      "Train Loss: 0.1089, Val Loss: 1.1737, Val Accuracy: 0.52\n",
      "\n",
      "Epoch 12/50\n"
     ]
    },
    {
     "name": "stderr",
     "output_type": "stream",
     "text": [
      "Training: 100%|██████████| 2500/2500 [09:07<00:00,  4.57it/s]\n",
      "Validating: 100%|██████████| 50/50 [00:08<00:00,  6.07it/s]\n"
     ]
    },
    {
     "name": "stdout",
     "output_type": "stream",
     "text": [
      "Train Loss: 0.0912, Val Loss: 1.2420, Val Accuracy: 0.53\n",
      "\n",
      "Epoch 13/50\n"
     ]
    },
    {
     "name": "stderr",
     "output_type": "stream",
     "text": [
      "Training: 100%|██████████| 2500/2500 [09:11<00:00,  4.53it/s]\n",
      "Validating: 100%|██████████| 50/50 [00:07<00:00,  6.29it/s]\n"
     ]
    },
    {
     "name": "stdout",
     "output_type": "stream",
     "text": [
      "Train Loss: 0.0409, Val Loss: 1.3832, Val Accuracy: 0.54\n",
      "\n",
      "Epoch 14/50\n"
     ]
    },
    {
     "name": "stderr",
     "output_type": "stream",
     "text": [
      "Training: 100%|██████████| 2500/2500 [09:12<00:00,  4.53it/s]\n",
      "Validating: 100%|██████████| 50/50 [00:08<00:00,  6.12it/s]\n"
     ]
    },
    {
     "name": "stdout",
     "output_type": "stream",
     "text": [
      "Train Loss: 0.0263, Val Loss: 1.4299, Val Accuracy: 0.54\n",
      "\n",
      "Epoch 15/50\n"
     ]
    },
    {
     "name": "stderr",
     "output_type": "stream",
     "text": [
      "Training: 100%|██████████| 2500/2500 [09:13<00:00,  4.52it/s]\n",
      "Validating: 100%|██████████| 50/50 [00:08<00:00,  6.18it/s]\n"
     ]
    },
    {
     "name": "stdout",
     "output_type": "stream",
     "text": [
      "Train Loss: 0.0261, Val Loss: 1.3713, Val Accuracy: 0.54\n",
      "New best model saved with accuracy: 0.54\n",
      "\n",
      "Epoch 16/50\n"
     ]
    },
    {
     "name": "stderr",
     "output_type": "stream",
     "text": [
      "Training: 100%|██████████| 2500/2500 [09:08<00:00,  4.56it/s]\n",
      "Validating: 100%|██████████| 50/50 [00:07<00:00,  6.34it/s]\n"
     ]
    },
    {
     "name": "stdout",
     "output_type": "stream",
     "text": [
      "Train Loss: 0.0132, Val Loss: 1.4884, Val Accuracy: 0.55\n",
      "New best model saved with accuracy: 0.55\n",
      "\n",
      "Epoch 17/50\n"
     ]
    },
    {
     "name": "stderr",
     "output_type": "stream",
     "text": [
      "Training: 100%|██████████| 2500/2500 [09:11<00:00,  4.53it/s]\n",
      "Validating: 100%|██████████| 50/50 [00:08<00:00,  6.11it/s]\n"
     ]
    },
    {
     "name": "stdout",
     "output_type": "stream",
     "text": [
      "Train Loss: 0.0087, Val Loss: 1.4892, Val Accuracy: 0.54\n",
      "\n",
      "Epoch 18/50\n"
     ]
    },
    {
     "name": "stderr",
     "output_type": "stream",
     "text": [
      "Training: 100%|██████████| 2500/2500 [09:15<00:00,  4.50it/s]\n",
      "Validating: 100%|██████████| 50/50 [00:07<00:00,  6.28it/s]\n"
     ]
    },
    {
     "name": "stdout",
     "output_type": "stream",
     "text": [
      "Train Loss: 0.0086, Val Loss: 1.5495, Val Accuracy: 0.54\n",
      "\n",
      "Epoch 19/50\n"
     ]
    },
    {
     "name": "stderr",
     "output_type": "stream",
     "text": [
      "Training: 100%|██████████| 2500/2500 [09:15<00:00,  4.50it/s]\n",
      "Validating: 100%|██████████| 50/50 [00:08<00:00,  6.23it/s]\n"
     ]
    },
    {
     "name": "stdout",
     "output_type": "stream",
     "text": [
      "Train Loss: 0.0055, Val Loss: 1.6024, Val Accuracy: 0.55\n",
      "\n",
      "Epoch 20/50\n"
     ]
    },
    {
     "name": "stderr",
     "output_type": "stream",
     "text": [
      "Training: 100%|██████████| 2500/2500 [09:11<00:00,  4.53it/s]\n",
      "Validating: 100%|██████████| 50/50 [00:08<00:00,  6.00it/s]\n"
     ]
    },
    {
     "name": "stdout",
     "output_type": "stream",
     "text": [
      "Train Loss: 0.0039, Val Loss: 1.6779, Val Accuracy: 0.54\n",
      "\n",
      "Epoch 21/50\n"
     ]
    },
    {
     "name": "stderr",
     "output_type": "stream",
     "text": [
      "Training: 100%|██████████| 2500/2500 [09:11<00:00,  4.53it/s]\n",
      "Validating: 100%|██████████| 50/50 [00:07<00:00,  6.30it/s]\n"
     ]
    },
    {
     "name": "stdout",
     "output_type": "stream",
     "text": [
      "Train Loss: 0.0044, Val Loss: 1.6805, Val Accuracy: 0.55\n",
      "New best model saved with accuracy: 0.55\n",
      "\n",
      "Epoch 22/50\n"
     ]
    },
    {
     "name": "stderr",
     "output_type": "stream",
     "text": [
      "Training: 100%|██████████| 2500/2500 [09:07<00:00,  4.57it/s]\n",
      "Validating: 100%|██████████| 50/50 [00:08<00:00,  6.21it/s]\n"
     ]
    },
    {
     "name": "stdout",
     "output_type": "stream",
     "text": [
      "Train Loss: 0.0030, Val Loss: 1.7140, Val Accuracy: 0.56\n",
      "New best model saved with accuracy: 0.56\n",
      "\n",
      "Epoch 23/50\n"
     ]
    },
    {
     "name": "stderr",
     "output_type": "stream",
     "text": [
      "Training: 100%|██████████| 2500/2500 [09:11<00:00,  4.53it/s]\n",
      "Validating: 100%|██████████| 50/50 [00:08<00:00,  5.99it/s]\n"
     ]
    },
    {
     "name": "stdout",
     "output_type": "stream",
     "text": [
      "Train Loss: 0.0027, Val Loss: 1.7347, Val Accuracy: 0.56\n",
      "\n",
      "Epoch 24/50\n"
     ]
    },
    {
     "name": "stderr",
     "output_type": "stream",
     "text": [
      "Training: 100%|██████████| 2500/2500 [09:09<00:00,  4.55it/s]\n",
      "Validating: 100%|██████████| 50/50 [00:07<00:00,  6.31it/s]\n"
     ]
    },
    {
     "name": "stdout",
     "output_type": "stream",
     "text": [
      "Train Loss: 0.0026, Val Loss: 1.7087, Val Accuracy: 0.55\n",
      "\n",
      "Epoch 25/50\n"
     ]
    },
    {
     "name": "stderr",
     "output_type": "stream",
     "text": [
      "Training: 100%|██████████| 2500/2500 [09:09<00:00,  4.55it/s]\n",
      "Validating: 100%|██████████| 50/50 [00:08<00:00,  6.08it/s]\n"
     ]
    },
    {
     "name": "stdout",
     "output_type": "stream",
     "text": [
      "Train Loss: 0.0022, Val Loss: 1.7520, Val Accuracy: 0.55\n",
      "\n",
      "Epoch 26/50\n"
     ]
    },
    {
     "name": "stderr",
     "output_type": "stream",
     "text": [
      "Training:   5%|▍         | 120/2500 [00:39<12:59,  3.05it/s] \n"
     ]
    },
    {
     "ename": "KeyboardInterrupt",
     "evalue": "",
     "output_type": "error",
     "traceback": [
      "\u001b[1;31m---------------------------------------------------------------------------\u001b[0m",
      "\u001b[1;31mKeyboardInterrupt\u001b[0m                         Traceback (most recent call last)",
      "Cell \u001b[1;32mIn[31], line 13\u001b[0m\n\u001b[0;32m     10\u001b[0m optimizer \u001b[38;5;241m=\u001b[39m Lookahead(base_optimizer)\n\u001b[0;32m     11\u001b[0m scheduler \u001b[38;5;241m=\u001b[39m optim\u001b[38;5;241m.\u001b[39mlr_scheduler\u001b[38;5;241m.\u001b[39mReduceLROnPlateau(optimizer, mode\u001b[38;5;241m=\u001b[39m\u001b[38;5;124m'\u001b[39m\u001b[38;5;124mmin\u001b[39m\u001b[38;5;124m'\u001b[39m, patience\u001b[38;5;241m=\u001b[39m\u001b[38;5;241m2\u001b[39m, factor\u001b[38;5;241m=\u001b[39m\u001b[38;5;241m0.5\u001b[39m)\n\u001b[1;32m---> 13\u001b[0m \u001b[43mtrain_model\u001b[49m\u001b[43m(\u001b[49m\u001b[43mmodel\u001b[49m\u001b[43m,\u001b[49m\u001b[43m \u001b[49m\u001b[43mtrain_loader\u001b[49m\u001b[43m,\u001b[49m\u001b[43m \u001b[49m\u001b[43mval_loader\u001b[49m\u001b[43m,\u001b[49m\u001b[43m \u001b[49m\u001b[43moptimizer\u001b[49m\u001b[43m,\u001b[49m\u001b[43m \u001b[49m\u001b[43mscheduler\u001b[49m\u001b[43m,\u001b[49m\u001b[43m \u001b[49m\u001b[43maugmentations\u001b[49m\u001b[43m,\u001b[49m\u001b[43m \u001b[49m\u001b[43mnum_epochs\u001b[49m\u001b[38;5;241;43m=\u001b[39;49m\u001b[38;5;241;43m0\u001b[39;49m\u001b[43m,\u001b[49m\u001b[43m \u001b[49m\u001b[43mmax_epochs\u001b[49m\u001b[38;5;241;43m=\u001b[39;49m\u001b[38;5;241;43m50\u001b[39;49m\u001b[43m)\u001b[49m\n",
      "Cell \u001b[1;32mIn[28], line 18\u001b[0m, in \u001b[0;36mtrain_model\u001b[1;34m(model, train_loader, val_loader, optimizer, scheduler, augmentations, num_epochs, max_epochs)\u001b[0m\n\u001b[0;32m     16\u001b[0m outputs \u001b[38;5;241m=\u001b[39m model(inputs)\n\u001b[0;32m     17\u001b[0m outputs_probabilities \u001b[38;5;241m=\u001b[39m F\u001b[38;5;241m.\u001b[39msoftmax(outputs, dim\u001b[38;5;241m=\u001b[39m\u001b[38;5;241m1\u001b[39m)  \u001b[38;5;66;03m# Convert logits to probabilities\u001b[39;00m\n\u001b[1;32m---> 18\u001b[0m loss \u001b[38;5;241m=\u001b[39m \u001b[43mcriterion\u001b[49m\u001b[43m(\u001b[49m\u001b[43moutputs_probabilities\u001b[49m\u001b[43m,\u001b[49m\u001b[43m \u001b[49m\u001b[43mlabels\u001b[49m\u001b[43m)\u001b[49m\n\u001b[0;32m     19\u001b[0m loss\u001b[38;5;241m.\u001b[39mbackward()\n\u001b[0;32m     20\u001b[0m optimizer\u001b[38;5;241m.\u001b[39mstep()\n",
      "File \u001b[1;32mc:\\Users\\Tuf\\anaconda3\\envs\\DeepLearn\\lib\\site-packages\\torch\\nn\\modules\\module.py:1736\u001b[0m, in \u001b[0;36mModule._wrapped_call_impl\u001b[1;34m(self, *args, **kwargs)\u001b[0m\n\u001b[0;32m   1734\u001b[0m     \u001b[38;5;28;01mreturn\u001b[39;00m \u001b[38;5;28mself\u001b[39m\u001b[38;5;241m.\u001b[39m_compiled_call_impl(\u001b[38;5;241m*\u001b[39margs, \u001b[38;5;241m*\u001b[39m\u001b[38;5;241m*\u001b[39mkwargs)  \u001b[38;5;66;03m# type: ignore[misc]\u001b[39;00m\n\u001b[0;32m   1735\u001b[0m \u001b[38;5;28;01melse\u001b[39;00m:\n\u001b[1;32m-> 1736\u001b[0m     \u001b[38;5;28;01mreturn\u001b[39;00m \u001b[38;5;28mself\u001b[39m\u001b[38;5;241m.\u001b[39m_call_impl(\u001b[38;5;241m*\u001b[39margs, \u001b[38;5;241m*\u001b[39m\u001b[38;5;241m*\u001b[39mkwargs)\n",
      "File \u001b[1;32mc:\\Users\\Tuf\\anaconda3\\envs\\DeepLearn\\lib\\site-packages\\torch\\nn\\modules\\module.py:1747\u001b[0m, in \u001b[0;36mModule._call_impl\u001b[1;34m(self, *args, **kwargs)\u001b[0m\n\u001b[0;32m   1742\u001b[0m \u001b[38;5;66;03m# If we don't have any hooks, we want to skip the rest of the logic in\u001b[39;00m\n\u001b[0;32m   1743\u001b[0m \u001b[38;5;66;03m# this function, and just call forward.\u001b[39;00m\n\u001b[0;32m   1744\u001b[0m \u001b[38;5;28;01mif\u001b[39;00m \u001b[38;5;129;01mnot\u001b[39;00m (\u001b[38;5;28mself\u001b[39m\u001b[38;5;241m.\u001b[39m_backward_hooks \u001b[38;5;129;01mor\u001b[39;00m \u001b[38;5;28mself\u001b[39m\u001b[38;5;241m.\u001b[39m_backward_pre_hooks \u001b[38;5;129;01mor\u001b[39;00m \u001b[38;5;28mself\u001b[39m\u001b[38;5;241m.\u001b[39m_forward_hooks \u001b[38;5;129;01mor\u001b[39;00m \u001b[38;5;28mself\u001b[39m\u001b[38;5;241m.\u001b[39m_forward_pre_hooks\n\u001b[0;32m   1745\u001b[0m         \u001b[38;5;129;01mor\u001b[39;00m _global_backward_pre_hooks \u001b[38;5;129;01mor\u001b[39;00m _global_backward_hooks\n\u001b[0;32m   1746\u001b[0m         \u001b[38;5;129;01mor\u001b[39;00m _global_forward_hooks \u001b[38;5;129;01mor\u001b[39;00m _global_forward_pre_hooks):\n\u001b[1;32m-> 1747\u001b[0m     \u001b[38;5;28;01mreturn\u001b[39;00m forward_call(\u001b[38;5;241m*\u001b[39margs, \u001b[38;5;241m*\u001b[39m\u001b[38;5;241m*\u001b[39mkwargs)\n\u001b[0;32m   1749\u001b[0m result \u001b[38;5;241m=\u001b[39m \u001b[38;5;28;01mNone\u001b[39;00m\n\u001b[0;32m   1750\u001b[0m called_always_called_hooks \u001b[38;5;241m=\u001b[39m \u001b[38;5;28mset\u001b[39m()\n",
      "File \u001b[1;32mc:\\Users\\Tuf\\anaconda3\\envs\\DeepLearn\\lib\\site-packages\\focal_loss\\focal_loss.py:77\u001b[0m, in \u001b[0;36mFocalLoss.forward\u001b[1;34m(self, x, target)\u001b[0m\n\u001b[0;32m     76\u001b[0m \u001b[38;5;28;01mdef\u001b[39;00m \u001b[38;5;21mforward\u001b[39m(\u001b[38;5;28mself\u001b[39m, x: Tensor, target: Tensor) \u001b[38;5;241m-\u001b[39m\u001b[38;5;241m>\u001b[39m Tensor:\n\u001b[1;32m---> 77\u001b[0m     \u001b[38;5;28;01massert\u001b[39;00m torch\u001b[38;5;241m.\u001b[39mall((x \u001b[38;5;241m>\u001b[39m\u001b[38;5;241m=\u001b[39m \u001b[38;5;241m0.0\u001b[39m) \u001b[38;5;241m&\u001b[39m (x \u001b[38;5;241m<\u001b[39m\u001b[38;5;241m=\u001b[39m \u001b[38;5;241m1.0\u001b[39m)), \u001b[38;5;167;01mValueError\u001b[39;00m(\n\u001b[0;32m     78\u001b[0m         \u001b[38;5;124m'\u001b[39m\u001b[38;5;124mThe predictions values should be between 0 and 1, \u001b[39m\u001b[38;5;130;01m\\\u001b[39;00m\n\u001b[0;32m     79\u001b[0m \u001b[38;5;124m            make sure to pass the values to sigmoid for binary \u001b[39m\u001b[38;5;130;01m\\\u001b[39;00m\n\u001b[0;32m     80\u001b[0m \u001b[38;5;124m            classification or softmax for multi-class classification\u001b[39m\u001b[38;5;124m'\u001b[39m\n\u001b[0;32m     81\u001b[0m     )\n\u001b[0;32m     82\u001b[0m     mask \u001b[38;5;241m=\u001b[39m target \u001b[38;5;241m==\u001b[39m \u001b[38;5;28mself\u001b[39m\u001b[38;5;241m.\u001b[39mignore_index\n\u001b[0;32m     83\u001b[0m     mask \u001b[38;5;241m=\u001b[39m mask\u001b[38;5;241m.\u001b[39mview(\u001b[38;5;241m-\u001b[39m\u001b[38;5;241m1\u001b[39m)\n",
      "\u001b[1;31mKeyboardInterrupt\u001b[0m: "
     ]
    }
   ],
   "source": [
    "# Main Script\n",
    "augmentations = [transforms.Resize((260, 260))]\n",
    "train_loader, val_loader, train_dataset = prepare_data_loaders(data_dir, initial_batch_size, augmentations)\n",
    "class_weights = calculate_emotion_weights(train_dataset, num_classes)\n",
    "\n",
    "criterion = FocalLoss(gamma=2.0)  # Pass alpha if class weighting is required\n",
    "model = load_model(num_classes)\n",
    "\n",
    "base_optimizer = optim.AdamW(model.parameters(), lr=initial_lr)\n",
    "optimizer = Lookahead(base_optimizer)\n",
    "scheduler = optim.lr_scheduler.ReduceLROnPlateau(optimizer, mode='min', patience=2, factor=0.5)\n",
    "\n",
    "train_model(model, train_loader, val_loader, optimizer, scheduler, augmentations, num_epochs=0, max_epochs=50)"
   ]
  }
 ],
 "metadata": {
  "kernelspec": {
   "display_name": "DeepLearn",
   "language": "python",
   "name": "python3"
  },
  "language_info": {
   "codemirror_mode": {
    "name": "ipython",
    "version": 3
   },
   "file_extension": ".py",
   "mimetype": "text/x-python",
   "name": "python",
   "nbconvert_exporter": "python",
   "pygments_lexer": "ipython3",
   "version": "3.9.20"
  }
 },
 "nbformat": 4,
 "nbformat_minor": 2
}
