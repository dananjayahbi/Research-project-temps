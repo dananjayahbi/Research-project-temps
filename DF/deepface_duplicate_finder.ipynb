{
 "cells": [
  {
   "cell_type": "code",
   "execution_count": 1,
   "metadata": {},
   "outputs": [],
   "source": [
    "import os\n",
    "import shutil\n",
    "import tensorflow as tf\n",
    "from deepface import DeepFace\n",
    "from tqdm import tqdm"
   ]
  },
  {
   "cell_type": "code",
   "execution_count": 2,
   "metadata": {},
   "outputs": [
    {
     "name": "stdout",
     "output_type": "stream",
     "text": [
      "✅ GPU is enabled for DeepFace!\n"
     ]
    }
   ],
   "source": [
    "# Force TensorFlow to use GPU\n",
    "physical_devices = tf.config.experimental.list_physical_devices('GPU')\n",
    "if physical_devices:\n",
    "    tf.config.experimental.set_memory_growth(physical_devices[0], True)\n",
    "    print(\"✅ GPU is enabled for DeepFace!\")"
   ]
  },
  {
   "cell_type": "code",
   "execution_count": 3,
   "metadata": {},
   "outputs": [],
   "source": [
    "# Define input and output directories\n",
    "INPUT_FOLDER = \"./temp/input\"\n",
    "OUTPUT_FOLDER = \"./temp/output\"\n",
    "\n",
    "# Ensure output folder exists\n",
    "if not os.path.exists(OUTPUT_FOLDER):\n",
    "    os.makedirs(OUTPUT_FOLDER)"
   ]
  },
  {
   "cell_type": "code",
   "execution_count": 4,
   "metadata": {},
   "outputs": [
    {
     "name": "stdout",
     "output_type": "stream",
     "text": [
      "Processing 50 images to find distinct ones...\n"
     ]
    }
   ],
   "source": [
    "# Get all image paths in the input folder\n",
    "image_paths = [\n",
    "    os.path.join(INPUT_FOLDER, file) for file in os.listdir(INPUT_FOLDER)\n",
    "    if file.lower().endswith((\".jpg\", \".jpeg\", \".png\"))\n",
    "]\n",
    "\n",
    "# List to store unique images\n",
    "unique_images = []\n",
    "\n",
    "print(f\"Processing {len(image_paths)} images to find distinct ones...\")"
   ]
  },
  {
   "cell_type": "code",
   "execution_count": 5,
   "metadata": {},
   "outputs": [
    {
     "name": "stderr",
     "output_type": "stream",
     "text": [
      "Checking for duplicates: 100%|██████████| 50/50 [00:49<00:00,  1.02it/s]"
     ]
    },
    {
     "name": "stdout",
     "output_type": "stream",
     "text": [
      "Processing complete. Found 15 distinct images.\n",
      "Distinct images saved in: ./temp/output\n"
     ]
    },
    {
     "name": "stderr",
     "output_type": "stream",
     "text": [
      "\n"
     ]
    }
   ],
   "source": [
    "for img_path in tqdm(image_paths, desc=\"Checking for duplicates\"):\n",
    "    is_duplicate = False\n",
    "\n",
    "    # Compare the current image with each already saved unique image\n",
    "    for unique_img in unique_images:\n",
    "        try:\n",
    "            # Use DeepFace for similarity check (uses GPU automatically)\n",
    "            result = DeepFace.verify(img1_path=img_path, img2_path=unique_img, enforce_detection=False)\n",
    "\n",
    "            # If images are similar, mark as duplicate\n",
    "            if result[\"verified\"]:\n",
    "                is_duplicate = True\n",
    "                break  # No need to check further\n",
    "\n",
    "        except Exception as e:\n",
    "            print(f\"Error processing {img_path} -> {e}\")\n",
    "            continue  # Skip to next image if error occurs\n",
    "\n",
    "    # If it's distinct, save it\n",
    "    if not is_duplicate:\n",
    "        unique_images.append(img_path)\n",
    "        shutil.copy(img_path, os.path.join(OUTPUT_FOLDER, os.path.basename(img_path)))\n",
    "\n",
    "print(f\"Processing complete. Found {len(unique_images)} distinct images.\")\n",
    "print(f\"Distinct images saved in: {OUTPUT_FOLDER}\")"
   ]
  }
 ],
 "metadata": {
  "kernelspec": {
   "display_name": "Testings",
   "language": "python",
   "name": "python3"
  },
  "language_info": {
   "codemirror_mode": {
    "name": "ipython",
    "version": 3
   },
   "file_extension": ".py",
   "mimetype": "text/x-python",
   "name": "python",
   "nbconvert_exporter": "python",
   "pygments_lexer": "ipython3",
   "version": "3.9.21"
  }
 },
 "nbformat": 4,
 "nbformat_minor": 2
}
