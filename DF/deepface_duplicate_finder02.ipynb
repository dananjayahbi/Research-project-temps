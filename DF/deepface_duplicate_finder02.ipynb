{
 "cells": [
  {
   "cell_type": "code",
   "execution_count": 4,
   "metadata": {},
   "outputs": [],
   "source": [
    "import os\n",
    "import shutil\n",
    "import numpy as np\n",
    "import imagehash\n",
    "from PIL import Image\n",
    "import tensorflow as tf\n",
    "from collections import defaultdict\n",
    "from deepface import DeepFace\n",
    "from tqdm import tqdm"
   ]
  },
  {
   "cell_type": "code",
   "execution_count": 5,
   "metadata": {},
   "outputs": [
    {
     "name": "stdout",
     "output_type": "stream",
     "text": [
      "✅ GPU is enabled for DeepFace!\n"
     ]
    }
   ],
   "source": [
    "# Force TensorFlow to use GPU\n",
    "physical_devices = tf.config.experimental.list_physical_devices('GPU')\n",
    "if physical_devices:\n",
    "    tf.config.experimental.set_memory_growth(physical_devices[0], True)\n",
    "    print(\"✅ GPU is enabled for DeepFace!\")"
   ]
  },
  {
   "cell_type": "code",
   "execution_count": 7,
   "metadata": {},
   "outputs": [],
   "source": [
    "# Define input and output directories\n",
    "INPUT_FOLDER = \"./temp/input\"\n",
    "OUTPUT_FOLDER = \"./temp/output\"\n",
    "\n",
    "# Ensure output folder exists\n",
    "if not os.path.exists(OUTPUT_FOLDER):\n",
    "    os.makedirs(OUTPUT_FOLDER)"
   ]
  },
  {
   "cell_type": "code",
   "execution_count": 8,
   "metadata": {},
   "outputs": [],
   "source": [
    "# Function to calculate perceptual hash (PHash)\n",
    "def calculate_phash(image_path):\n",
    "    try:\n",
    "        img = Image.open(image_path).convert(\"L\")  # Convert to grayscale\n",
    "        return str(imagehash.phash(img))  # Generate hash\n",
    "    except Exception as e:\n",
    "        print(f\"Error hashing {image_path}: {e}\")\n",
    "        return None"
   ]
  },
  {
   "cell_type": "code",
   "execution_count": 9,
   "metadata": {},
   "outputs": [
    {
     "name": "stdout",
     "output_type": "stream",
     "text": [
      "Processing 50 images to find distinct ones...\n"
     ]
    },
    {
     "name": "stderr",
     "output_type": "stream",
     "text": [
      "Hashing images: 100%|██████████| 50/50 [00:00<00:00, 263.67it/s]\n"
     ]
    }
   ],
   "source": [
    "# Step 1: Group images by PHash (fast pre-filtering)\n",
    "image_hash_groups = defaultdict(list)  # Dictionary to store images per hash\n",
    "\n",
    "image_paths = [\n",
    "    os.path.join(INPUT_FOLDER, file) for file in os.listdir(INPUT_FOLDER)\n",
    "    if file.lower().endswith((\".jpg\", \".jpeg\", \".png\"))\n",
    "]\n",
    "\n",
    "print(f\"Processing {len(image_paths)} images to find distinct ones...\")\n",
    "\n",
    "for img_path in tqdm(image_paths, desc=\"Hashing images\"):\n",
    "    phash = calculate_phash(img_path)\n",
    "    if phash:\n",
    "        image_hash_groups[phash].append(img_path)  # Group images by their hash"
   ]
  },
  {
   "cell_type": "code",
   "execution_count": 10,
   "metadata": {},
   "outputs": [
    {
     "name": "stderr",
     "output_type": "stream",
     "text": [
      "Verifying groups: 100%|██████████| 44/44 [00:47<00:00,  1.08s/it]"
     ]
    },
    {
     "name": "stdout",
     "output_type": "stream",
     "text": [
      "Processing complete. Found 15 distinct images.\n",
      "Distinct images saved in: ./temp/output\n"
     ]
    },
    {
     "name": "stderr",
     "output_type": "stream",
     "text": [
      "\n"
     ]
    }
   ],
   "source": [
    "# Step 2: Verify duplicates within each hash group using DeepFace\n",
    "unique_images = []\n",
    "checked_images = set()  # Track already processed images\n",
    "\n",
    "for hash_val, group in tqdm(image_hash_groups.items(), desc=\"Verifying groups\"):\n",
    "    for img_path in group:\n",
    "        if img_path in checked_images:\n",
    "            continue  # Skip if already checked\n",
    "\n",
    "        is_duplicate = False\n",
    "\n",
    "        # Compare with already confirmed unique images in the same group\n",
    "        for unique_img in unique_images:\n",
    "            try:\n",
    "                # Use DeepFace for precise verification\n",
    "                result = DeepFace.verify(img1_path=img_path, img2_path=unique_img, enforce_detection=False)\n",
    "\n",
    "                # If DeepFace considers them identical, mark as duplicate\n",
    "                if result[\"verified\"]:\n",
    "                    is_duplicate = True\n",
    "                    break  # No need to check further\n",
    "\n",
    "            except Exception as e:\n",
    "                print(f\"Error processing {img_path} -> {e}\")\n",
    "                continue  # Skip this image if error occurs\n",
    "\n",
    "        # If unique, add to final set\n",
    "        if not is_duplicate:\n",
    "            unique_images.append(img_path)\n",
    "            shutil.copy(img_path, os.path.join(OUTPUT_FOLDER, os.path.basename(img_path)))\n",
    "\n",
    "        checked_images.add(img_path)\n",
    "\n",
    "print(f\"Processing complete. Found {len(unique_images)} distinct images.\")\n",
    "print(f\"Distinct images saved in: {OUTPUT_FOLDER}\")"
   ]
  }
 ],
 "metadata": {
  "kernelspec": {
   "display_name": "Testings",
   "language": "python",
   "name": "python3"
  },
  "language_info": {
   "codemirror_mode": {
    "name": "ipython",
    "version": 3
   },
   "file_extension": ".py",
   "mimetype": "text/x-python",
   "name": "python",
   "nbconvert_exporter": "python",
   "pygments_lexer": "ipython3",
   "version": "3.9.21"
  }
 },
 "nbformat": 4,
 "nbformat_minor": 2
}
