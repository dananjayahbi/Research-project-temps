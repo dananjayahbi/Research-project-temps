{
 "cells": [
  {
   "cell_type": "code",
   "execution_count": 2,
   "metadata": {},
   "outputs": [],
   "source": [
    "import os\n",
    "import shutil\n",
    "import numpy as np\n",
    "import faiss\n",
    "from deepface import DeepFace\n",
    "from tqdm import tqdm\n",
    "from concurrent.futures import ThreadPoolExecutor\n",
    "from PIL import Image, UnidentifiedImageError\n",
    "import tensorflow as tf"
   ]
  },
  {
   "cell_type": "code",
   "execution_count": 3,
   "metadata": {},
   "outputs": [
    {
     "name": "stdout",
     "output_type": "stream",
     "text": [
      "✅ GPU is enabled for DeepFace!\n"
     ]
    }
   ],
   "source": [
    "# Force TensorFlow to use GPU\n",
    "physical_devices = tf.config.experimental.list_physical_devices('GPU')\n",
    "if physical_devices:\n",
    "    tf.config.experimental.set_memory_growth(physical_devices[0], True)\n",
    "    print(\"✅ GPU is enabled for DeepFace!\")"
   ]
  },
  {
   "cell_type": "code",
   "execution_count": 4,
   "metadata": {},
   "outputs": [],
   "source": [
    "# Define input and output directories\n",
    "INPUT_FOLDER = \"./temp/input\"\n",
    "OUTPUT_FOLDER = \"./temp/output\"\n",
    "\n",
    "# Ensure output folder exists\n",
    "if not os.path.exists(OUTPUT_FOLDER):\n",
    "    os.makedirs(OUTPUT_FOLDER)\n",
    "\n",
    "# DeepFace model for feature extraction\n",
    "DEEPFACE_MODEL = \"VGG-Face\"  # Try \"VGG-Face\" or \"ArcFace\" if needed"
   ]
  },
  {
   "cell_type": "code",
   "execution_count": 5,
   "metadata": {},
   "outputs": [],
   "source": [
    "# Function to extract deep learning-based feature embeddings\n",
    "def extract_embedding(image_path):\n",
    "    try:\n",
    "        embedding = DeepFace.represent(img_path=image_path, model_name=DEEPFACE_MODEL, enforce_detection=False)[0][\"embedding\"]\n",
    "        return np.array(embedding, dtype=np.float32)\n",
    "    except Exception as e:\n",
    "        print(f\"Skipping {image_path}: DeepFace error -> {e}\")\n",
    "        return None"
   ]
  },
  {
   "cell_type": "code",
   "execution_count": 11,
   "metadata": {},
   "outputs": [
    {
     "name": "stdout",
     "output_type": "stream",
     "text": [
      "Extracting feature embeddings from 50 images...\n"
     ]
    },
    {
     "name": "stderr",
     "output_type": "stream",
     "text": [
      "Extracting embeddings: 100%|██████████| 50/50 [00:03<00:00, 15.71it/s]\n"
     ]
    }
   ],
   "source": [
    "# Step 1: Extract feature embeddings for all images\n",
    "image_paths = [\n",
    "    os.path.join(INPUT_FOLDER, file) for file in os.listdir(INPUT_FOLDER)\n",
    "    if file.lower().endswith((\".jpg\", \".jpeg\", \".png\"))\n",
    "]\n",
    "\n",
    "image_embeddings = []\n",
    "valid_image_paths = []\n",
    "\n",
    "print(f\"Extracting feature embeddings from {len(image_paths)} images...\")\n",
    "\n",
    "for img_path in tqdm(image_paths, desc=\"Extracting embeddings\"):\n",
    "    embedding = extract_embedding(img_path)\n",
    "    if embedding is not None:\n",
    "        image_embeddings.append(embedding)\n",
    "        valid_image_paths.append(img_path)\n",
    "\n",
    "image_embeddings = np.array(image_embeddings)"
   ]
  },
  {
   "cell_type": "code",
   "execution_count": 12,
   "metadata": {},
   "outputs": [],
   "source": [
    "# Step 2: Build FAISS index for fast nearest neighbor search\n",
    "dimension = image_embeddings.shape[1]  # Get embedding size\n",
    "index = faiss.IndexFlatL2(dimension)  # L2 distance for similarity search\n",
    "index.add(image_embeddings)  # Add all image embeddings"
   ]
  },
  {
   "cell_type": "code",
   "execution_count": 13,
   "metadata": {},
   "outputs": [
    {
     "name": "stdout",
     "output_type": "stream",
     "text": [
      "Identifying distinct images using FAISS nearest neighbor search...\n"
     ]
    },
    {
     "name": "stderr",
     "output_type": "stream",
     "text": [
      "Verifying images: 100%|██████████| 50/50 [00:07<00:00,  6.40it/s]"
     ]
    },
    {
     "name": "stdout",
     "output_type": "stream",
     "text": [
      "Processing complete. Found 9 distinct images.\n",
      "Distinct images saved in: ./temp/output\n"
     ]
    },
    {
     "name": "stderr",
     "output_type": "stream",
     "text": [
      "\n"
     ]
    }
   ],
   "source": [
    "# Step 3: Identify distinct images\n",
    "unique_images = []\n",
    "checked_images = set()\n",
    "\n",
    "print(\"Identifying distinct images using FAISS nearest neighbor search...\")\n",
    "\n",
    "for i, img_path in tqdm(enumerate(valid_image_paths), total=len(valid_image_paths), desc=\"Verifying images\"):\n",
    "    if img_path in checked_images:\n",
    "        continue\n",
    "\n",
    "    # Find similar images\n",
    "    distances, indices = index.search(np.array([image_embeddings[i]]), k=10)  # Get top-10 nearest images\n",
    "\n",
    "    is_duplicate = False\n",
    "    for j in indices[0][1:]:  # Skip self-match\n",
    "        if valid_image_paths[j] in checked_images:\n",
    "            continue\n",
    "\n",
    "        try:\n",
    "            # Use DeepFace for final verification\n",
    "            result = DeepFace.verify(img1_path=img_path, img2_path=valid_image_paths[j], enforce_detection=False)\n",
    "            if result.get(\"verified\", False):\n",
    "                is_duplicate = True\n",
    "                break  # Stop if duplicate found\n",
    "        except Exception as e:\n",
    "            print(f\"Skipping {img_path}: DeepFace verification error -> {e}\")\n",
    "            continue\n",
    "\n",
    "    # If not duplicate, save it\n",
    "    if not is_duplicate:\n",
    "        unique_images.append(img_path)\n",
    "        shutil.copy(img_path, os.path.join(OUTPUT_FOLDER, os.path.basename(img_path)))\n",
    "\n",
    "    checked_images.add(img_path)\n",
    "\n",
    "print(f\"Processing complete. Found {len(unique_images)} distinct images.\")\n",
    "print(f\"Distinct images saved in: {OUTPUT_FOLDER}\")"
   ]
  }
 ],
 "metadata": {
  "kernelspec": {
   "display_name": "Testings",
   "language": "python",
   "name": "python3"
  },
  "language_info": {
   "codemirror_mode": {
    "name": "ipython",
    "version": 3
   },
   "file_extension": ".py",
   "mimetype": "text/x-python",
   "name": "python",
   "nbconvert_exporter": "python",
   "pygments_lexer": "ipython3",
   "version": "3.9.21"
  }
 },
 "nbformat": 4,
 "nbformat_minor": 2
}
