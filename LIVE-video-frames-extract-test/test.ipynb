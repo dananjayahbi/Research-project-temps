{
 "cells": [
  {
   "cell_type": "code",
   "execution_count": null,
   "metadata": {
    "vscode": {
     "languageId": "plaintext"
    }
   },
   "outputs": [],
   "source": [
    "import cv2\n",
    "import os\n",
    "\n",
    "# Function to extract frames from live webcam feed\n",
    "def extract_frames_from_webcam(output_dir, frame_skip=1):\n",
    "    \"\"\"\n",
    "    Extract frames from a live webcam feed and save them as image files.\n",
    "\n",
    "    Parameters:\n",
    "        output_dir (str): Directory to save the extracted frames.\n",
    "        frame_skip (int): Number of frames to skip before extracting the next frame.\n",
    "    \"\"\"\n",
    "    # Ensure output directory exists\n",
    "    if not os.path.exists(output_dir):\n",
    "        os.makedirs(output_dir)\n",
    "    \n",
    "    # Open the webcam (0 is the default camera)\n",
    "    cap = cv2.VideoCapture(0)\n",
    "    if not cap.isOpened():\n",
    "        print(\"Error: Cannot access webcam.\")\n",
    "        return\n",
    "    \n",
    "    frame_idx = 0\n",
    "    extracted_count = 0\n",
    "\n",
    "    print(\"Press Ctrl+C to quit the script.\")\n",
    "    try:\n",
    "        while True:\n",
    "            ret, frame = cap.read()\n",
    "            if not ret:\n",
    "                print(\"Error: Cannot read frame from webcam.\")\n",
    "                break\n",
    "            \n",
    "            # Save the frame if it's the right interval\n",
    "            if frame_idx % frame_skip == 0:\n",
    "                output_path = os.path.join(output_dir, f\"frame_{frame_idx:06d}.jpg\")\n",
    "                cv2.imwrite(output_path, frame)\n",
    "                extracted_count += 1\n",
    "            \n",
    "            frame_idx += 1\n",
    "    except KeyboardInterrupt:\n",
    "        print(\"Script stopped by the user.\")\n",
    "    finally:\n",
    "        cap.release()\n",
    "        print(f\"Extracted {extracted_count} frames and saved to {output_dir}.\")\n",
    "\n",
    "# Example usage\n",
    "output_dir = \"webcam_frames\"  # Directory to save frames\n",
    "frame_skip = 30  # Extract one frame every 30 frames\n",
    "\n",
    "extract_frames_from_webcam(output_dir, frame_skip)\n"
   ]
  }
 ],
 "metadata": {
  "language_info": {
   "name": "python"
  }
 },
 "nbformat": 4,
 "nbformat_minor": 2
}
